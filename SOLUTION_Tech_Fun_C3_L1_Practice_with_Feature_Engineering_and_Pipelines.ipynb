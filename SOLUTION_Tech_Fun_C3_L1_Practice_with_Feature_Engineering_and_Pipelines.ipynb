{
  "nbformat": 4,
  "nbformat_minor": 0,
  "metadata": {
    "colab": {
      "name": "SOLUTION Tech Fun C3 L1 Practice with Feature Engineering and Pipelines.ipynb",
      "provenance": [],
      "collapsed_sections": [],
      "toc_visible": true,
      "include_colab_link": true
    },
    "kernelspec": {
      "name": "python3",
      "display_name": "Python 3"
    },
    "language_info": {
      "name": "python"
    },
    "widgets": {
      "application/vnd.jupyter.widget-state+json": {
        "f007f242288a4aac91e16e3efa5b0aca": {
          "model_module": "@jupyter-widgets/controls",
          "model_name": "VBoxModel",
          "model_module_version": "1.5.0",
          "state": {
            "_view_name": "VBoxView",
            "_dom_classes": [
              "widget-interact"
            ],
            "_model_name": "VBoxModel",
            "_view_module": "@jupyter-widgets/controls",
            "_model_module_version": "1.5.0",
            "_view_count": null,
            "_view_module_version": "1.5.0",
            "box_style": "",
            "layout": "IPY_MODEL_06ea37c5922d499aa9a50f1ba86ecf8b",
            "_model_module": "@jupyter-widgets/controls",
            "children": [
              "IPY_MODEL_79b2b4b895764121850261cde6762a22",
              "IPY_MODEL_25e435ccc74f4e26854ef96c385fa062"
            ]
          }
        },
        "06ea37c5922d499aa9a50f1ba86ecf8b": {
          "model_module": "@jupyter-widgets/base",
          "model_name": "LayoutModel",
          "model_module_version": "1.2.0",
          "state": {
            "_view_name": "LayoutView",
            "grid_template_rows": null,
            "right": null,
            "justify_content": null,
            "_view_module": "@jupyter-widgets/base",
            "overflow": null,
            "_model_module_version": "1.2.0",
            "_view_count": null,
            "flex_flow": null,
            "width": null,
            "min_width": null,
            "border": null,
            "align_items": null,
            "bottom": null,
            "_model_module": "@jupyter-widgets/base",
            "top": null,
            "grid_column": null,
            "overflow_y": null,
            "overflow_x": null,
            "grid_auto_flow": null,
            "grid_area": null,
            "grid_template_columns": null,
            "flex": null,
            "_model_name": "LayoutModel",
            "justify_items": null,
            "grid_row": null,
            "max_height": null,
            "align_content": null,
            "visibility": null,
            "align_self": null,
            "height": null,
            "min_height": null,
            "padding": null,
            "grid_auto_rows": null,
            "grid_gap": null,
            "max_width": null,
            "order": null,
            "_view_module_version": "1.2.0",
            "grid_template_areas": null,
            "object_position": null,
            "object_fit": null,
            "grid_auto_columns": null,
            "margin": null,
            "display": null,
            "left": null
          }
        },
        "79b2b4b895764121850261cde6762a22": {
          "model_module": "@jupyter-widgets/controls",
          "model_name": "DropdownModel",
          "model_module_version": "1.5.0",
          "state": {
            "_options_labels": [
              "VIF Factor",
              "Skew",
              "Kurtosis"
            ],
            "_view_name": "DropdownView",
            "style": "IPY_MODEL_067bd564e8604b7e8a1405147a6c9165",
            "_dom_classes": [],
            "description": "metric",
            "_model_name": "DropdownModel",
            "index": 2,
            "_view_module": "@jupyter-widgets/controls",
            "_model_module_version": "1.5.0",
            "_view_count": null,
            "disabled": false,
            "_view_module_version": "1.5.0",
            "description_tooltip": null,
            "_model_module": "@jupyter-widgets/controls",
            "layout": "IPY_MODEL_2d71eb11426f4578a67d7016d5023470"
          }
        },
        "25e435ccc74f4e26854ef96c385fa062": {
          "model_module": "@jupyter-widgets/output",
          "model_name": "OutputModel",
          "model_module_version": "1.0.0",
          "state": {
            "_view_name": "OutputView",
            "msg_id": "",
            "_dom_classes": [],
            "_model_name": "OutputModel",
            "outputs": [
              {
                "output_type": "display_data",
                "metadata": {
                  "tags": [],
                  "needs_background": "light"
                },
                "image/png": "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\n",
                "text/plain": "<Figure size 720x720 with 1 Axes>"
              }
            ],
            "_view_module": "@jupyter-widgets/output",
            "_model_module_version": "1.0.0",
            "_view_count": null,
            "_view_module_version": "1.0.0",
            "layout": "IPY_MODEL_a7f50d13ae84452a94f6570533df9618",
            "_model_module": "@jupyter-widgets/output"
          }
        },
        "067bd564e8604b7e8a1405147a6c9165": {
          "model_module": "@jupyter-widgets/controls",
          "model_name": "DescriptionStyleModel",
          "model_module_version": "1.5.0",
          "state": {
            "_view_name": "StyleView",
            "_model_name": "DescriptionStyleModel",
            "description_width": "",
            "_view_module": "@jupyter-widgets/base",
            "_model_module_version": "1.5.0",
            "_view_count": null,
            "_view_module_version": "1.2.0",
            "_model_module": "@jupyter-widgets/controls"
          }
        },
        "2d71eb11426f4578a67d7016d5023470": {
          "model_module": "@jupyter-widgets/base",
          "model_name": "LayoutModel",
          "model_module_version": "1.2.0",
          "state": {
            "_view_name": "LayoutView",
            "grid_template_rows": null,
            "right": null,
            "justify_content": null,
            "_view_module": "@jupyter-widgets/base",
            "overflow": null,
            "_model_module_version": "1.2.0",
            "_view_count": null,
            "flex_flow": null,
            "width": null,
            "min_width": null,
            "border": null,
            "align_items": null,
            "bottom": null,
            "_model_module": "@jupyter-widgets/base",
            "top": null,
            "grid_column": null,
            "overflow_y": null,
            "overflow_x": null,
            "grid_auto_flow": null,
            "grid_area": null,
            "grid_template_columns": null,
            "flex": null,
            "_model_name": "LayoutModel",
            "justify_items": null,
            "grid_row": null,
            "max_height": null,
            "align_content": null,
            "visibility": null,
            "align_self": null,
            "height": null,
            "min_height": null,
            "padding": null,
            "grid_auto_rows": null,
            "grid_gap": null,
            "max_width": null,
            "order": null,
            "_view_module_version": "1.2.0",
            "grid_template_areas": null,
            "object_position": null,
            "object_fit": null,
            "grid_auto_columns": null,
            "margin": null,
            "display": null,
            "left": null
          }
        },
        "a7f50d13ae84452a94f6570533df9618": {
          "model_module": "@jupyter-widgets/base",
          "model_name": "LayoutModel",
          "model_module_version": "1.2.0",
          "state": {
            "_view_name": "LayoutView",
            "grid_template_rows": null,
            "right": null,
            "justify_content": null,
            "_view_module": "@jupyter-widgets/base",
            "overflow": null,
            "_model_module_version": "1.2.0",
            "_view_count": null,
            "flex_flow": null,
            "width": null,
            "min_width": null,
            "border": null,
            "align_items": null,
            "bottom": null,
            "_model_module": "@jupyter-widgets/base",
            "top": null,
            "grid_column": null,
            "overflow_y": null,
            "overflow_x": null,
            "grid_auto_flow": null,
            "grid_area": null,
            "grid_template_columns": null,
            "flex": null,
            "_model_name": "LayoutModel",
            "justify_items": null,
            "grid_row": null,
            "max_height": null,
            "align_content": null,
            "visibility": null,
            "align_self": null,
            "height": null,
            "min_height": null,
            "padding": null,
            "grid_auto_rows": null,
            "grid_gap": null,
            "max_width": null,
            "order": null,
            "_view_module_version": "1.2.0",
            "grid_template_areas": null,
            "object_position": null,
            "object_fit": null,
            "grid_auto_columns": null,
            "margin": null,
            "display": null,
            "left": null
          }
        }
      }
    }
  },
  "cells": [
    {
      "cell_type": "markdown",
      "metadata": {
        "id": "view-in-github",
        "colab_type": "text"
      },
      "source": [
        "<a href=\"https://colab.research.google.com/github/reemda/Technology_Fundamentals_Course/blob/main/SOLUTION_Tech_Fun_C3_L1_Practice_with_Feature_Engineering_and_Pipelines.ipynb\" target=\"_parent\"><img src=\"https://colab.research.google.com/assets/colab-badge.svg\" alt=\"Open In Colab\"/></a>"
      ]
    },
    {
      "cell_type": "markdown",
      "metadata": {
        "id": "3rZ3ZWSkhxyS"
      },
      "source": [
        "# Technology Fundamentals Course 3, Lab 1: Practice with Feature Engineering and Pipelines\n",
        "\n",
        "**Instructor**: Wesley Beckner\n",
        "\n",
        "**Contact**: wesleybeckner@gmail.com\n",
        "\n",
        "**Teaching Assitants**: Varsha Bang, Harsha Vardhan\n",
        "\n",
        "**Contact**: vbang@uw.edu, harshav@uw.edu\n",
        "<br>\n",
        "\n",
        "---\n",
        "\n",
        "<br>\n",
        "\n",
        "In this lab we will continue to practice creation of pipelines and feature engineering. We will use the wine dataset.\n",
        "\n",
        "<br>\n",
        "\n",
        "---\n",
        "\n",
        "\n"
      ]
    },
    {
      "cell_type": "code",
      "metadata": {
        "id": "xVngCF0jsew7"
      },
      "source": [
        "# # extra code\n",
        "# num_cols = list(df.columns.values)\n",
        "# num_cols.remove('type')\n",
        "# cat_cols = 'type'\n",
        "\n",
        "# enc = OneHotEncoder()\n",
        "\n",
        "# enc.fit(df[cat_cols].values.reshape(-1,1))\n",
        "\n",
        "# X_cat = enc.transform(df[cat_cols].values.reshape(-1,1)).toarray()\n",
        "# X_num = df[num_cols].values"
      ],
      "execution_count": null,
      "outputs": []
    },
    {
      "cell_type": "markdown",
      "metadata": {
        "id": "GA0l_pwYn9g1"
      },
      "source": [
        "# L1 Q1: \n",
        "\n",
        "Fill in any missing data in your dataset using imputation and use this new data for Q2-Q3"
      ]
    },
    {
      "cell_type": "code",
      "metadata": {
        "colab": {
          "base_uri": "https://localhost:8080/"
        },
        "id": "Rms8QDNDolj3",
        "outputId": "5687a20d-f607-4032-9a74-7ad65379f019"
      },
      "source": [
        "import pandas as pd\n",
        "import numpy as np\n",
        "\n",
        "from sklearn.preprocessing import OneHotEncoder\n",
        "from sklearn.impute import SimpleImputer\n",
        "from statsmodels.stats.outliers_influence import variance_inflation_factor"
      ],
      "execution_count": null,
      "outputs": [
        {
          "output_type": "stream",
          "text": [
            "/usr/local/lib/python3.7/dist-packages/statsmodels/tools/_testing.py:19: FutureWarning: pandas.util.testing is deprecated. Use the functions in the public API at pandas.testing instead.\n",
            "  import pandas.util.testing as tm\n"
          ],
          "name": "stderr"
        }
      ]
    },
    {
      "cell_type": "code",
      "metadata": {
        "id": "BR11MzzIj_ga",
        "colab": {
          "base_uri": "https://localhost:8080/"
        },
        "outputId": "7a18595b-b7cc-4ec2-a6f5-7ecee2ac231b"
      },
      "source": [
        "# Code Cell for L1 Q1\n",
        "df = pd.read_csv(\"https://raw.githubusercontent.com/wesleybeckner/\"\\\n",
        "                 \"ds_for_engineers/main/data/wine_quality/winequalityN.csv\")\n",
        "print(df.shape)\n",
        "df.isnull().sum()"
      ],
      "execution_count": null,
      "outputs": [
        {
          "output_type": "stream",
          "text": [
            "(6497, 13)\n"
          ],
          "name": "stdout"
        },
        {
          "output_type": "execute_result",
          "data": {
            "text/plain": [
              "type                     0\n",
              "fixed acidity           10\n",
              "volatile acidity         8\n",
              "citric acid              3\n",
              "residual sugar           2\n",
              "chlorides                2\n",
              "free sulfur dioxide      0\n",
              "total sulfur dioxide     0\n",
              "density                  0\n",
              "pH                       9\n",
              "sulphates                4\n",
              "alcohol                  0\n",
              "quality                  0\n",
              "dtype: int64"
            ]
          },
          "metadata": {
            "tags": []
          },
          "execution_count": 38
        }
      ]
    },
    {
      "cell_type": "code",
      "metadata": {
        "id": "CDhUrPqltnUa"
      },
      "source": [
        "imp = SimpleImputer(strategy='mean')\n",
        "X_num = imp.fit_transform(df.select_dtypes(include='number'))\n",
        "df[df.select_dtypes(include='number').columns] = X_num\n",
        "\n",
        "imp = SimpleImputer(strategy='most_frequent')\n",
        "X_num = imp.fit_transform(df.select_dtypes(exclude='number'))\n",
        "df[df.select_dtypes(exclude='number').columns] = X_num"
      ],
      "execution_count": null,
      "outputs": []
    },
    {
      "cell_type": "code",
      "metadata": {
        "colab": {
          "base_uri": "https://localhost:8080/"
        },
        "id": "mSkPURxKspq4",
        "outputId": "18289f28-e8c3-4181-ca06-c2164417c9c5"
      },
      "source": [
        "df.isnull().sum()"
      ],
      "execution_count": null,
      "outputs": [
        {
          "output_type": "execute_result",
          "data": {
            "text/plain": [
              "type                    0\n",
              "fixed acidity           0\n",
              "volatile acidity        0\n",
              "citric acid             0\n",
              "residual sugar          0\n",
              "chlorides               0\n",
              "free sulfur dioxide     0\n",
              "total sulfur dioxide    0\n",
              "density                 0\n",
              "pH                      0\n",
              "sulphates               0\n",
              "alcohol                 0\n",
              "quality                 0\n",
              "dtype: int64"
            ]
          },
          "metadata": {
            "tags": []
          },
          "execution_count": 48
        }
      ]
    },
    {
      "cell_type": "markdown",
      "metadata": {
        "id": "Sp832EkKi67C"
      },
      "source": [
        "# L1 Q2:\n",
        "\n",
        "Use 3 different scaling methods on the input data and evaluate how they affect VIF, kurtosis, and skew\n",
        "\n"
      ]
    },
    {
      "cell_type": "code",
      "metadata": {
        "id": "icXspR2lv165"
      },
      "source": [
        "from statsmodels.stats.outliers_influence import variance_inflation_factor"
      ],
      "execution_count": null,
      "outputs": []
    },
    {
      "cell_type": "markdown",
      "metadata": {
        "id": "8B_nYmX-_FQr"
      },
      "source": [
        "I'll start with the original data..."
      ]
    },
    {
      "cell_type": "code",
      "metadata": {
        "colab": {
          "base_uri": "https://localhost:8080/",
          "height": 455
        },
        "id": "AhxFtaIR1LIr",
        "outputId": "7b9136af-1904-4e8f-acf4-ab85428afc21"
      },
      "source": [
        "desc = pd.DataFrame()\n",
        "X_num = df.select_dtypes(include='number')\n",
        "desc[\"VIF Factor\"] = [variance_inflation_factor(X_num.values, i) for i in \n",
        "                     range(X_num.shape[1])]\n",
        "desc[\"features\"] = X_num.columns\n",
        "desc = desc.set_index('features')\n",
        "\n",
        "desc[\"Skew\"] = X_num.skew()\n",
        "desc[\"Kurtosis\"] = X_num.kurt()\n",
        "desc = desc.sort_values(\"VIF Factor\")\n",
        "desc_org = desc\n",
        "desc_org"
      ],
      "execution_count": null,
      "outputs": [
        {
          "output_type": "execute_result",
          "data": {
            "text/html": [
              "<div>\n",
              "<style scoped>\n",
              "    .dataframe tbody tr th:only-of-type {\n",
              "        vertical-align: middle;\n",
              "    }\n",
              "\n",
              "    .dataframe tbody tr th {\n",
              "        vertical-align: top;\n",
              "    }\n",
              "\n",
              "    .dataframe thead th {\n",
              "        text-align: right;\n",
              "    }\n",
              "</style>\n",
              "<table border=\"1\" class=\"dataframe\">\n",
              "  <thead>\n",
              "    <tr style=\"text-align: right;\">\n",
              "      <th></th>\n",
              "      <th>VIF Factor</th>\n",
              "      <th>Skew</th>\n",
              "      <th>Kurtosis</th>\n",
              "    </tr>\n",
              "    <tr>\n",
              "      <th>features</th>\n",
              "      <th></th>\n",
              "      <th></th>\n",
              "      <th></th>\n",
              "    </tr>\n",
              "  </thead>\n",
              "  <tbody>\n",
              "    <tr>\n",
              "      <th>residual sugar</th>\n",
              "      <td>3.625543</td>\n",
              "      <td>1.435221</td>\n",
              "      <td>4.360399</td>\n",
              "    </tr>\n",
              "    <tr>\n",
              "      <th>chlorides</th>\n",
              "      <td>5.578253</td>\n",
              "      <td>5.400680</td>\n",
              "      <td>50.911457</td>\n",
              "    </tr>\n",
              "    <tr>\n",
              "      <th>free sulfur dioxide</th>\n",
              "      <td>8.536147</td>\n",
              "      <td>1.220066</td>\n",
              "      <td>7.906238</td>\n",
              "    </tr>\n",
              "    <tr>\n",
              "      <th>citric acid</th>\n",
              "      <td>9.344847</td>\n",
              "      <td>0.473142</td>\n",
              "      <td>2.404077</td>\n",
              "    </tr>\n",
              "    <tr>\n",
              "      <th>volatile acidity</th>\n",
              "      <td>9.508344</td>\n",
              "      <td>1.496433</td>\n",
              "      <td>2.834263</td>\n",
              "    </tr>\n",
              "    <tr>\n",
              "      <th>total sulfur dioxide</th>\n",
              "      <td>14.879019</td>\n",
              "      <td>-0.001177</td>\n",
              "      <td>-0.371664</td>\n",
              "    </tr>\n",
              "    <tr>\n",
              "      <th>sulphates</th>\n",
              "      <td>18.715513</td>\n",
              "      <td>1.799021</td>\n",
              "      <td>8.667071</td>\n",
              "    </tr>\n",
              "    <tr>\n",
              "      <th>fixed acidity</th>\n",
              "      <td>58.896033</td>\n",
              "      <td>1.724131</td>\n",
              "      <td>5.070143</td>\n",
              "    </tr>\n",
              "    <tr>\n",
              "      <th>quality</th>\n",
              "      <td>63.918782</td>\n",
              "      <td>0.189623</td>\n",
              "      <td>0.232322</td>\n",
              "    </tr>\n",
              "    <tr>\n",
              "      <th>alcohol</th>\n",
              "      <td>129.995434</td>\n",
              "      <td>0.565718</td>\n",
              "      <td>-0.531687</td>\n",
              "    </tr>\n",
              "    <tr>\n",
              "      <th>pH</th>\n",
              "      <td>588.916620</td>\n",
              "      <td>0.387234</td>\n",
              "      <td>0.374743</td>\n",
              "    </tr>\n",
              "    <tr>\n",
              "      <th>density</th>\n",
              "      <td>942.748200</td>\n",
              "      <td>0.503602</td>\n",
              "      <td>6.606067</td>\n",
              "    </tr>\n",
              "  </tbody>\n",
              "</table>\n",
              "</div>"
            ],
            "text/plain": [
              "                      VIF Factor      Skew   Kurtosis\n",
              "features                                             \n",
              "residual sugar          3.625543  1.435221   4.360399\n",
              "chlorides               5.578253  5.400680  50.911457\n",
              "free sulfur dioxide     8.536147  1.220066   7.906238\n",
              "citric acid             9.344847  0.473142   2.404077\n",
              "volatile acidity        9.508344  1.496433   2.834263\n",
              "total sulfur dioxide   14.879019 -0.001177  -0.371664\n",
              "sulphates              18.715513  1.799021   8.667071\n",
              "fixed acidity          58.896033  1.724131   5.070143\n",
              "quality                63.918782  0.189623   0.232322\n",
              "alcohol               129.995434  0.565718  -0.531687\n",
              "pH                    588.916620  0.387234   0.374743\n",
              "density               942.748200  0.503602   6.606067"
            ]
          },
          "metadata": {
            "tags": []
          },
          "execution_count": 152
        }
      ]
    },
    {
      "cell_type": "markdown",
      "metadata": {
        "id": "PHWXaIZM_CpY"
      },
      "source": [
        "moving on to sqrt transformed\n",
        "\n",
        "we can view a histogram of the transformed data..."
      ]
    },
    {
      "cell_type": "code",
      "metadata": {
        "colab": {
          "base_uri": "https://localhost:8080/",
          "height": 609
        },
        "id": "KRfsFR2CxsFR",
        "outputId": "01b68c86-ce2f-42c9-a0e6-ab4283b87c21"
      },
      "source": [
        "fig, ax = plt.subplots(figsize=(10,10))\n",
        "X_num.apply(lambda x: np.sqrt(x)).plot(kind='hist', bins=100, ax=ax)"
      ],
      "execution_count": null,
      "outputs": [
        {
          "output_type": "execute_result",
          "data": {
            "text/plain": [
              "<matplotlib.axes._subplots.AxesSubplot at 0x7f2ce75acf90>"
            ]
          },
          "metadata": {
            "tags": []
          },
          "execution_count": 87
        },
        {
          "output_type": "display_data",
          "data": {
            "image/png": "[encoded data removed]",
            "text/plain": [
              "<Figure size 720x720 with 1 Axes>"
            ]
          },
          "metadata": {
            "tags": [],
            "needs_background": "light"
          }
        }
      ]
    },
    {
      "cell_type": "markdown",
      "metadata": {
        "id": "5NN4bB8B-_tF"
      },
      "source": [
        "gonna wrap the desc making stuff into a function now..."
      ]
    },
    {
      "cell_type": "code",
      "metadata": {
        "id": "bSmwsRHcy-pU"
      },
      "source": [
        "def make_desc(X_num):\n",
        "  \"\"\"\n",
        "  returns the VIF, kurtosis, and skew for each of the features in the input data\n",
        "  frame.\n",
        "  \"\"\"\n",
        "  desc = pd.DataFrame()\n",
        "  desc[\"VIF Factor\"] = [variance_inflation_factor(X_num.values, i) for i in \n",
        "                      range(X_num.shape[1])]\n",
        "  desc[\"features\"] = X_num.columns\n",
        "  desc = desc.set_index('features')\n",
        "  desc[\"Skew\"] = X_num.skew()\n",
        "  desc[\"Kurtosis\"] = X_num.kurt()\n",
        "  desc = desc.sort_values(\"VIF Factor\")\n",
        "  \n",
        "  return desc"
      ],
      "execution_count": null,
      "outputs": []
    },
    {
      "cell_type": "markdown",
      "metadata": {
        "id": "qVLSKA___Kig"
      },
      "source": [
        "and then return the desc of the sqrt transformed data"
      ]
    },
    {
      "cell_type": "code",
      "metadata": {
        "colab": {
          "base_uri": "https://localhost:8080/",
          "height": 455
        },
        "id": "qJItLwFRySsM",
        "outputId": "b897516d-190d-4cfa-ebc0-0f184c56a4fc"
      },
      "source": [
        "X_sqrt = X_num.apply(lambda x: np.sqrt(x))\n",
        "\n",
        "desc_sqrt = make_desc(X_sqrt)\n",
        "desc_sqrt"
      ],
      "execution_count": null,
      "outputs": [
        {
          "output_type": "execute_result",
          "data": {
            "text/html": [
              "<div>\n",
              "<style scoped>\n",
              "    .dataframe tbody tr th:only-of-type {\n",
              "        vertical-align: middle;\n",
              "    }\n",
              "\n",
              "    .dataframe tbody tr th {\n",
              "        vertical-align: top;\n",
              "    }\n",
              "\n",
              "    .dataframe thead th {\n",
              "        text-align: right;\n",
              "    }\n",
              "</style>\n",
              "<table border=\"1\" class=\"dataframe\">\n",
              "  <thead>\n",
              "    <tr style=\"text-align: right;\">\n",
              "      <th></th>\n",
              "      <th>VIF Factor</th>\n",
              "      <th>Skew</th>\n",
              "      <th>Kurtosis</th>\n",
              "    </tr>\n",
              "    <tr>\n",
              "      <th>features</th>\n",
              "      <th></th>\n",
              "      <th></th>\n",
              "      <th></th>\n",
              "    </tr>\n",
              "  </thead>\n",
              "  <tbody>\n",
              "    <tr>\n",
              "      <th>residual sugar</th>\n",
              "      <td>9.438840</td>\n",
              "      <td>0.715544</td>\n",
              "      <td>-0.526171</td>\n",
              "    </tr>\n",
              "    <tr>\n",
              "      <th>citric acid</th>\n",
              "      <td>23.569923</td>\n",
              "      <td>-1.217302</td>\n",
              "      <td>3.018777</td>\n",
              "    </tr>\n",
              "    <tr>\n",
              "      <th>free sulfur dioxide</th>\n",
              "      <td>28.512706</td>\n",
              "      <td>0.031387</td>\n",
              "      <td>0.012355</td>\n",
              "    </tr>\n",
              "    <tr>\n",
              "      <th>chlorides</th>\n",
              "      <td>31.633497</td>\n",
              "      <td>2.419756</td>\n",
              "      <td>12.104941</td>\n",
              "    </tr>\n",
              "    <tr>\n",
              "      <th>volatile acidity</th>\n",
              "      <td>38.824850</td>\n",
              "      <td>0.888822</td>\n",
              "      <td>0.636383</td>\n",
              "    </tr>\n",
              "    <tr>\n",
              "      <th>total sulfur dioxide</th>\n",
              "      <td>44.496937</td>\n",
              "      <td>-0.652641</td>\n",
              "      <td>-0.205032</td>\n",
              "    </tr>\n",
              "    <tr>\n",
              "      <th>sulphates</th>\n",
              "      <td>78.071479</td>\n",
              "      <td>0.970584</td>\n",
              "      <td>2.755412</td>\n",
              "    </tr>\n",
              "    <tr>\n",
              "      <th>quality</th>\n",
              "      <td>249.722277</td>\n",
              "      <td>-0.076065</td>\n",
              "      <td>0.413146</td>\n",
              "    </tr>\n",
              "    <tr>\n",
              "      <th>fixed acidity</th>\n",
              "      <td>261.949125</td>\n",
              "      <td>1.287217</td>\n",
              "      <td>3.132631</td>\n",
              "    </tr>\n",
              "    <tr>\n",
              "      <th>alcohol</th>\n",
              "      <td>551.533219</td>\n",
              "      <td>0.472722</td>\n",
              "      <td>-0.668288</td>\n",
              "    </tr>\n",
              "    <tr>\n",
              "      <th>pH</th>\n",
              "      <td>2419.357313</td>\n",
              "      <td>0.306340</td>\n",
              "      <td>0.257039</td>\n",
              "    </tr>\n",
              "    <tr>\n",
              "      <th>density</th>\n",
              "      <td>3910.157379</td>\n",
              "      <td>0.485225</td>\n",
              "      <td>6.303355</td>\n",
              "    </tr>\n",
              "  </tbody>\n",
              "</table>\n",
              "</div>"
            ],
            "text/plain": [
              "                       VIF Factor      Skew   Kurtosis\n",
              "features                                              \n",
              "residual sugar           9.438840  0.715544  -0.526171\n",
              "citric acid             23.569923 -1.217302   3.018777\n",
              "free sulfur dioxide     28.512706  0.031387   0.012355\n",
              "chlorides               31.633497  2.419756  12.104941\n",
              "volatile acidity        38.824850  0.888822   0.636383\n",
              "total sulfur dioxide    44.496937 -0.652641  -0.205032\n",
              "sulphates               78.071479  0.970584   2.755412\n",
              "quality                249.722277 -0.076065   0.413146\n",
              "fixed acidity          261.949125  1.287217   3.132631\n",
              "alcohol                551.533219  0.472722  -0.668288\n",
              "pH                    2419.357313  0.306340   0.257039\n",
              "density               3910.157379  0.485225   6.303355"
            ]
          },
          "metadata": {
            "tags": []
          },
          "execution_count": 153
        }
      ]
    },
    {
      "cell_type": "markdown",
      "metadata": {
        "id": "QkOBASVF_PI2"
      },
      "source": [
        "we'll have to remove values not greater than 0 for the log and boxcox transformed data"
      ]
    },
    {
      "cell_type": "code",
      "metadata": {
        "colab": {
          "base_uri": "https://localhost:8080/"
        },
        "id": "N9-N691R8WhI",
        "outputId": "393fbfaa-19ac-49f8-8c4f-f1edf4439165"
      },
      "source": [
        "(X_num > 0).all(axis=1).value_counts()"
      ],
      "execution_count": null,
      "outputs": [
        {
          "output_type": "execute_result",
          "data": {
            "text/plain": [
              "True     6347\n",
              "False     150\n",
              "dtype: int64"
            ]
          },
          "metadata": {
            "tags": []
          },
          "execution_count": 146
        }
      ]
    },
    {
      "cell_type": "code",
      "metadata": {
        "colab": {
          "base_uri": "https://localhost:8080/",
          "height": 455
        },
        "id": "KdcwIdeP7bWh",
        "outputId": "6bd8c412-ea91-4da2-b51a-def4d7adc4eb"
      },
      "source": [
        "X_log = X_num.loc[(X_num > 0).all(axis=1)].apply(lambda x: np.log(x))\n",
        "\n",
        "desc_log = make_desc(X_log)\n",
        "desc_log"
      ],
      "execution_count": null,
      "outputs": [
        {
          "output_type": "execute_result",
          "data": {
            "text/html": [
              "<div>\n",
              "<style scoped>\n",
              "    .dataframe tbody tr th:only-of-type {\n",
              "        vertical-align: middle;\n",
              "    }\n",
              "\n",
              "    .dataframe tbody tr th {\n",
              "        vertical-align: top;\n",
              "    }\n",
              "\n",
              "    .dataframe thead th {\n",
              "        text-align: right;\n",
              "    }\n",
              "</style>\n",
              "<table border=\"1\" class=\"dataframe\">\n",
              "  <thead>\n",
              "    <tr style=\"text-align: right;\">\n",
              "      <th></th>\n",
              "      <th>VIF Factor</th>\n",
              "      <th>Skew</th>\n",
              "      <th>Kurtosis</th>\n",
              "    </tr>\n",
              "    <tr>\n",
              "      <th>features</th>\n",
              "      <th></th>\n",
              "      <th></th>\n",
              "      <th></th>\n",
              "    </tr>\n",
              "  </thead>\n",
              "  <tbody>\n",
              "    <tr>\n",
              "      <th>citric acid</th>\n",
              "      <td>7.489169</td>\n",
              "      <td>-2.449691</td>\n",
              "      <td>8.846770</td>\n",
              "    </tr>\n",
              "    <tr>\n",
              "      <th>sulphates</th>\n",
              "      <td>10.935587</td>\n",
              "      <td>0.421307</td>\n",
              "      <td>0.732771</td>\n",
              "    </tr>\n",
              "    <tr>\n",
              "      <th>residual sugar</th>\n",
              "      <td>13.622502</td>\n",
              "      <td>0.210615</td>\n",
              "      <td>-1.257796</td>\n",
              "    </tr>\n",
              "    <tr>\n",
              "      <th>volatile acidity</th>\n",
              "      <td>15.158900</td>\n",
              "      <td>0.317254</td>\n",
              "      <td>-0.134131</td>\n",
              "    </tr>\n",
              "    <tr>\n",
              "      <th>density</th>\n",
              "      <td>40.689651</td>\n",
              "      <td>0.484344</td>\n",
              "      <td>6.053606</td>\n",
              "    </tr>\n",
              "    <tr>\n",
              "      <th>free sulfur dioxide</th>\n",
              "      <td>62.537159</td>\n",
              "      <td>-0.853153</td>\n",
              "      <td>0.509583</td>\n",
              "    </tr>\n",
              "    <tr>\n",
              "      <th>chlorides</th>\n",
              "      <td>102.532671</td>\n",
              "      <td>0.916347</td>\n",
              "      <td>2.503444</td>\n",
              "    </tr>\n",
              "    <tr>\n",
              "      <th>total sulfur dioxide</th>\n",
              "      <td>138.959262</td>\n",
              "      <td>-1.450177</td>\n",
              "      <td>1.712245</td>\n",
              "    </tr>\n",
              "    <tr>\n",
              "      <th>quality</th>\n",
              "      <td>188.719973</td>\n",
              "      <td>-0.353839</td>\n",
              "      <td>0.911139</td>\n",
              "    </tr>\n",
              "    <tr>\n",
              "      <th>fixed acidity</th>\n",
              "      <td>339.812097</td>\n",
              "      <td>0.910455</td>\n",
              "      <td>1.908972</td>\n",
              "    </tr>\n",
              "    <tr>\n",
              "      <th>pH</th>\n",
              "      <td>667.167656</td>\n",
              "      <td>0.198299</td>\n",
              "      <td>0.122920</td>\n",
              "    </tr>\n",
              "    <tr>\n",
              "      <th>alcohol</th>\n",
              "      <td>1665.804884</td>\n",
              "      <td>0.373617</td>\n",
              "      <td>-0.792214</td>\n",
              "    </tr>\n",
              "  </tbody>\n",
              "</table>\n",
              "</div>"
            ],
            "text/plain": [
              "                       VIF Factor      Skew  Kurtosis\n",
              "features                                             \n",
              "citric acid              7.489169 -2.449691  8.846770\n",
              "sulphates               10.935587  0.421307  0.732771\n",
              "residual sugar          13.622502  0.210615 -1.257796\n",
              "volatile acidity        15.158900  0.317254 -0.134131\n",
              "density                 40.689651  0.484344  6.053606\n",
              "free sulfur dioxide     62.537159 -0.853153  0.509583\n",
              "chlorides              102.532671  0.916347  2.503444\n",
              "total sulfur dioxide   138.959262 -1.450177  1.712245\n",
              "quality                188.719973 -0.353839  0.911139\n",
              "fixed acidity          339.812097  0.910455  1.908972\n",
              "pH                     667.167656  0.198299  0.122920\n",
              "alcohol               1665.804884  0.373617 -0.792214"
            ]
          },
          "metadata": {
            "tags": []
          },
          "execution_count": 154
        }
      ]
    },
    {
      "cell_type": "markdown",
      "metadata": {
        "id": "W011H1Gr-00E"
      },
      "source": [
        "Lol at this VIF for acidity/alcohol..."
      ]
    },
    {
      "cell_type": "code",
      "metadata": {
        "colab": {
          "base_uri": "https://localhost:8080/",
          "height": 455
        },
        "id": "Ga_8u3CL-g6K",
        "outputId": "1a52c1ee-1932-46a4-f142-ae8ead4d4045"
      },
      "source": [
        "X_box = X_num.loc[(X_num > 0).all(axis=1)].apply(lambda x: stats.boxcox(x)[0])\n",
        "\n",
        "desc_box = make_desc(X_box)\n",
        "desc_box"
      ],
      "execution_count": null,
      "outputs": [
        {
          "output_type": "execute_result",
          "data": {
            "text/html": [
              "<div>\n",
              "<style scoped>\n",
              "    .dataframe tbody tr th:only-of-type {\n",
              "        vertical-align: middle;\n",
              "    }\n",
              "\n",
              "    .dataframe tbody tr th {\n",
              "        vertical-align: top;\n",
              "    }\n",
              "\n",
              "    .dataframe thead th {\n",
              "        text-align: right;\n",
              "    }\n",
              "</style>\n",
              "<table border=\"1\" class=\"dataframe\">\n",
              "  <thead>\n",
              "    <tr style=\"text-align: right;\">\n",
              "      <th></th>\n",
              "      <th>VIF Factor</th>\n",
              "      <th>Skew</th>\n",
              "      <th>Kurtosis</th>\n",
              "    </tr>\n",
              "    <tr>\n",
              "      <th>features</th>\n",
              "      <th></th>\n",
              "      <th></th>\n",
              "      <th></th>\n",
              "    </tr>\n",
              "  </thead>\n",
              "  <tbody>\n",
              "    <tr>\n",
              "      <th>sulphates</th>\n",
              "      <td>8.715385</td>\n",
              "      <td>-0.007824</td>\n",
              "      <td>0.167064</td>\n",
              "    </tr>\n",
              "    <tr>\n",
              "      <th>volatile acidity</th>\n",
              "      <td>10.573488</td>\n",
              "      <td>0.007637</td>\n",
              "      <td>-0.149624</td>\n",
              "    </tr>\n",
              "    <tr>\n",
              "      <th>residual sugar</th>\n",
              "      <td>12.448367</td>\n",
              "      <td>0.061606</td>\n",
              "      <td>-1.283508</td>\n",
              "    </tr>\n",
              "    <tr>\n",
              "      <th>total sulfur dioxide</th>\n",
              "      <td>17.400219</td>\n",
              "      <td>-0.165987</td>\n",
              "      <td>-0.370448</td>\n",
              "    </tr>\n",
              "    <tr>\n",
              "      <th>free sulfur dioxide</th>\n",
              "      <td>20.915879</td>\n",
              "      <td>-0.036914</td>\n",
              "      <td>-0.029837</td>\n",
              "    </tr>\n",
              "    <tr>\n",
              "      <th>density</th>\n",
              "      <td>22.354924</td>\n",
              "      <td>-0.019478</td>\n",
              "      <td>0.241219</td>\n",
              "    </tr>\n",
              "    <tr>\n",
              "      <th>citric acid</th>\n",
              "      <td>24.809413</td>\n",
              "      <td>0.122929</td>\n",
              "      <td>1.678155</td>\n",
              "    </tr>\n",
              "    <tr>\n",
              "      <th>chlorides</th>\n",
              "      <td>34.854518</td>\n",
              "      <td>-0.064650</td>\n",
              "      <td>1.182001</td>\n",
              "    </tr>\n",
              "    <tr>\n",
              "      <th>quality</th>\n",
              "      <td>68.622581</td>\n",
              "      <td>0.011892</td>\n",
              "      <td>0.305481</td>\n",
              "    </tr>\n",
              "    <tr>\n",
              "      <th>pH</th>\n",
              "      <td>5921.294364</td>\n",
              "      <td>-0.000652</td>\n",
              "      <td>0.029647</td>\n",
              "    </tr>\n",
              "    <tr>\n",
              "      <th>fixed acidity</th>\n",
              "      <td>10667.877594</td>\n",
              "      <td>-0.064151</td>\n",
              "      <td>1.174330</td>\n",
              "    </tr>\n",
              "    <tr>\n",
              "      <th>alcohol</th>\n",
              "      <td>26515.335732</td>\n",
              "      <td>0.066160</td>\n",
              "      <td>-0.978754</td>\n",
              "    </tr>\n",
              "  </tbody>\n",
              "</table>\n",
              "</div>"
            ],
            "text/plain": [
              "                        VIF Factor      Skew  Kurtosis\n",
              "features                                              \n",
              "sulphates                 8.715385 -0.007824  0.167064\n",
              "volatile acidity         10.573488  0.007637 -0.149624\n",
              "residual sugar           12.448367  0.061606 -1.283508\n",
              "total sulfur dioxide     17.400219 -0.165987 -0.370448\n",
              "free sulfur dioxide      20.915879 -0.036914 -0.029837\n",
              "density                  22.354924 -0.019478  0.241219\n",
              "citric acid              24.809413  0.122929  1.678155\n",
              "chlorides                34.854518 -0.064650  1.182001\n",
              "quality                  68.622581  0.011892  0.305481\n",
              "pH                     5921.294364 -0.000652  0.029647\n",
              "fixed acidity         10667.877594 -0.064151  1.174330\n",
              "alcohol               26515.335732  0.066160 -0.978754"
            ]
          },
          "metadata": {
            "tags": []
          },
          "execution_count": 155
        }
      ]
    },
    {
      "cell_type": "code",
      "metadata": {
        "colab": {
          "base_uri": "https://localhost:8080/",
          "height": 1000
        },
        "id": "ObxiBXBW_W8v",
        "outputId": "15121a6f-5419-470c-b5c8-186235d0567b"
      },
      "source": [
        "desc = pd.concat([desc_org, desc_sqrt, desc_log, desc_box],\n",
        "                 keys=['original', 'square_root', 'log', 'box_cox'])\n",
        "desc"
      ],
      "execution_count": null,
      "outputs": [
        {
          "output_type": "execute_result",
          "data": {
            "text/html": [
              "<div>\n",
              "<style scoped>\n",
              "    .dataframe tbody tr th:only-of-type {\n",
              "        vertical-align: middle;\n",
              "    }\n",
              "\n",
              "    .dataframe tbody tr th {\n",
              "        vertical-align: top;\n",
              "    }\n",
              "\n",
              "    .dataframe thead th {\n",
              "        text-align: right;\n",
              "    }\n",
              "</style>\n",
              "<table border=\"1\" class=\"dataframe\">\n",
              "  <thead>\n",
              "    <tr style=\"text-align: right;\">\n",
              "      <th></th>\n",
              "      <th></th>\n",
              "      <th>VIF Factor</th>\n",
              "      <th>Skew</th>\n",
              "      <th>Kurtosis</th>\n",
              "    </tr>\n",
              "    <tr>\n",
              "      <th></th>\n",
              "      <th>features</th>\n",
              "      <th></th>\n",
              "      <th></th>\n",
              "      <th></th>\n",
              "    </tr>\n",
              "  </thead>\n",
              "  <tbody>\n",
              "    <tr>\n",
              "      <th rowspan=\"12\" valign=\"top\">original</th>\n",
              "      <th>residual sugar</th>\n",
              "      <td>3.625543</td>\n",
              "      <td>1.435221</td>\n",
              "      <td>4.360399</td>\n",
              "    </tr>\n",
              "    <tr>\n",
              "      <th>chlorides</th>\n",
              "      <td>5.578253</td>\n",
              "      <td>5.400680</td>\n",
              "      <td>50.911457</td>\n",
              "    </tr>\n",
              "    <tr>\n",
              "      <th>free sulfur dioxide</th>\n",
              "      <td>8.536147</td>\n",
              "      <td>1.220066</td>\n",
              "      <td>7.906238</td>\n",
              "    </tr>\n",
              "    <tr>\n",
              "      <th>citric acid</th>\n",
              "      <td>9.344847</td>\n",
              "      <td>0.473142</td>\n",
              "      <td>2.404077</td>\n",
              "    </tr>\n",
              "    <tr>\n",
              "      <th>volatile acidity</th>\n",
              "      <td>9.508344</td>\n",
              "      <td>1.496433</td>\n",
              "      <td>2.834263</td>\n",
              "    </tr>\n",
              "    <tr>\n",
              "      <th>total sulfur dioxide</th>\n",
              "      <td>14.879019</td>\n",
              "      <td>-0.001177</td>\n",
              "      <td>-0.371664</td>\n",
              "    </tr>\n",
              "    <tr>\n",
              "      <th>sulphates</th>\n",
              "      <td>18.715513</td>\n",
              "      <td>1.799021</td>\n",
              "      <td>8.667071</td>\n",
              "    </tr>\n",
              "    <tr>\n",
              "      <th>fixed acidity</th>\n",
              "      <td>58.896033</td>\n",
              "      <td>1.724131</td>\n",
              "      <td>5.070143</td>\n",
              "    </tr>\n",
              "    <tr>\n",
              "      <th>quality</th>\n",
              "      <td>63.918782</td>\n",
              "      <td>0.189623</td>\n",
              "      <td>0.232322</td>\n",
              "    </tr>\n",
              "    <tr>\n",
              "      <th>alcohol</th>\n",
              "      <td>129.995434</td>\n",
              "      <td>0.565718</td>\n",
              "      <td>-0.531687</td>\n",
              "    </tr>\n",
              "    <tr>\n",
              "      <th>pH</th>\n",
              "      <td>588.916620</td>\n",
              "      <td>0.387234</td>\n",
              "      <td>0.374743</td>\n",
              "    </tr>\n",
              "    <tr>\n",
              "      <th>density</th>\n",
              "      <td>942.748200</td>\n",
              "      <td>0.503602</td>\n",
              "      <td>6.606067</td>\n",
              "    </tr>\n",
              "    <tr>\n",
              "      <th rowspan=\"12\" valign=\"top\">square_root</th>\n",
              "      <th>residual sugar</th>\n",
              "      <td>9.438840</td>\n",
              "      <td>0.715544</td>\n",
              "      <td>-0.526171</td>\n",
              "    </tr>\n",
              "    <tr>\n",
              "      <th>citric acid</th>\n",
              "      <td>23.569923</td>\n",
              "      <td>-1.217302</td>\n",
              "      <td>3.018777</td>\n",
              "    </tr>\n",
              "    <tr>\n",
              "      <th>free sulfur dioxide</th>\n",
              "      <td>28.512706</td>\n",
              "      <td>0.031387</td>\n",
              "      <td>0.012355</td>\n",
              "    </tr>\n",
              "    <tr>\n",
              "      <th>chlorides</th>\n",
              "      <td>31.633497</td>\n",
              "      <td>2.419756</td>\n",
              "      <td>12.104941</td>\n",
              "    </tr>\n",
              "    <tr>\n",
              "      <th>volatile acidity</th>\n",
              "      <td>38.824850</td>\n",
              "      <td>0.888822</td>\n",
              "      <td>0.636383</td>\n",
              "    </tr>\n",
              "    <tr>\n",
              "      <th>total sulfur dioxide</th>\n",
              "      <td>44.496937</td>\n",
              "      <td>-0.652641</td>\n",
              "      <td>-0.205032</td>\n",
              "    </tr>\n",
              "    <tr>\n",
              "      <th>sulphates</th>\n",
              "      <td>78.071479</td>\n",
              "      <td>0.970584</td>\n",
              "      <td>2.755412</td>\n",
              "    </tr>\n",
              "    <tr>\n",
              "      <th>quality</th>\n",
              "      <td>249.722277</td>\n",
              "      <td>-0.076065</td>\n",
              "      <td>0.413146</td>\n",
              "    </tr>\n",
              "    <tr>\n",
              "      <th>fixed acidity</th>\n",
              "      <td>261.949125</td>\n",
              "      <td>1.287217</td>\n",
              "      <td>3.132631</td>\n",
              "    </tr>\n",
              "    <tr>\n",
              "      <th>alcohol</th>\n",
              "      <td>551.533219</td>\n",
              "      <td>0.472722</td>\n",
              "      <td>-0.668288</td>\n",
              "    </tr>\n",
              "    <tr>\n",
              "      <th>pH</th>\n",
              "      <td>2419.357313</td>\n",
              "      <td>0.306340</td>\n",
              "      <td>0.257039</td>\n",
              "    </tr>\n",
              "    <tr>\n",
              "      <th>density</th>\n",
              "      <td>3910.157379</td>\n",
              "      <td>0.485225</td>\n",
              "      <td>6.303355</td>\n",
              "    </tr>\n",
              "    <tr>\n",
              "      <th rowspan=\"12\" valign=\"top\">log</th>\n",
              "      <th>citric acid</th>\n",
              "      <td>7.489169</td>\n",
              "      <td>-2.449691</td>\n",
              "      <td>8.846770</td>\n",
              "    </tr>\n",
              "    <tr>\n",
              "      <th>sulphates</th>\n",
              "      <td>10.935587</td>\n",
              "      <td>0.421307</td>\n",
              "      <td>0.732771</td>\n",
              "    </tr>\n",
              "    <tr>\n",
              "      <th>residual sugar</th>\n",
              "      <td>13.622502</td>\n",
              "      <td>0.210615</td>\n",
              "      <td>-1.257796</td>\n",
              "    </tr>\n",
              "    <tr>\n",
              "      <th>volatile acidity</th>\n",
              "      <td>15.158900</td>\n",
              "      <td>0.317254</td>\n",
              "      <td>-0.134131</td>\n",
              "    </tr>\n",
              "    <tr>\n",
              "      <th>density</th>\n",
              "      <td>40.689651</td>\n",
              "      <td>0.484344</td>\n",
              "      <td>6.053606</td>\n",
              "    </tr>\n",
              "    <tr>\n",
              "      <th>free sulfur dioxide</th>\n",
              "      <td>62.537159</td>\n",
              "      <td>-0.853153</td>\n",
              "      <td>0.509583</td>\n",
              "    </tr>\n",
              "    <tr>\n",
              "      <th>chlorides</th>\n",
              "      <td>102.532671</td>\n",
              "      <td>0.916347</td>\n",
              "      <td>2.503444</td>\n",
              "    </tr>\n",
              "    <tr>\n",
              "      <th>total sulfur dioxide</th>\n",
              "      <td>138.959262</td>\n",
              "      <td>-1.450177</td>\n",
              "      <td>1.712245</td>\n",
              "    </tr>\n",
              "    <tr>\n",
              "      <th>quality</th>\n",
              "      <td>188.719973</td>\n",
              "      <td>-0.353839</td>\n",
              "      <td>0.911139</td>\n",
              "    </tr>\n",
              "    <tr>\n",
              "      <th>fixed acidity</th>\n",
              "      <td>339.812097</td>\n",
              "      <td>0.910455</td>\n",
              "      <td>1.908972</td>\n",
              "    </tr>\n",
              "    <tr>\n",
              "      <th>pH</th>\n",
              "      <td>667.167656</td>\n",
              "      <td>0.198299</td>\n",
              "      <td>0.122920</td>\n",
              "    </tr>\n",
              "    <tr>\n",
              "      <th>alcohol</th>\n",
              "      <td>1665.804884</td>\n",
              "      <td>0.373617</td>\n",
              "      <td>-0.792214</td>\n",
              "    </tr>\n",
              "    <tr>\n",
              "      <th rowspan=\"12\" valign=\"top\">box_cox</th>\n",
              "      <th>sulphates</th>\n",
              "      <td>8.715385</td>\n",
              "      <td>-0.007824</td>\n",
              "      <td>0.167064</td>\n",
              "    </tr>\n",
              "    <tr>\n",
              "      <th>volatile acidity</th>\n",
              "      <td>10.573488</td>\n",
              "      <td>0.007637</td>\n",
              "      <td>-0.149624</td>\n",
              "    </tr>\n",
              "    <tr>\n",
              "      <th>residual sugar</th>\n",
              "      <td>12.448367</td>\n",
              "      <td>0.061606</td>\n",
              "      <td>-1.283508</td>\n",
              "    </tr>\n",
              "    <tr>\n",
              "      <th>total sulfur dioxide</th>\n",
              "      <td>17.400219</td>\n",
              "      <td>-0.165987</td>\n",
              "      <td>-0.370448</td>\n",
              "    </tr>\n",
              "    <tr>\n",
              "      <th>free sulfur dioxide</th>\n",
              "      <td>20.915879</td>\n",
              "      <td>-0.036914</td>\n",
              "      <td>-0.029837</td>\n",
              "    </tr>\n",
              "    <tr>\n",
              "      <th>density</th>\n",
              "      <td>22.354924</td>\n",
              "      <td>-0.019478</td>\n",
              "      <td>0.241219</td>\n",
              "    </tr>\n",
              "    <tr>\n",
              "      <th>citric acid</th>\n",
              "      <td>24.809413</td>\n",
              "      <td>0.122929</td>\n",
              "      <td>1.678155</td>\n",
              "    </tr>\n",
              "    <tr>\n",
              "      <th>chlorides</th>\n",
              "      <td>34.854518</td>\n",
              "      <td>-0.064650</td>\n",
              "      <td>1.182001</td>\n",
              "    </tr>\n",
              "    <tr>\n",
              "      <th>quality</th>\n",
              "      <td>68.622581</td>\n",
              "      <td>0.011892</td>\n",
              "      <td>0.305481</td>\n",
              "    </tr>\n",
              "    <tr>\n",
              "      <th>pH</th>\n",
              "      <td>5921.294364</td>\n",
              "      <td>-0.000652</td>\n",
              "      <td>0.029647</td>\n",
              "    </tr>\n",
              "    <tr>\n",
              "      <th>fixed acidity</th>\n",
              "      <td>10667.877594</td>\n",
              "      <td>-0.064151</td>\n",
              "      <td>1.174330</td>\n",
              "    </tr>\n",
              "    <tr>\n",
              "      <th>alcohol</th>\n",
              "      <td>26515.335732</td>\n",
              "      <td>0.066160</td>\n",
              "      <td>-0.978754</td>\n",
              "    </tr>\n",
              "  </tbody>\n",
              "</table>\n",
              "</div>"
            ],
            "text/plain": [
              "                                    VIF Factor      Skew   Kurtosis\n",
              "            features                                               \n",
              "original    residual sugar            3.625543  1.435221   4.360399\n",
              "            chlorides                 5.578253  5.400680  50.911457\n",
              "            free sulfur dioxide       8.536147  1.220066   7.906238\n",
              "            citric acid               9.344847  0.473142   2.404077\n",
              "            volatile acidity          9.508344  1.496433   2.834263\n",
              "            total sulfur dioxide     14.879019 -0.001177  -0.371664\n",
              "            sulphates                18.715513  1.799021   8.667071\n",
              "            fixed acidity            58.896033  1.724131   5.070143\n",
              "            quality                  63.918782  0.189623   0.232322\n",
              "            alcohol                 129.995434  0.565718  -0.531687\n",
              "            pH                      588.916620  0.387234   0.374743\n",
              "            density                 942.748200  0.503602   6.606067\n",
              "square_root residual sugar            9.438840  0.715544  -0.526171\n",
              "            citric acid              23.569923 -1.217302   3.018777\n",
              "            free sulfur dioxide      28.512706  0.031387   0.012355\n",
              "            chlorides                31.633497  2.419756  12.104941\n",
              "            volatile acidity         38.824850  0.888822   0.636383\n",
              "            total sulfur dioxide     44.496937 -0.652641  -0.205032\n",
              "            sulphates                78.071479  0.970584   2.755412\n",
              "            quality                 249.722277 -0.076065   0.413146\n",
              "            fixed acidity           261.949125  1.287217   3.132631\n",
              "            alcohol                 551.533219  0.472722  -0.668288\n",
              "            pH                     2419.357313  0.306340   0.257039\n",
              "            density                3910.157379  0.485225   6.303355\n",
              "log         citric acid               7.489169 -2.449691   8.846770\n",
              "            sulphates                10.935587  0.421307   0.732771\n",
              "            residual sugar           13.622502  0.210615  -1.257796\n",
              "            volatile acidity         15.158900  0.317254  -0.134131\n",
              "            density                  40.689651  0.484344   6.053606\n",
              "            free sulfur dioxide      62.537159 -0.853153   0.509583\n",
              "            chlorides               102.532671  0.916347   2.503444\n",
              "            total sulfur dioxide    138.959262 -1.450177   1.712245\n",
              "            quality                 188.719973 -0.353839   0.911139\n",
              "            fixed acidity           339.812097  0.910455   1.908972\n",
              "            pH                      667.167656  0.198299   0.122920\n",
              "            alcohol                1665.804884  0.373617  -0.792214\n",
              "box_cox     sulphates                 8.715385 -0.007824   0.167064\n",
              "            volatile acidity         10.573488  0.007637  -0.149624\n",
              "            residual sugar           12.448367  0.061606  -1.283508\n",
              "            total sulfur dioxide     17.400219 -0.165987  -0.370448\n",
              "            free sulfur dioxide      20.915879 -0.036914  -0.029837\n",
              "            density                  22.354924 -0.019478   0.241219\n",
              "            citric acid              24.809413  0.122929   1.678155\n",
              "            chlorides                34.854518 -0.064650   1.182001\n",
              "            quality                  68.622581  0.011892   0.305481\n",
              "            pH                     5921.294364 -0.000652   0.029647\n",
              "            fixed acidity         10667.877594 -0.064151   1.174330\n",
              "            alcohol               26515.335732  0.066160  -0.978754"
            ]
          },
          "metadata": {
            "tags": []
          },
          "execution_count": 156
        }
      ]
    },
    {
      "cell_type": "code",
      "metadata": {
        "id": "inCIwE0KAe1g"
      },
      "source": [
        "def my_fig(metric=desc.columns):\n",
        "  fig, ax = plt.subplots(1, 1, figsize=(10,10))\n",
        "  pd.DataFrame(desc[metric]).unstack()[metric].T.plot(kind='barh', ax=ax)"
      ],
      "execution_count": null,
      "outputs": []
    },
    {
      "cell_type": "code",
      "metadata": {
        "id": "Va0UxdcwAfh8"
      },
      "source": [
        "from ipywidgets import interact"
      ],
      "execution_count": null,
      "outputs": []
    },
    {
      "cell_type": "code",
      "metadata": {
        "colab": {
          "base_uri": "https://localhost:8080/",
          "height": 641,
          "referenced_widgets": [
            "f007f242288a4aac91e16e3efa5b0aca",
            "06ea37c5922d499aa9a50f1ba86ecf8b",
            "79b2b4b895764121850261cde6762a22",
            "25e435ccc74f4e26854ef96c385fa062",
            "067bd564e8604b7e8a1405147a6c9165",
            "2d71eb11426f4578a67d7016d5023470",
            "a7f50d13ae84452a94f6570533df9618"
          ]
        },
        "id": "pfoRrbarAheG",
        "outputId": "9eceeaa9-f3ad-4036-9f2e-d1cb97ee8dbd"
      },
      "source": [
        "interact(my_fig)"
      ],
      "execution_count": null,
      "outputs": [
        {
          "output_type": "display_data",
          "data": {
            "application/vnd.jupyter.widget-view+json": {
              "model_id": "f007f242288a4aac91e16e3efa5b0aca",
              "version_minor": 0,
              "version_major": 2
            },
            "text/plain": [
              "interactive(children=(Dropdown(description='metric', options=('VIF Factor', 'Skew', 'Kurtosis'), value='VIF Fa…"
            ]
          },
          "metadata": {
            "tags": []
          }
        },
        {
          "output_type": "execute_result",
          "data": {
            "text/plain": [
              "<function __main__.my_fig>"
            ]
          },
          "metadata": {
            "tags": []
          },
          "execution_count": 159
        }
      ]
    },
    {
      "cell_type": "markdown",
      "metadata": {
        "id": "e9MwkxIGlc0k"
      },
      "source": [
        "# L1 Q3:\n",
        "\n",
        "Create a Pipeline using one of the scaling methods in sklearn and linear or logistic regression. Make the **_dependent variable_** the wine quality\n",
        "\n"
      ]
    },
    {
      "cell_type": "markdown",
      "metadata": {
        "id": "W1xUD1ohGzs6"
      },
      "source": [
        "## Option 1\n",
        "\n",
        "I'm going to do this two different ways.."
      ]
    },
    {
      "cell_type": "code",
      "metadata": {
        "id": "w-mykt4KhnA2"
      },
      "source": [
        "# Code Cell for L1 Q3\n",
        "from sklearn.linear_model import LinearRegression\n",
        "from sklearn.pipeline import make_pipeline\n",
        "from sklearn.compose import make_column_selector, make_column_transformer\n",
        "from sklearn.model_selection import train_test_split\n",
        "from sklearn.preprocessing import StandardScaler"
      ],
      "execution_count": null,
      "outputs": []
    },
    {
      "cell_type": "markdown",
      "metadata": {
        "id": "S-LEqhAmG1ke"
      },
      "source": [
        "First with all the tools we've seen up until now..."
      ]
    },
    {
      "cell_type": "code",
      "metadata": {
        "id": "6XjaVmd-Hmyd"
      },
      "source": [
        "# create X and y\n",
        "X = df.copy()\n",
        "y = X.pop('quality')\n",
        "\n",
        "### SEE MODEL SELECTION NOTEBOOK C2 S4 1.1.1 FOR TRAIN_TEST_SPLIT\n",
        "# split into train/test\n",
        "X_train, X_test, y_train, y_test = train_test_split(X, y)\n",
        "\n",
        "### SEE MODEL SELECTION NOTEBOOK C2 S4 1.2 FOR MAKE_PIPELINE\n",
        "### SEE FEATURE ENGINEERING NOTEBOOK C3 S1 FOR SIMPLEIMPUTER, ONEHOTENCODER,\n",
        "### AND STANDARDSCALER\n",
        "\n",
        "# the numerical values pipe\n",
        "num_proc = make_pipeline(SimpleImputer(strategy='median'), # impute with median\n",
        "                         StandardScaler()) # scale and center\n",
        "\n",
        "# the categorical values pipe\n",
        "cat_proc = make_pipeline(\n",
        "    SimpleImputer(strategy='constant', \n",
        "                  fill_value='missing'), # impute with placeholder\n",
        "    OneHotEncoder(handle_unknown='ignore')) # one hot encode"
      ],
      "execution_count": null,
      "outputs": []
    },
    {
      "cell_type": "markdown",
      "metadata": {
        "id": "4-Y2kLRXINFy"
      },
      "source": [
        "Now we need to send the categorical columns to cat_proc and the numerical columns to num_proc"
      ]
    },
    {
      "cell_type": "code",
      "metadata": {
        "id": "59g-NWDkITmw"
      },
      "source": [
        "def process_data(data, fit=True):\n",
        "  data_num = data.select_dtypes(include='number')\n",
        "  data_cat = data.select_dtypes(exclude='number')\n",
        "\n",
        "  if fit:\n",
        "    data_num_std = num_proc.fit_transform(data_num)\n",
        "    data_cat_std = cat_proc.fit_transform(data_cat).toarray()\n",
        "  else:\n",
        "    data_num_std = num_proc.transform(data_num)\n",
        "    data_cat_std = cat_proc.transform(data_cat).toarray()\n",
        "\n",
        "  data_all = np.concatenate((data_num_std,\n",
        "                                data_cat_std), axis=1)\n",
        "  return data_all"
      ],
      "execution_count": null,
      "outputs": []
    },
    {
      "cell_type": "markdown",
      "metadata": {
        "id": "DuL0eWeWMOHX"
      },
      "source": [
        "Then we can process our data for the train and test sets"
      ]
    },
    {
      "cell_type": "code",
      "metadata": {
        "id": "C2Dn_mwvKnvR"
      },
      "source": [
        "X_train_proc = process_data(X_train, fit=True)\n",
        "X_test_proc = process_data(X_test, fit=False)"
      ],
      "execution_count": null,
      "outputs": []
    },
    {
      "cell_type": "code",
      "metadata": {
        "colab": {
          "base_uri": "https://localhost:8080/"
        },
        "id": "py1nk0vtJ8kB",
        "outputId": "4ee144a4-04cb-4952-b5ca-bf6ec66419a0"
      },
      "source": [
        "model = LinearRegression()\n",
        "model.fit(X_train_proc, y_train)\n",
        "y_pred = model.predict(X_test_proc)\n",
        "model.score(X_test_proc, y_test)"
      ],
      "execution_count": null,
      "outputs": [
        {
          "output_type": "execute_result",
          "data": {
            "text/plain": [
              "0.32353768028924146"
            ]
          },
          "metadata": {
            "tags": []
          },
          "execution_count": 211
        }
      ]
    },
    {
      "cell_type": "code",
      "metadata": {
        "colab": {
          "base_uri": "https://localhost:8080/",
          "height": 283
        },
        "id": "Q4JxKne_Kyh7",
        "outputId": "25790458-02c8-4ff1-c7f7-7ea130315268"
      },
      "source": [
        "plt.plot(y_pred, y_test, ls='', marker='.')"
      ],
      "execution_count": null,
      "outputs": [
        {
          "output_type": "execute_result",
          "data": {
            "text/plain": [
              "[<matplotlib.lines.Line2D at 0x7f2ce215ec10>]"
            ]
          },
          "metadata": {
            "tags": []
          },
          "execution_count": 212
        },
        {
          "output_type": "display_data",
          "data": {
            "image/png": "[encoded data removed]",
            "text/plain": [
              "<Figure size 432x288 with 1 Axes>"
            ]
          },
          "metadata": {
            "tags": [],
            "needs_background": "light"
          }
        }
      ]
    },
    {
      "cell_type": "code",
      "metadata": {
        "id": "nfOMDbQULBI3"
      },
      "source": [
        "from sklearn.metrics import classification_report,confusion_matrix\n",
        "import seaborn as sns"
      ],
      "execution_count": null,
      "outputs": []
    },
    {
      "cell_type": "code",
      "metadata": {
        "colab": {
          "base_uri": "https://localhost:8080/",
          "height": 391
        },
        "id": "U1nNX65KL6E5",
        "outputId": "8e6a9a8c-8f11-430c-cdaf-783cb5355a6f"
      },
      "source": [
        "plt.figure(figsize=(10,6))\n",
        "sns.heatmap(confusion_matrix(y_test,np.round(y_pred)),annot=True)"
      ],
      "execution_count": null,
      "outputs": [
        {
          "output_type": "execute_result",
          "data": {
            "text/plain": [
              "<matplotlib.axes._subplots.AxesSubplot at 0x7f2ce21b8dd0>"
            ]
          },
          "metadata": {
            "tags": []
          },
          "execution_count": 214
        },
        {
          "output_type": "display_data",
          "data": {
            "image/png": "[encoded data removed]",
            "text/plain": [
              "<Figure size 720x432 with 2 Axes>"
            ]
          },
          "metadata": {
            "tags": [],
            "needs_background": "light"
          }
        }
      ]
    },
    {
      "cell_type": "markdown",
      "metadata": {
        "id": "UEi4QproMyXr"
      },
      "source": [
        "## Option 2\n",
        "\n",
        "We're going to use `make_column_selector` and `make_column_transformer` to avoid having to select datatypes with pandas. We can then parallelize the categorical and numerical pipes"
      ]
    },
    {
      "cell_type": "code",
      "metadata": {
        "id": "zTfuixicB8YD"
      },
      "source": [
        "# create X and y\n",
        "X = df.copy()\n",
        "y = X.pop('quality')\n",
        "\n",
        "# split into train/test\n",
        "X_train, X_test, y_train, y_test = train_test_split(X, y)\n",
        "\n",
        "# the numerical values pipe\n",
        "num_proc = make_pipeline(SimpleImputer(strategy='median'), # impute with median\n",
        "                         StandardScaler()) # scale and center\n",
        "\n",
        "# the categorical values pipe\n",
        "cat_proc = make_pipeline(\n",
        "    SimpleImputer(strategy='constant', \n",
        "                  fill_value='missing'), # impute with placeholder\n",
        "    OneHotEncoder(handle_unknown='ignore')) # one hot encode\n",
        "\n",
        "# parallelize the two pipes\n",
        "preprocessor = make_column_transformer((num_proc,\n",
        "                                make_column_selector(dtype_include=np.number)),\n",
        "                                       (cat_proc,\n",
        "                                make_column_selector(dtype_include=object)))"
      ],
      "execution_count": null,
      "outputs": []
    },
    {
      "cell_type": "code",
      "metadata": {
        "id": "Fohw5c98E9H0"
      },
      "source": [
        "def MyPipeline(**kwargs):\n",
        "    return make_pipeline(preprocessor,\n",
        "                         LinearRegression(**kwargs))"
      ],
      "execution_count": null,
      "outputs": []
    },
    {
      "cell_type": "code",
      "metadata": {
        "colab": {
          "base_uri": "https://localhost:8080/"
        },
        "id": "cy5suJ7vNRg_",
        "outputId": "bcdc9161-61fb-4733-a0e7-3fd5d99dc674"
      },
      "source": [
        "model = MyPipeline()\n",
        "model.fit(X_train, y_train)\n",
        "y_pred = model.predict(X_test)\n",
        "model.score(X_test,y_test)"
      ],
      "execution_count": null,
      "outputs": [
        {
          "output_type": "execute_result",
          "data": {
            "text/plain": [
              "0.32353768028924146"
            ]
          },
          "metadata": {
            "tags": []
          },
          "execution_count": 219
        }
      ]
    },
    {
      "cell_type": "code",
      "metadata": {
        "colab": {
          "base_uri": "https://localhost:8080/",
          "height": 283
        },
        "id": "BUMx9gqUNkpq",
        "outputId": "1592fdfe-438b-4436-960e-a734e625a283"
      },
      "source": [
        "plt.plot(y_pred, y_test, ls='', marker='.')"
      ],
      "execution_count": null,
      "outputs": [
        {
          "output_type": "execute_result",
          "data": {
            "text/plain": [
              "[<matplotlib.lines.Line2D at 0x7f2ce1ffdd10>]"
            ]
          },
          "metadata": {
            "tags": []
          },
          "execution_count": 220
        },
        {
          "output_type": "display_data",
          "data": {
            "image/png": "[encoded data removed]",
            "text/plain": [
              "<Figure size 432x288 with 1 Axes>"
            ]
          },
          "metadata": {
            "tags": [],
            "needs_background": "light"
          }
        }
      ]
    },
    {
      "cell_type": "code",
      "metadata": {
        "colab": {
          "base_uri": "https://localhost:8080/",
          "height": 391
        },
        "id": "8KKgX9eaNk4W",
        "outputId": "1861ac4f-ae70-495e-fb0d-c94e06fd2dc5"
      },
      "source": [
        "plt.figure(figsize=(10,6))\n",
        "sns.heatmap(confusion_matrix(y_test,np.round(y_pred)),annot=True)"
      ],
      "execution_count": null,
      "outputs": [
        {
          "output_type": "execute_result",
          "data": {
            "text/plain": [
              "<matplotlib.axes._subplots.AxesSubplot at 0x7f2ce1fd9750>"
            ]
          },
          "metadata": {
            "tags": []
          },
          "execution_count": 221
        },
        {
          "output_type": "display_data",
          "data": {
            "image/png": "[encoded data removed]",
            "text/plain": [
              "<Figure size 720x432 with 2 Axes>"
            ]
          },
          "metadata": {
            "tags": [],
            "needs_background": "light"
          }
        }
      ]
    },
    {
      "cell_type": "markdown",
      "metadata": {
        "id": "kQoSBf2SPA6q"
      },
      "source": [
        "We get more or less the same thing..."
      ]
    }
  ]
}