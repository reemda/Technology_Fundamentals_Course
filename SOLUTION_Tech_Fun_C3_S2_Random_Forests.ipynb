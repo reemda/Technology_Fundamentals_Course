{
  "nbformat": 4,
  "nbformat_minor": 0,
  "metadata": {
    "colab": {
      "name": "SOLUTION Tech Fun C3 S2 Random Forests.ipynb",
      "provenance": [],
      "toc_visible": true,
      "include_colab_link": true
    },
    "kernelspec": {
      "name": "python3",
      "display_name": "Python 3"
    },
    "language_info": {
      "name": "python"
    },
    "widgets": {
      "application/vnd.jupyter.widget-state+json": {
        "8490f8661adb42959c71715846dae5a6": {
          "model_module": "@jupyter-widgets/controls",
          "model_name": "VBoxModel",
          "model_module_version": "1.5.0",
          "state": {
            "_view_name": "VBoxView",
            "_dom_classes": [
              "widget-interact"
            ],
            "_model_name": "VBoxModel",
            "_view_module": "@jupyter-widgets/controls",
            "_model_module_version": "1.5.0",
            "_view_count": null,
            "_view_module_version": "1.5.0",
            "box_style": "",
            "layout": "IPY_MODEL_8ca0c716566540bdb935c99e44140d89",
            "_model_module": "@jupyter-widgets/controls",
            "children": [
              "IPY_MODEL_e3e05c279e7a4e5bb5a78ac754911f06",
              "IPY_MODEL_77ca40239fb647fdaa36d62cacf60d31"
            ]
          }
        },
        "8ca0c716566540bdb935c99e44140d89": {
          "model_module": "@jupyter-widgets/base",
          "model_name": "LayoutModel",
          "model_module_version": "1.2.0",
          "state": {
            "_view_name": "LayoutView",
            "grid_template_rows": null,
            "right": null,
            "justify_content": null,
            "_view_module": "@jupyter-widgets/base",
            "overflow": null,
            "_model_module_version": "1.2.0",
            "_view_count": null,
            "flex_flow": null,
            "width": null,
            "min_width": null,
            "border": null,
            "align_items": null,
            "bottom": null,
            "_model_module": "@jupyter-widgets/base",
            "top": null,
            "grid_column": null,
            "overflow_y": null,
            "overflow_x": null,
            "grid_auto_flow": null,
            "grid_area": null,
            "grid_template_columns": null,
            "flex": null,
            "_model_name": "LayoutModel",
            "justify_items": null,
            "grid_row": null,
            "max_height": null,
            "align_content": null,
            "visibility": null,
            "align_self": null,
            "height": null,
            "min_height": null,
            "padding": null,
            "grid_auto_rows": null,
            "grid_gap": null,
            "max_width": null,
            "order": null,
            "_view_module_version": "1.2.0",
            "grid_template_areas": null,
            "object_position": null,
            "object_fit": null,
            "grid_auto_columns": null,
            "margin": null,
            "display": null,
            "left": null
          }
        },
        "e3e05c279e7a4e5bb5a78ac754911f06": {
          "model_module": "@jupyter-widgets/controls",
          "model_name": "DropdownModel",
          "model_module_version": "1.5.0",
          "state": {
            "_options_labels": [
              "Base_Cake Sponge",
              "Base_Cake Chiffon",
              "KG",
              "Base_Cake Butter",
              "Base_Cake Pound",
              "Base_Cake Cheese",
              "Customer Perk-a-Cola",
              "Color_Group Olive",
              "Primary_Flavor Doughnut",
              "Secondary_Flavor Black Cherry",
              "Primary_Flavor Butter Toffee",
              "Secondary_Flavor Egg Nog",
              "Primary_Flavor Ginger Lime",
              "Color_Group White",
              "Primary_Flavor Mango",
              "Base_Cake Tiramisu",
              "Truffle_Type Chocolate Outer",
              "Truffle_Type Candy Outer",
              "Primary_Flavor Orange Pineapple\tP",
              "Secondary_Flavor Apricot",
              "Color_Group Opal",
              "Customer Zebrabar",
              "Primary_Flavor Plum",
              "Customer Slugworth",
              "Secondary_Flavor Black Currant",
              "Primary_Flavor Vanilla",
              "Primary_Flavor Dill Pickle",
              "Color_Group Tiffany",
              "Primary_Flavor Acai Berry",
              "Primary_Flavor Cheesecake",
              "Primary_Flavor Caramel Cream",
              "Secondary_Flavor Papaya",
              "Secondary_Flavor Cucumber",
              "Customer Fickelgruber",
              "Primary_Flavor Grand Mariner",
              "Primary_Flavor Lemon Custard",
              "Customer Dandy's Candies",
              "Primary_Flavor Kettle Corn",
              "Secondary_Flavor Whipped Cream",
              "Primary_Flavor Lemon Bar",
              "Color_Group Amethyst",
              "Primary_Flavor Toasted Coconut",
              "Color_Group Black",
              "Primary_Flavor Blueberry",
              "Color_Group Citrine",
              "Primary_Flavor Spice",
              "Secondary_Flavor Lemon",
              "Primary_Flavor Bavarian Cream",
              "Secondary_Flavor Passion Fruit",
              "Primary_Flavor Cherry Cream Spice",
              "Primary_Flavor Coffee",
              "Color_Group Teal",
              "Primary_Flavor Irish Cream",
              "Date 7/2020",
              "Secondary_Flavor Apple",
              "Primary_Flavor Orange",
              "Secondary_Flavor Tangerine",
              "Date 5/2020",
              "Date 1/2020",
              "Primary_Flavor Coconut",
              "Secondary_Flavor Mojito",
              "Primary_Flavor Black Licorice",
              "Primary_Flavor Pink Lemonade",
              "Date 12/2020",
              "Secondary_Flavor Kiwi",
              "Primary_Flavor Fruit Punch",
              "Secondary_Flavor Rock and Rye",
              "Primary_Flavor Raspberry Ginger Ale",
              "Color_Group Rose",
              "Primary_Flavor Lemon",
              "Primary_Flavor Gingersnap",
              "Date 8/2020",
              "Primary_Flavor Chocolate",
              "Secondary_Flavor Rum",
              "Color_Group Taupe",
              "Primary_Flavor Watermelon",
              "Primary_Flavor Cherry Cola",
              "Primary_Flavor Sour",
              "Secondary_Flavor Dill Pickle",
              "Primary_Flavor Cream Soda",
              "Primary_Flavor Orange Brandy",
              "Secondary_Flavor Banana",
              "Date 10/2020",
              "Secondary_Flavor Vanilla",
              "Date 2/2020",
              "Color_Group Burgundy",
              "Date 6/2020",
              "Secondary_Flavor Pear",
              "Primary_Flavor Wild Cherry Cream",
              "Primary_Flavor Wintergreen",
              "Secondary_Flavor Fuzzy Navel",
              "Primary_Flavor Butter Pecan",
              "Color_Group Slate",
              "Date 4/2020",
              "Primary_Flavor Apricot",
              "Secondary_Flavor Mixed Berry",
              "Secondary_Flavor Tutti Frutti",
              "Date 11/2020",
              "Secondary_Flavor Peppermint",
              "Truffle_Type Jelly Filled",
              "Date 3/2020",
              "Secondary_Flavor Mango",
              "Secondary_Flavor Ginger Beer",
              "Primary_Flavor Ginger Ale",
              "Date 9/2020",
              "Primary_Flavor Pecan",
              "Primary_Flavor Horchata",
              "Secondary_Flavor Butter Rum",
              "Secondary_Flavor Toffee",
              "Primary_Flavor Creme de Menthe",
              "Primary_Flavor Margarita",
              "Primary_Flavor Pear",
              "Primary_Flavor Butter Milk",
              "Primary_Flavor Sassafras",
              "Primary_Flavor Birch Beer",
              "Secondary_Flavor Hazelnut",
              "Primary_Flavor Chocolate Mint",
              "Primary_Flavor Amaretto",
              "Secondary_Flavor Wild Cherry Cream"
            ],
            "_view_name": "DropdownView",
            "style": "IPY_MODEL_e3dd4563926d425595ebc08b49c69c89",
            "_dom_classes": [],
            "description": "feature",
            "_model_name": "DropdownModel",
            "index": 3,
            "_view_module": "@jupyter-widgets/controls",
            "_model_module_version": "1.5.0",
            "_view_count": null,
            "disabled": false,
            "_view_module_version": "1.5.0",
            "description_tooltip": null,
            "_model_module": "@jupyter-widgets/controls",
            "layout": "IPY_MODEL_faf7fc3ffa494733bb06445382bb4d58"
          }
        },
        "77ca40239fb647fdaa36d62cacf60d31": {
          "model_module": "@jupyter-widgets/output",
          "model_name": "OutputModel",
          "model_module_version": "1.0.0",
          "state": {
            "_view_name": "OutputView",
            "msg_id": "",
            "_dom_classes": [],
            "_model_name": "OutputModel",
            "outputs": [
              {
                "output_type": "stream",
                "metadata": {
                  "tags": []
                },
                "text": "with:    1.40e-01\nwithout: 2.58e-01\n",
                "stream": "stdout"
              }
            ],
            "_view_module": "@jupyter-widgets/output",
            "_model_module_version": "1.0.0",
            "_view_count": null,
            "_view_module_version": "1.0.0",
            "layout": "IPY_MODEL_90fd90d4c8ce43cfbca5ae2d4110dfe4",
            "_model_module": "@jupyter-widgets/output"
          }
        },
        "e3dd4563926d425595ebc08b49c69c89": {
          "model_module": "@jupyter-widgets/controls",
          "model_name": "DescriptionStyleModel",
          "model_module_version": "1.5.0",
          "state": {
            "_view_name": "StyleView",
            "_model_name": "DescriptionStyleModel",
            "description_width": "",
            "_view_module": "@jupyter-widgets/base",
            "_model_module_version": "1.5.0",
            "_view_count": null,
            "_view_module_version": "1.2.0",
            "_model_module": "@jupyter-widgets/controls"
          }
        },
        "faf7fc3ffa494733bb06445382bb4d58": {
          "model_module": "@jupyter-widgets/base",
          "model_name": "LayoutModel",
          "model_module_version": "1.2.0",
          "state": {
            "_view_name": "LayoutView",
            "grid_template_rows": null,
            "right": null,
            "justify_content": null,
            "_view_module": "@jupyter-widgets/base",
            "overflow": null,
            "_model_module_version": "1.2.0",
            "_view_count": null,
            "flex_flow": null,
            "width": null,
            "min_width": null,
            "border": null,
            "align_items": null,
            "bottom": null,
            "_model_module": "@jupyter-widgets/base",
            "top": null,
            "grid_column": null,
            "overflow_y": null,
            "overflow_x": null,
            "grid_auto_flow": null,
            "grid_area": null,
            "grid_template_columns": null,
            "flex": null,
            "_model_name": "LayoutModel",
            "justify_items": null,
            "grid_row": null,
            "max_height": null,
            "align_content": null,
            "visibility": null,
            "align_self": null,
            "height": null,
            "min_height": null,
            "padding": null,
            "grid_auto_rows": null,
            "grid_gap": null,
            "max_width": null,
            "order": null,
            "_view_module_version": "1.2.0",
            "grid_template_areas": null,
            "object_position": null,
            "object_fit": null,
            "grid_auto_columns": null,
            "margin": null,
            "display": null,
            "left": null
          }
        },
        "90fd90d4c8ce43cfbca5ae2d4110dfe4": {
          "model_module": "@jupyter-widgets/base",
          "model_name": "LayoutModel",
          "model_module_version": "1.2.0",
          "state": {
            "_view_name": "LayoutView",
            "grid_template_rows": null,
            "right": null,
            "justify_content": null,
            "_view_module": "@jupyter-widgets/base",
            "overflow": null,
            "_model_module_version": "1.2.0",
            "_view_count": null,
            "flex_flow": null,
            "width": null,
            "min_width": null,
            "border": null,
            "align_items": null,
            "bottom": null,
            "_model_module": "@jupyter-widgets/base",
            "top": null,
            "grid_column": null,
            "overflow_y": null,
            "overflow_x": null,
            "grid_auto_flow": null,
            "grid_area": null,
            "grid_template_columns": null,
            "flex": null,
            "_model_name": "LayoutModel",
            "justify_items": null,
            "grid_row": null,
            "max_height": null,
            "align_content": null,
            "visibility": null,
            "align_self": null,
            "height": null,
            "min_height": null,
            "padding": null,
            "grid_auto_rows": null,
            "grid_gap": null,
            "max_width": null,
            "order": null,
            "_view_module_version": "1.2.0",
            "grid_template_areas": null,
            "object_position": null,
            "object_fit": null,
            "grid_auto_columns": null,
            "margin": null,
            "display": null,
            "left": null
          }
        }
      }
    }
  },
  "cells": [
    {
      "cell_type": "markdown",
      "metadata": {
        "id": "view-in-github",
        "colab_type": "text"
      },
      "source": [
        "<a href=\"https://colab.research.google.com/github/reemda/Technology_Fundamentals_Course/blob/main/SOLUTION_Tech_Fun_C3_S2_Random_Forests.ipynb\" target=\"_parent\"><img src=\"https://colab.research.google.com/assets/colab-badge.svg\" alt=\"Open In Colab\"/></a>"
      ]
    },
    {
      "cell_type": "markdown",
      "metadata": {
        "id": "vhe1yX4AMckE"
      },
      "source": [
        "# Technology Fundamentals Course 3, Session 2: Bagging: Decision Trees and Random Forests\n",
        "\n",
        "**Instructor**: Wesley Beckner\n",
        "\n",
        "**Contact**: wesleybeckner@gmail.com\n",
        "\n",
        "**Teaching Assitants**: Varsha Bang, Harsha Vardhan\n",
        "\n",
        "**Contact**: vbang@uw.edu, harshav@uw.edu\n",
        "<br>\n",
        "\n",
        "---\n",
        "\n",
        "<br>\n",
        "\n",
        "In this session, we're going back to the topic of supervised learning models. These models however, belong to a special class of methods called bagging, or bootstrap aggregation. \n",
        "\n",
        "Bagging is an ensemble learning method. In this method, many weak classifiers cast their votes in a general election for the final prediction. \n",
        "\n",
        "The weak learners that random forests are made of, are called decision trees. \n",
        "<p align=\"center\">\n",
        "<img src=\"https://media.giphy.com/media/uX5BYSQALx12o/giphy.gif\" width=400px></img>\n",
        "</p>\n",
        "\n",
        "<br>\n",
        "\n",
        "---\n",
        "\n",
        "<br>\n",
        "\n",
        "<a name='top'></a>\n",
        "\n",
        "# Contents\n",
        "\n",
        "* 4.0 [Preparing Environment and Importing Data](#x.0)\n",
        "  * 4.0.1 [Import Packages](#x.0.1)\n",
        "  * 4.0.2 [Load Dataset](#x.0.2)\n",
        "* 4.1 [Decision Trees](#x.1)\n",
        "  * 4.1.1 [Creating a Decision Tree](#x.1.1)\n",
        "  * 4.1.2 [Interpreting a Decision Tree](#x.1.2)\n",
        "    * 4.1.2.1 [Node & Branch Diagram](#x.1.2.1)\n",
        "    * 4.1.2.2 [Decision Boundaries](#x.1.2.2)\n",
        "  * 4.1.3 [Overfitting a Decision Tree](#x.1.3)\n",
        "* 4.2 [Random Forests and Bagging](#x.2)\n",
        "  * 4.2.1 [What is Bagging?](#x.2.1)\n",
        "  * 4.2.2 [Random Forests for Classification](#x.2.2)\n",
        "    * 4.2.2.1 [Interpreting a Random Forest](#x.2.2.1)\n",
        "  * 4.2.3 [Random Forests for Regression](#x.2.3)\n",
        "  \n",
        "\n",
        "<br>\n",
        "\n",
        "---"
      ]
    },
    {
      "cell_type": "markdown",
      "metadata": {
        "id": "mNtJitcRW51Y"
      },
      "source": [
        "<a name='x.0'></a>\n",
        "\n",
        "## 4.0 Preparing Environment and Importing Data\n",
        "\n",
        "[back to top](#top)"
      ]
    },
    {
      "cell_type": "markdown",
      "metadata": {
        "id": "DnABRrRK6r77"
      },
      "source": [
        "<a name='x.0.1'></a>\n",
        "\n",
        "### 4.0.1 Import Packages\n",
        "\n",
        "[back to top](#top)"
      ]
    },
    {
      "cell_type": "code",
      "metadata": {
        "id": "0hnH-aANsRl6"
      },
      "source": [
        "import pandas as pd\n",
        "import numpy as np\n",
        "import datetime\n",
        "import matplotlib.pyplot as plt\n",
        "import plotly.express as px\n",
        "import random\n",
        "import scipy.stats\n",
        "from sklearn.preprocessing import OneHotEncoder\n",
        "from statsmodels.stats.outliers_influence import variance_inflation_factor\n",
        "from sklearn.ensemble import RandomForestClassifier\n",
        "import seaborn as sns; sns.set()\n",
        "import graphviz \n",
        "from sklearn.metrics import accuracy_score\n",
        "from ipywidgets import interact, interactive, widgets\n",
        "from sklearn.metrics import mean_squared_error\n",
        "from sklearn.model_selection import train_test_split\n",
        "from sklearn import metrics"
      ],
      "execution_count": null,
      "outputs": []
    },
    {
      "cell_type": "markdown",
      "metadata": {
        "id": "sBJ6odm-6xJS"
      },
      "source": [
        "<a name='x.0.2'></a>\n",
        "\n",
        "### 4.0.2 Load Dataset\n",
        "\n",
        "[back to top](#top)"
      ]
    },
    {
      "cell_type": "code",
      "metadata": {
        "colab": {
          "base_uri": "https://localhost:8080/",
          "height": 240
        },
        "id": "FE20r4vgsQOG",
        "outputId": "015e9370-d280-4ddb-d87d-314a0bdcea08"
      },
      "source": [
        "margin = pd.read_csv('https://raw.githubusercontent.com/wesleybeckner/'\\\n",
        "                 'ds_for_engineers/main/data/truffle_margin/truffle_margin_customer.csv')\n",
        "print(margin.shape, end='\\n\\n')\n",
        "display(margin.head())"
      ],
      "execution_count": null,
      "outputs": [
        {
          "output_type": "stream",
          "text": [
            "(1668, 9)\n",
            "\n"
          ],
          "name": "stdout"
        },
        {
          "output_type": "display_data",
          "data": {
            "text/html": [
              "<div>\n",
              "<style scoped>\n",
              "    .dataframe tbody tr th:only-of-type {\n",
              "        vertical-align: middle;\n",
              "    }\n",
              "\n",
              "    .dataframe tbody tr th {\n",
              "        vertical-align: top;\n",
              "    }\n",
              "\n",
              "    .dataframe thead th {\n",
              "        text-align: right;\n",
              "    }\n",
              "</style>\n",
              "<table border=\"1\" class=\"dataframe\">\n",
              "  <thead>\n",
              "    <tr style=\"text-align: right;\">\n",
              "      <th></th>\n",
              "      <th>Base Cake</th>\n",
              "      <th>Truffle Type</th>\n",
              "      <th>Primary Flavor</th>\n",
              "      <th>Secondary Flavor</th>\n",
              "      <th>Color Group</th>\n",
              "      <th>Customer</th>\n",
              "      <th>Date</th>\n",
              "      <th>KG</th>\n",
              "      <th>EBITDA/KG</th>\n",
              "    </tr>\n",
              "  </thead>\n",
              "  <tbody>\n",
              "    <tr>\n",
              "      <th>0</th>\n",
              "      <td>Butter</td>\n",
              "      <td>Candy Outer</td>\n",
              "      <td>Butter Pecan</td>\n",
              "      <td>Toffee</td>\n",
              "      <td>Taupe</td>\n",
              "      <td>Slugworth</td>\n",
              "      <td>1/2020</td>\n",
              "      <td>53770.342593</td>\n",
              "      <td>0.500424</td>\n",
              "    </tr>\n",
              "    <tr>\n",
              "      <th>1</th>\n",
              "      <td>Butter</td>\n",
              "      <td>Candy Outer</td>\n",
              "      <td>Ginger Lime</td>\n",
              "      <td>Banana</td>\n",
              "      <td>Amethyst</td>\n",
              "      <td>Slugworth</td>\n",
              "      <td>1/2020</td>\n",
              "      <td>466477.578125</td>\n",
              "      <td>0.220395</td>\n",
              "    </tr>\n",
              "    <tr>\n",
              "      <th>2</th>\n",
              "      <td>Butter</td>\n",
              "      <td>Candy Outer</td>\n",
              "      <td>Ginger Lime</td>\n",
              "      <td>Banana</td>\n",
              "      <td>Burgundy</td>\n",
              "      <td>Perk-a-Cola</td>\n",
              "      <td>1/2020</td>\n",
              "      <td>80801.728070</td>\n",
              "      <td>0.171014</td>\n",
              "    </tr>\n",
              "    <tr>\n",
              "      <th>3</th>\n",
              "      <td>Butter</td>\n",
              "      <td>Candy Outer</td>\n",
              "      <td>Ginger Lime</td>\n",
              "      <td>Banana</td>\n",
              "      <td>White</td>\n",
              "      <td>Fickelgruber</td>\n",
              "      <td>1/2020</td>\n",
              "      <td>18046.111111</td>\n",
              "      <td>0.233025</td>\n",
              "    </tr>\n",
              "    <tr>\n",
              "      <th>4</th>\n",
              "      <td>Butter</td>\n",
              "      <td>Candy Outer</td>\n",
              "      <td>Ginger Lime</td>\n",
              "      <td>Rum</td>\n",
              "      <td>Amethyst</td>\n",
              "      <td>Fickelgruber</td>\n",
              "      <td>1/2020</td>\n",
              "      <td>19147.454268</td>\n",
              "      <td>0.480689</td>\n",
              "    </tr>\n",
              "  </tbody>\n",
              "</table>\n",
              "</div>"
            ],
            "text/plain": [
              "  Base Cake Truffle Type Primary Flavor  ...    Date             KG EBITDA/KG\n",
              "0    Butter  Candy Outer   Butter Pecan  ...  1/2020   53770.342593  0.500424\n",
              "1    Butter  Candy Outer    Ginger Lime  ...  1/2020  466477.578125  0.220395\n",
              "2    Butter  Candy Outer    Ginger Lime  ...  1/2020   80801.728070  0.171014\n",
              "3    Butter  Candy Outer    Ginger Lime  ...  1/2020   18046.111111  0.233025\n",
              "4    Butter  Candy Outer    Ginger Lime  ...  1/2020   19147.454268  0.480689\n",
              "\n",
              "[5 rows x 9 columns]"
            ]
          },
          "metadata": {
            "tags": []
          }
        }
      ]
    },
    {
      "cell_type": "markdown",
      "metadata": {
        "id": "tUQoMJSTtiGV"
      },
      "source": [
        "We're going to recreate the same operations we employed in Session 1, Feature Engineering:"
      ]
    },
    {
      "cell_type": "code",
      "metadata": {
        "id": "EebzVNLWsmvJ"
      },
      "source": [
        "# identify categorical columns\n",
        "cat_cols = margin.columns[:7]\n",
        "\n",
        "# create the encoder object\n",
        "enc = OneHotEncoder()\n",
        "\n",
        "# grab the columns we want to convert from strings\n",
        "X_cat = margin[cat_cols]\n",
        "\n",
        "# fit our encoder to this data\n",
        "enc.fit(X_cat)\n",
        "onehotlabels = enc.transform(X_cat).toarray()\n",
        "X_num = margin[['KG']]\n",
        "X_truf = np.concatenate((onehotlabels, X_num.values),axis=1)\n",
        "\n",
        "# grab our y data\n",
        "y_truf = margin['EBITDA/KG'].values"
      ],
      "execution_count": null,
      "outputs": []
    },
    {
      "cell_type": "markdown",
      "metadata": {
        "id": "eU1pxLuFthRg"
      },
      "source": [
        "Lastly, to create a classification task, we're going to identify high, med, and low value products:"
      ]
    },
    {
      "cell_type": "code",
      "metadata": {
        "colab": {
          "base_uri": "https://localhost:8080/",
          "height": 391
        },
        "id": "aRoBfeb7vFKH",
        "outputId": "0984139f-f30d-4280-cc21-bf1e6206e8df"
      },
      "source": [
        "print('bad less than: {:.2f}'.format(margin[margin.columns[-1]].quantile(.25)), end='\\n\\n')\n",
        "print('low less than: {:.2f}'.format(margin[margin.columns[-1]].quantile(.5)), end='\\n\\n')\n",
        "print('med less than: {:.2f}'.format(margin[margin.columns[-1]].quantile(.75)), end='\\n\\n')\n",
        "pd.DataFrame(margin[margin.columns[-2]]).boxplot(showfliers=False)"
      ],
      "execution_count": null,
      "outputs": [
        {
          "output_type": "stream",
          "text": [
            "bad less than: 0.12\n",
            "\n",
            "low less than: 0.22\n",
            "\n",
            "med less than: 0.35\n",
            "\n"
          ],
          "name": "stdout"
        },
        {
          "output_type": "execute_result",
          "data": {
            "text/plain": [
              "<matplotlib.axes._subplots.AxesSubplot at 0x7fa123bb30d0>"
            ]
          },
          "metadata": {
            "tags": []
          },
          "execution_count": 116
        },
        {
          "output_type": "display_data",
          "data": {
            "image/png": "[encoded data removed]",
            "text/plain": [
              "<Figure size 432x288 with 1 Axes>"
            ]
          },
          "metadata": {
            "tags": []
          }
        }
      ]
    },
    {
      "cell_type": "code",
      "metadata": {
        "id": "0S9FP8JPwEjT"
      },
      "source": [
        "margin['profitability'] = margin[margin.columns[-1]].apply(\n",
        "    lambda x: 'bad' if x <= margin[margin.columns[-1]].quantile(.25) else\n",
        "              'low' if x <= margin[margin.columns[-1]].quantile(.50) else\n",
        "              'med' if x <= margin[margin.columns[-1]].quantile(.75) else 'high')"
      ],
      "execution_count": null,
      "outputs": []
    },
    {
      "cell_type": "code",
      "metadata": {
        "colab": {
          "base_uri": "https://localhost:8080/",
          "height": 285
        },
        "id": "NodDImgkxSbM",
        "outputId": "8f9ccef9-04b8-485d-b594-1495acd375fb"
      },
      "source": [
        "margin['profitability'].hist()"
      ],
      "execution_count": null,
      "outputs": [
        {
          "output_type": "execute_result",
          "data": {
            "text/plain": [
              "<matplotlib.axes._subplots.AxesSubplot at 0x7fa1238f17d0>"
            ]
          },
          "metadata": {
            "tags": []
          },
          "execution_count": 119
        },
        {
          "output_type": "display_data",
          "data": {
            "image/png": "[encoded data removed]",
            "text/plain": [
              "<Figure size 432x288 with 1 Axes>"
            ]
          },
          "metadata": {
            "tags": []
          }
        }
      ]
    },
    {
      "cell_type": "code",
      "metadata": {
        "colab": {
          "base_uri": "https://localhost:8080/",
          "height": 222
        },
        "id": "PN1XrKEoxHsI",
        "outputId": "da4907f6-62c0-4126-b901-6caa80b080e8"
      },
      "source": [
        "class_profit = {'bad': 0, 'low': 1, 'med': 2, 'high': 3}\n",
        "y_truf_class = margin['profitability'].map(class_profit).values\n",
        "margin['profitability_encoding'] = y_truf_class\n",
        "margin.head()"
      ],
      "execution_count": null,
      "outputs": [
        {
          "output_type": "execute_result",
          "data": {
            "text/html": [
              "<div>\n",
              "<style scoped>\n",
              "    .dataframe tbody tr th:only-of-type {\n",
              "        vertical-align: middle;\n",
              "    }\n",
              "\n",
              "    .dataframe tbody tr th {\n",
              "        vertical-align: top;\n",
              "    }\n",
              "\n",
              "    .dataframe thead th {\n",
              "        text-align: right;\n",
              "    }\n",
              "</style>\n",
              "<table border=\"1\" class=\"dataframe\">\n",
              "  <thead>\n",
              "    <tr style=\"text-align: right;\">\n",
              "      <th></th>\n",
              "      <th>Base Cake</th>\n",
              "      <th>Truffle Type</th>\n",
              "      <th>Primary Flavor</th>\n",
              "      <th>Secondary Flavor</th>\n",
              "      <th>Color Group</th>\n",
              "      <th>Customer</th>\n",
              "      <th>Date</th>\n",
              "      <th>KG</th>\n",
              "      <th>EBITDA/KG</th>\n",
              "      <th>profitability</th>\n",
              "      <th>profitability_encoding</th>\n",
              "    </tr>\n",
              "  </thead>\n",
              "  <tbody>\n",
              "    <tr>\n",
              "      <th>0</th>\n",
              "      <td>Butter</td>\n",
              "      <td>Candy Outer</td>\n",
              "      <td>Butter Pecan</td>\n",
              "      <td>Toffee</td>\n",
              "      <td>Taupe</td>\n",
              "      <td>Slugworth</td>\n",
              "      <td>1/2020</td>\n",
              "      <td>53770.342593</td>\n",
              "      <td>0.500424</td>\n",
              "      <td>high</td>\n",
              "      <td>3</td>\n",
              "    </tr>\n",
              "    <tr>\n",
              "      <th>1</th>\n",
              "      <td>Butter</td>\n",
              "      <td>Candy Outer</td>\n",
              "      <td>Ginger Lime</td>\n",
              "      <td>Banana</td>\n",
              "      <td>Amethyst</td>\n",
              "      <td>Slugworth</td>\n",
              "      <td>1/2020</td>\n",
              "      <td>466477.578125</td>\n",
              "      <td>0.220395</td>\n",
              "      <td>med</td>\n",
              "      <td>2</td>\n",
              "    </tr>\n",
              "    <tr>\n",
              "      <th>2</th>\n",
              "      <td>Butter</td>\n",
              "      <td>Candy Outer</td>\n",
              "      <td>Ginger Lime</td>\n",
              "      <td>Banana</td>\n",
              "      <td>Burgundy</td>\n",
              "      <td>Perk-a-Cola</td>\n",
              "      <td>1/2020</td>\n",
              "      <td>80801.728070</td>\n",
              "      <td>0.171014</td>\n",
              "      <td>low</td>\n",
              "      <td>1</td>\n",
              "    </tr>\n",
              "    <tr>\n",
              "      <th>3</th>\n",
              "      <td>Butter</td>\n",
              "      <td>Candy Outer</td>\n",
              "      <td>Ginger Lime</td>\n",
              "      <td>Banana</td>\n",
              "      <td>White</td>\n",
              "      <td>Fickelgruber</td>\n",
              "      <td>1/2020</td>\n",
              "      <td>18046.111111</td>\n",
              "      <td>0.233025</td>\n",
              "      <td>med</td>\n",
              "      <td>2</td>\n",
              "    </tr>\n",
              "    <tr>\n",
              "      <th>4</th>\n",
              "      <td>Butter</td>\n",
              "      <td>Candy Outer</td>\n",
              "      <td>Ginger Lime</td>\n",
              "      <td>Rum</td>\n",
              "      <td>Amethyst</td>\n",
              "      <td>Fickelgruber</td>\n",
              "      <td>1/2020</td>\n",
              "      <td>19147.454268</td>\n",
              "      <td>0.480689</td>\n",
              "      <td>high</td>\n",
              "      <td>3</td>\n",
              "    </tr>\n",
              "  </tbody>\n",
              "</table>\n",
              "</div>"
            ],
            "text/plain": [
              "  Base Cake Truffle Type  ... profitability profitability_encoding\n",
              "0    Butter  Candy Outer  ...          high                      3\n",
              "1    Butter  Candy Outer  ...           med                      2\n",
              "2    Butter  Candy Outer  ...           low                      1\n",
              "3    Butter  Candy Outer  ...           med                      2\n",
              "4    Butter  Candy Outer  ...          high                      3\n",
              "\n",
              "[5 rows x 11 columns]"
            ]
          },
          "metadata": {
            "tags": []
          },
          "execution_count": 120
        }
      ]
    },
    {
      "cell_type": "markdown",
      "metadata": {
        "id": "062Czp9-rBOi"
      },
      "source": [
        "<a name='x.1'></a>\n",
        "\n",
        "## 4.1 Decision Trees\n",
        "\n",
        "[back to top](#top)\n",
        "\n",
        "In essence, a decision tree is a series of binary questions. \n",
        "\n",
        "<img src=\"https://miro.medium.com/max/499/0*KQUBhmPmWeP8mHQz.jpeg\" width=400px></img>\n",
        "\n",
        "Let's begin this discussion by talking about how we make decision trees in sklearn."
      ]
    },
    {
      "cell_type": "markdown",
      "metadata": {
        "id": "lPKG1QnNIq_l"
      },
      "source": [
        "<a name='x.1.1'></a>\n",
        "\n",
        "### 4.1.1 Creating a Decision Tree\n",
        "\n",
        "[back to top](#top)"
      ]
    },
    {
      "cell_type": "code",
      "metadata": {
        "id": "c_D9x-NJaFdP"
      },
      "source": [
        "from sklearn import tree\n",
        "X = [[0, 0], [1, 1]]\n",
        "y = [0, 1]\n",
        "clf = tree.DecisionTreeClassifier()\n",
        "clf = clf.fit(X, y)"
      ],
      "execution_count": null,
      "outputs": []
    },
    {
      "cell_type": "markdown",
      "metadata": {
        "id": "AO-I1hU9loA_"
      },
      "source": [
        "After fitting the model we can use the predict method to show the output for a sample"
      ]
    },
    {
      "cell_type": "code",
      "metadata": {
        "colab": {
          "base_uri": "https://localhost:8080/"
        },
        "id": "KThfKTn_lnZL",
        "outputId": "06156a5a-6b6a-4c3d-faad-3cb4c7fd8281"
      },
      "source": [
        "clf.predict([[0,1]])"
      ],
      "execution_count": null,
      "outputs": [
        {
          "output_type": "execute_result",
          "data": {
            "text/plain": [
              "array([0])"
            ]
          },
          "metadata": {
            "tags": []
          },
          "execution_count": 127
        }
      ]
    },
    {
      "cell_type": "markdown",
      "metadata": {
        "id": "Cv2SNh3Qlwss"
      },
      "source": [
        "Similar to what we saw with GMMs, we also have access to the probabilities of the outcomes:"
      ]
    },
    {
      "cell_type": "code",
      "metadata": {
        "colab": {
          "base_uri": "https://localhost:8080/"
        },
        "id": "6IZ3F7rGlvy9",
        "outputId": "6f4d4f2b-ffdb-4075-9346-8a4cd90a4c5a"
      },
      "source": [
        "clf.predict_proba([[1, 1]])"
      ],
      "execution_count": null,
      "outputs": [
        {
          "output_type": "execute_result",
          "data": {
            "text/plain": [
              "array([[0., 1.]])"
            ]
          },
          "metadata": {
            "tags": []
          },
          "execution_count": 130
        }
      ]
    },
    {
      "cell_type": "markdown",
      "metadata": {
        "id": "8X-bzQHQFPRJ"
      },
      "source": [
        "Let's now go on to using visual strategies to interpreting trees."
      ]
    },
    {
      "cell_type": "markdown",
      "metadata": {
        "id": "fVQJAJXyn1Ks"
      },
      "source": [
        "<a name='x.1.2'></a>\n",
        "\n",
        "### 4.1.2 Interpreting a Decision Tree\n",
        "\n",
        "[back to top](#top)\n",
        "\n",
        "Throughout today, we will discuss many ways to view both a single tree and a random forest of trees."
      ]
    },
    {
      "cell_type": "markdown",
      "metadata": {
        "id": "y7t0phKwEmsG"
      },
      "source": [
        "<a name='x.1.2.1'></a>\n",
        "\n",
        "#### 4.1.2.1 Node & Branch Diagram\n",
        "\n",
        "[back to top](#top)\n",
        "\n",
        "We can visualize the decision tree:"
      ]
    },
    {
      "cell_type": "code",
      "metadata": {
        "colab": {
          "base_uri": "https://localhost:8080/",
          "height": 301
        },
        "id": "xFMmvuGknNtw",
        "outputId": "71b46d6a-6868-4b4a-ff7e-3859eccb9b98"
      },
      "source": [
        "tree.plot_tree(clf)"
      ],
      "execution_count": null,
      "outputs": [
        {
          "output_type": "execute_result",
          "data": {
            "text/plain": [
              "[Text(167.4, 163.07999999999998, 'X[0] <= 0.5\\ngini = 0.5\\nsamples = 2\\nvalue = [1, 1]'),\n",
              " Text(83.7, 54.360000000000014, 'gini = 0.0\\nsamples = 1\\nvalue = [1, 0]'),\n",
              " Text(251.10000000000002, 54.360000000000014, 'gini = 0.0\\nsamples = 1\\nvalue = [0, 1]')]"
            ]
          },
          "metadata": {
            "tags": []
          },
          "execution_count": 131
        },
        {
          "output_type": "display_data",
          "data": {
            "image/png": "[encoded data removed]",
            "text/plain": [
              "<Figure size 432x288 with 1 Axes>"
            ]
          },
          "metadata": {
            "tags": []
          }
        }
      ]
    },
    {
      "cell_type": "markdown",
      "metadata": {
        "id": "EOVxO6N8rQCB"
      },
      "source": [
        "or, more prettily:"
      ]
    },
    {
      "cell_type": "code",
      "metadata": {
        "colab": {
          "base_uri": "https://localhost:8080/",
          "height": 241
        },
        "id": "EGWlJjZ2rTOA",
        "outputId": "06473f08-82ce-4974-c5ba-41d1a9754861"
      },
      "source": [
        "import graphviz \n",
        "dot_data = tree.export_graphviz(clf, out_file=None) \n",
        "graph = graphviz.Source(dot_data) \n",
        "graph"
      ],
      "execution_count": null,
      "outputs": [
        {
          "output_type": "execute_result",
          "data": {
            "text/plain": [
              "<graphviz.files.Source at 0x7fa1237d49d0>"
            ],
            "image/svg+xml": "<?xml version=\"1.0\" encoding=\"UTF-8\" standalone=\"no\"?>\n<!DOCTYPE svg PUBLIC \"-//W3C//DTD SVG 1.1//EN\"\n \"http://www.w3.org/Graphics/SVG/1.1/DTD/svg11.dtd\">\n<!-- Generated by graphviz version 2.40.1 (20161225.0304)\n -->\n<!-- Title: Tree Pages: 1 -->\n<svg width=\"216pt\" height=\"165pt\"\n viewBox=\"0.00 0.00 216.00 165.00\" xmlns=\"http://www.w3.org/2000/svg\" xmlns:xlink=\"http://www.w3.org/1999/xlink\">\n<g id=\"graph0\" class=\"graph\" transform=\"scale(1 1) rotate(0) translate(4 161)\">\n<title>Tree</title>\n<polygon fill=\"#ffffff\" stroke=\"transparent\" points=\"-4,4 -4,-161 212,-161 212,4 -4,4\"/>\n<!-- 0 -->\n<g id=\"node1\" class=\"node\">\n<title>0</title>\n<polygon fill=\"none\" stroke=\"#000000\" points=\"151,-157 56,-157 56,-89 151,-89 151,-157\"/>\n<text text-anchor=\"middle\" x=\"103.5\" y=\"-141.8\" font-family=\"Times,serif\" font-size=\"14.00\" fill=\"#000000\">X[0] &lt;= 0.5</text>\n<text text-anchor=\"middle\" x=\"103.5\" y=\"-126.8\" font-family=\"Times,serif\" font-size=\"14.00\" fill=\"#000000\">gini = 0.5</text>\n<text text-anchor=\"middle\" x=\"103.5\" y=\"-111.8\" font-family=\"Times,serif\" font-size=\"14.00\" fill=\"#000000\">samples = 2</text>\n<text text-anchor=\"middle\" x=\"103.5\" y=\"-96.8\" font-family=\"Times,serif\" font-size=\"14.00\" fill=\"#000000\">value = [1, 1]</text>\n</g>\n<!-- 1 -->\n<g id=\"node2\" class=\"node\">\n<title>1</title>\n<polygon fill=\"none\" stroke=\"#000000\" points=\"95,-53 0,-53 0,0 95,0 95,-53\"/>\n<text text-anchor=\"middle\" x=\"47.5\" y=\"-37.8\" font-family=\"Times,serif\" font-size=\"14.00\" fill=\"#000000\">gini = 0.0</text>\n<text text-anchor=\"middle\" x=\"47.5\" y=\"-22.8\" font-family=\"Times,serif\" font-size=\"14.00\" fill=\"#000000\">samples = 1</text>\n<text text-anchor=\"middle\" x=\"47.5\" y=\"-7.8\" font-family=\"Times,serif\" font-size=\"14.00\" fill=\"#000000\">value = [1, 0]</text>\n</g>\n<!-- 0&#45;&gt;1 -->\n<g id=\"edge1\" class=\"edge\">\n<title>0&#45;&gt;1</title>\n<path fill=\"none\" stroke=\"#000000\" d=\"M83.7565,-88.9777C78.7083,-80.2786 73.2669,-70.9018 68.1734,-62.1247\"/>\n<polygon fill=\"#000000\" stroke=\"#000000\" points=\"71.0689,-60.1409 63.0224,-53.2485 65.0145,-63.6544 71.0689,-60.1409\"/>\n<text text-anchor=\"middle\" x=\"56.6055\" y=\"-73.7109\" font-family=\"Times,serif\" font-size=\"14.00\" fill=\"#000000\">True</text>\n</g>\n<!-- 2 -->\n<g id=\"node3\" class=\"node\">\n<title>2</title>\n<polygon fill=\"none\" stroke=\"#000000\" points=\"208,-53 113,-53 113,0 208,0 208,-53\"/>\n<text text-anchor=\"middle\" x=\"160.5\" y=\"-37.8\" font-family=\"Times,serif\" font-size=\"14.00\" fill=\"#000000\">gini = 0.0</text>\n<text text-anchor=\"middle\" x=\"160.5\" y=\"-22.8\" font-family=\"Times,serif\" font-size=\"14.00\" fill=\"#000000\">samples = 1</text>\n<text text-anchor=\"middle\" x=\"160.5\" y=\"-7.8\" font-family=\"Times,serif\" font-size=\"14.00\" fill=\"#000000\">value = [0, 1]</text>\n</g>\n<!-- 0&#45;&gt;2 -->\n<g id=\"edge2\" class=\"edge\">\n<title>0&#45;&gt;2</title>\n<path fill=\"none\" stroke=\"#000000\" d=\"M123.5961,-88.9777C128.7344,-80.2786 134.273,-70.9018 139.4575,-62.1247\"/>\n<polygon fill=\"#000000\" stroke=\"#000000\" points=\"142.6281,-63.6387 144.7004,-53.2485 136.601,-60.0786 142.6281,-63.6387\"/>\n<text text-anchor=\"middle\" x=\"150.9306\" y=\"-73.7597\" font-family=\"Times,serif\" font-size=\"14.00\" fill=\"#000000\">False</text>\n</g>\n</g>\n</svg>\n"
          },
          "metadata": {
            "tags": []
          },
          "execution_count": 133
        }
      ]
    },
    {
      "cell_type": "markdown",
      "metadata": {
        "id": "AdOsfHuopZxL"
      },
      "source": [
        "The gini label, also known as **Gini impurity**, is a measure of how often a sample passing through the node would be incorrectly labeled if it was randomly assigned a label based on the proportion of all labels passing through the node. So it is a measure of the progress of our tree."
      ]
    },
    {
      "cell_type": "markdown",
      "metadata": {
        "id": "scGZ-uJKn32H"
      },
      "source": [
        "Let's take a more complex example"
      ]
    },
    {
      "cell_type": "code",
      "metadata": {
        "id": "2U2aFrpLoEOE"
      },
      "source": [
        "from sklearn.datasets import make_classification as gen\n",
        "X, y = gen(random_state=42)"
      ],
      "execution_count": null,
      "outputs": []
    },
    {
      "cell_type": "markdown",
      "metadata": {
        "id": "OhUW4XTVp7we"
      },
      "source": [
        "Let's inspect our generated data:"
      ]
    },
    {
      "cell_type": "code",
      "metadata": {
        "colab": {
          "base_uri": "https://localhost:8080/"
        },
        "id": "_ymQM-2uoyO9",
        "outputId": "019fc918-105c-4eb1-a9a7-3291ac1532f2"
      },
      "source": [
        "print(X.shape)\n",
        "print(y.shape)\n",
        "y[:5] # a binary classification"
      ],
      "execution_count": null,
      "outputs": [
        {
          "output_type": "stream",
          "text": [
            "(100, 20)\n",
            "(100,)\n"
          ],
          "name": "stdout"
        },
        {
          "output_type": "execute_result",
          "data": {
            "text/plain": [
              "array([0, 0, 1, 1, 0])"
            ]
          },
          "metadata": {
            "tags": []
          },
          "execution_count": 135
        }
      ]
    },
    {
      "cell_type": "markdown",
      "metadata": {
        "id": "UpXJPkyYp-JM"
      },
      "source": [
        "And now let's train our tree:"
      ]
    },
    {
      "cell_type": "code",
      "metadata": {
        "id": "_mXuhaA7o5Zh"
      },
      "source": [
        "clf = tree.DecisionTreeClassifier()\n",
        "clf = clf.fit(X, y)"
      ],
      "execution_count": null,
      "outputs": []
    },
    {
      "cell_type": "markdown",
      "metadata": {
        "id": "xOef6sMEp_47"
      },
      "source": [
        "How do we interpret this graph?"
      ]
    },
    {
      "cell_type": "code",
      "metadata": {
        "colab": {
          "base_uri": "https://localhost:8080/"
        },
        "id": "InQAj49jZNhK",
        "outputId": "d73eedfb-1a7a-4bc5-bfa2-ee09138f52c1"
      },
      "source": [
        "pd.Series(y[X[:,10] <= .203]).value_counts()"
      ],
      "execution_count": null,
      "outputs": [
        {
          "output_type": "execute_result",
          "data": {
            "text/plain": [
              "0    49\n",
              "1     3\n",
              "dtype: int64"
            ]
          },
          "metadata": {
            "tags": []
          },
          "execution_count": 144
        }
      ]
    },
    {
      "cell_type": "code",
      "metadata": {
        "colab": {
          "base_uri": "https://localhost:8080/",
          "height": 518
        },
        "id": "5-7JtcYNnjFZ",
        "outputId": "88215bad-5f12-4018-9989-28e7da26f4ff"
      },
      "source": [
        "dot_data = tree.export_graphviz(clf, out_file=None) \n",
        "graph = graphviz.Source(dot_data) \n",
        "graph"
      ],
      "execution_count": null,
      "outputs": [
        {
          "output_type": "execute_result",
          "data": {
            "text/plain": [
              "<graphviz.files.Source at 0x7fa1237f3890>"
            ],
            "image/svg+xml": "<?xml version=\"1.0\" encoding=\"UTF-8\" standalone=\"no\"?>\n<!DOCTYPE svg PUBLIC \"-//W3C//DTD SVG 1.1//EN\"\n \"http://www.w3.org/Graphics/SVG/1.1/DTD/svg11.dtd\">\n<!-- Generated by graphviz version 2.40.1 (20161225.0304)\n -->\n<!-- Title: Tree Pages: 1 -->\n<svg width=\"467pt\" height=\"373pt\"\n viewBox=\"0.00 0.00 466.50 373.00\" xmlns=\"http://www.w3.org/2000/svg\" xmlns:xlink=\"http://www.w3.org/1999/xlink\">\n<g id=\"graph0\" class=\"graph\" transform=\"scale(1 1) rotate(0) translate(4 369)\">\n<title>Tree</title>\n<polygon fill=\"#ffffff\" stroke=\"transparent\" points=\"-4,4 -4,-369 462.5,-369 462.5,4 -4,4\"/>\n<!-- 0 -->\n<g id=\"node1\" class=\"node\">\n<title>0</title>\n<polygon fill=\"none\" stroke=\"#000000\" points=\"287,-365 177,-365 177,-297 287,-297 287,-365\"/>\n<text text-anchor=\"middle\" x=\"232\" y=\"-349.8\" font-family=\"Times,serif\" font-size=\"14.00\" fill=\"#000000\">X[10] &lt;= 0.203</text>\n<text text-anchor=\"middle\" x=\"232\" y=\"-334.8\" font-family=\"Times,serif\" font-size=\"14.00\" fill=\"#000000\">gini = 0.5</text>\n<text text-anchor=\"middle\" x=\"232\" y=\"-319.8\" font-family=\"Times,serif\" font-size=\"14.00\" fill=\"#000000\">samples = 100</text>\n<text text-anchor=\"middle\" x=\"232\" y=\"-304.8\" font-family=\"Times,serif\" font-size=\"14.00\" fill=\"#000000\">value = [50, 50]</text>\n</g>\n<!-- 1 -->\n<g id=\"node2\" class=\"node\">\n<title>1</title>\n<polygon fill=\"none\" stroke=\"#000000\" points=\"225.5,-261 112.5,-261 112.5,-193 225.5,-193 225.5,-261\"/>\n<text text-anchor=\"middle\" x=\"169\" y=\"-245.8\" font-family=\"Times,serif\" font-size=\"14.00\" fill=\"#000000\">X[10] &lt;= &#45;0.301</text>\n<text text-anchor=\"middle\" x=\"169\" y=\"-230.8\" font-family=\"Times,serif\" font-size=\"14.00\" fill=\"#000000\">gini = 0.109</text>\n<text text-anchor=\"middle\" x=\"169\" y=\"-215.8\" font-family=\"Times,serif\" font-size=\"14.00\" fill=\"#000000\">samples = 52</text>\n<text text-anchor=\"middle\" x=\"169\" y=\"-200.8\" font-family=\"Times,serif\" font-size=\"14.00\" fill=\"#000000\">value = [49, 3]</text>\n</g>\n<!-- 0&#45;&gt;1 -->\n<g id=\"edge1\" class=\"edge\">\n<title>0&#45;&gt;1</title>\n<path fill=\"none\" stroke=\"#000000\" d=\"M211.3714,-296.9465C206.1501,-288.3271 200.4745,-278.9579 195.0245,-269.9611\"/>\n<polygon fill=\"#000000\" stroke=\"#000000\" points=\"197.8497,-267.8697 189.6749,-261.13 191.8626,-271.4965 197.8497,-267.8697\"/>\n<text text-anchor=\"middle\" x=\"183.7142\" y=\"-281.709\" font-family=\"Times,serif\" font-size=\"14.00\" fill=\"#000000\">True</text>\n</g>\n<!-- 6 -->\n<g id=\"node7\" class=\"node\">\n<title>6</title>\n<polygon fill=\"none\" stroke=\"#000000\" points=\"346,-261 244,-261 244,-193 346,-193 346,-261\"/>\n<text text-anchor=\"middle\" x=\"295\" y=\"-245.8\" font-family=\"Times,serif\" font-size=\"14.00\" fill=\"#000000\">X[5] &lt;= 2.347</text>\n<text text-anchor=\"middle\" x=\"295\" y=\"-230.8\" font-family=\"Times,serif\" font-size=\"14.00\" fill=\"#000000\">gini = 0.041</text>\n<text text-anchor=\"middle\" x=\"295\" y=\"-215.8\" font-family=\"Times,serif\" font-size=\"14.00\" fill=\"#000000\">samples = 48</text>\n<text text-anchor=\"middle\" x=\"295\" y=\"-200.8\" font-family=\"Times,serif\" font-size=\"14.00\" fill=\"#000000\">value = [1, 47]</text>\n</g>\n<!-- 0&#45;&gt;6 -->\n<g id=\"edge6\" class=\"edge\">\n<title>0&#45;&gt;6</title>\n<path fill=\"none\" stroke=\"#000000\" d=\"M252.6286,-296.9465C257.8499,-288.3271 263.5255,-278.9579 268.9755,-269.9611\"/>\n<polygon fill=\"#000000\" stroke=\"#000000\" points=\"272.1374,-271.4965 274.3251,-261.13 266.1503,-267.8697 272.1374,-271.4965\"/>\n<text text-anchor=\"middle\" x=\"280.2858\" y=\"-281.709\" font-family=\"Times,serif\" font-size=\"14.00\" fill=\"#000000\">False</text>\n</g>\n<!-- 2 -->\n<g id=\"node3\" class=\"node\">\n<title>2</title>\n<polygon fill=\"none\" stroke=\"#000000\" points=\"102,-149.5 0,-149.5 0,-96.5 102,-96.5 102,-149.5\"/>\n<text text-anchor=\"middle\" x=\"51\" y=\"-134.3\" font-family=\"Times,serif\" font-size=\"14.00\" fill=\"#000000\">gini = 0.0</text>\n<text text-anchor=\"middle\" x=\"51\" y=\"-119.3\" font-family=\"Times,serif\" font-size=\"14.00\" fill=\"#000000\">samples = 45</text>\n<text text-anchor=\"middle\" x=\"51\" y=\"-104.3\" font-family=\"Times,serif\" font-size=\"14.00\" fill=\"#000000\">value = [45, 0]</text>\n</g>\n<!-- 1&#45;&gt;2 -->\n<g id=\"edge2\" class=\"edge\">\n<title>1&#45;&gt;2</title>\n<path fill=\"none\" stroke=\"#000000\" d=\"M130.3624,-192.9465C116.9899,-181.1606 102.0266,-167.9726 88.7281,-156.2519\"/>\n<polygon fill=\"#000000\" stroke=\"#000000\" points=\"90.9315,-153.5285 81.1151,-149.5422 86.303,-158.7799 90.9315,-153.5285\"/>\n</g>\n<!-- 3 -->\n<g id=\"node4\" class=\"node\">\n<title>3</title>\n<polygon fill=\"none\" stroke=\"#000000\" points=\"221.5,-157 120.5,-157 120.5,-89 221.5,-89 221.5,-157\"/>\n<text text-anchor=\"middle\" x=\"171\" y=\"-141.8\" font-family=\"Times,serif\" font-size=\"14.00\" fill=\"#000000\">X[1] &lt;= 0.094</text>\n<text text-anchor=\"middle\" x=\"171\" y=\"-126.8\" font-family=\"Times,serif\" font-size=\"14.00\" fill=\"#000000\">gini = 0.49</text>\n<text text-anchor=\"middle\" x=\"171\" y=\"-111.8\" font-family=\"Times,serif\" font-size=\"14.00\" fill=\"#000000\">samples = 7</text>\n<text text-anchor=\"middle\" x=\"171\" y=\"-96.8\" font-family=\"Times,serif\" font-size=\"14.00\" fill=\"#000000\">value = [4, 3]</text>\n</g>\n<!-- 1&#45;&gt;3 -->\n<g id=\"edge3\" class=\"edge\">\n<title>1&#45;&gt;3</title>\n<path fill=\"none\" stroke=\"#000000\" d=\"M169.6549,-192.9465C169.812,-184.776 169.9821,-175.9318 170.1467,-167.3697\"/>\n<polygon fill=\"#000000\" stroke=\"#000000\" points=\"173.6506,-167.1955 170.3437,-157.13 166.6519,-167.0608 173.6506,-167.1955\"/>\n</g>\n<!-- 4 -->\n<g id=\"node5\" class=\"node\">\n<title>4</title>\n<polygon fill=\"none\" stroke=\"#000000\" points=\"162.5,-53 67.5,-53 67.5,0 162.5,0 162.5,-53\"/>\n<text text-anchor=\"middle\" x=\"115\" y=\"-37.8\" font-family=\"Times,serif\" font-size=\"14.00\" fill=\"#000000\">gini = 0.0</text>\n<text text-anchor=\"middle\" x=\"115\" y=\"-22.8\" font-family=\"Times,serif\" font-size=\"14.00\" fill=\"#000000\">samples = 4</text>\n<text text-anchor=\"middle\" x=\"115\" y=\"-7.8\" font-family=\"Times,serif\" font-size=\"14.00\" fill=\"#000000\">value = [4, 0]</text>\n</g>\n<!-- 3&#45;&gt;4 -->\n<g id=\"edge4\" class=\"edge\">\n<title>3&#45;&gt;4</title>\n<path fill=\"none\" stroke=\"#000000\" d=\"M151.2565,-88.9777C146.2083,-80.2786 140.7669,-70.9018 135.6734,-62.1247\"/>\n<polygon fill=\"#000000\" stroke=\"#000000\" points=\"138.5689,-60.1409 130.5224,-53.2485 132.5145,-63.6544 138.5689,-60.1409\"/>\n</g>\n<!-- 5 -->\n<g id=\"node6\" class=\"node\">\n<title>5</title>\n<polygon fill=\"none\" stroke=\"#000000\" points=\"275.5,-53 180.5,-53 180.5,0 275.5,0 275.5,-53\"/>\n<text text-anchor=\"middle\" x=\"228\" y=\"-37.8\" font-family=\"Times,serif\" font-size=\"14.00\" fill=\"#000000\">gini = 0.0</text>\n<text text-anchor=\"middle\" x=\"228\" y=\"-22.8\" font-family=\"Times,serif\" font-size=\"14.00\" fill=\"#000000\">samples = 3</text>\n<text text-anchor=\"middle\" x=\"228\" y=\"-7.8\" font-family=\"Times,serif\" font-size=\"14.00\" fill=\"#000000\">value = [0, 3]</text>\n</g>\n<!-- 3&#45;&gt;5 -->\n<g id=\"edge5\" class=\"edge\">\n<title>3&#45;&gt;5</title>\n<path fill=\"none\" stroke=\"#000000\" d=\"M191.0961,-88.9777C196.2344,-80.2786 201.773,-70.9018 206.9575,-62.1247\"/>\n<polygon fill=\"#000000\" stroke=\"#000000\" points=\"210.1281,-63.6387 212.2004,-53.2485 204.101,-60.0786 210.1281,-63.6387\"/>\n</g>\n<!-- 7 -->\n<g id=\"node8\" class=\"node\">\n<title>7</title>\n<polygon fill=\"none\" stroke=\"#000000\" points=\"345,-149.5 243,-149.5 243,-96.5 345,-96.5 345,-149.5\"/>\n<text text-anchor=\"middle\" x=\"294\" y=\"-134.3\" font-family=\"Times,serif\" font-size=\"14.00\" fill=\"#000000\">gini = 0.0</text>\n<text text-anchor=\"middle\" x=\"294\" y=\"-119.3\" font-family=\"Times,serif\" font-size=\"14.00\" fill=\"#000000\">samples = 47</text>\n<text text-anchor=\"middle\" x=\"294\" y=\"-104.3\" font-family=\"Times,serif\" font-size=\"14.00\" fill=\"#000000\">value = [0, 47]</text>\n</g>\n<!-- 6&#45;&gt;7 -->\n<g id=\"edge7\" class=\"edge\">\n<title>6&#45;&gt;7</title>\n<path fill=\"none\" stroke=\"#000000\" d=\"M294.6726,-192.9465C294.5698,-182.2621 294.456,-170.4254 294.3517,-159.5742\"/>\n<polygon fill=\"#000000\" stroke=\"#000000\" points=\"297.8513,-159.508 294.2552,-149.5422 290.8516,-159.5754 297.8513,-159.508\"/>\n</g>\n<!-- 8 -->\n<g id=\"node9\" class=\"node\">\n<title>8</title>\n<polygon fill=\"none\" stroke=\"#000000\" points=\"458.5,-149.5 363.5,-149.5 363.5,-96.5 458.5,-96.5 458.5,-149.5\"/>\n<text text-anchor=\"middle\" x=\"411\" y=\"-134.3\" font-family=\"Times,serif\" font-size=\"14.00\" fill=\"#000000\">gini = 0.0</text>\n<text text-anchor=\"middle\" x=\"411\" y=\"-119.3\" font-family=\"Times,serif\" font-size=\"14.00\" fill=\"#000000\">samples = 1</text>\n<text text-anchor=\"middle\" x=\"411\" y=\"-104.3\" font-family=\"Times,serif\" font-size=\"14.00\" fill=\"#000000\">value = [1, 0]</text>\n</g>\n<!-- 6&#45;&gt;8 -->\n<g id=\"edge8\" class=\"edge\">\n<title>6&#45;&gt;8</title>\n<path fill=\"none\" stroke=\"#000000\" d=\"M332.9827,-192.9465C346.1286,-181.1606 360.8382,-167.9726 373.9113,-156.2519\"/>\n<polygon fill=\"#000000\" stroke=\"#000000\" points=\"376.286,-158.8236 381.3953,-149.5422 371.6131,-153.6116 376.286,-158.8236\"/>\n</g>\n</g>\n</svg>\n"
          },
          "metadata": {
            "tags": []
          },
          "execution_count": 137
        }
      ]
    },
    {
      "cell_type": "markdown",
      "metadata": {
        "id": "EW9QnQ2VnY3k"
      },
      "source": [
        "> Can we confirm the observations in the tree by manually inspecting X and y?"
      ]
    },
    {
      "cell_type": "code",
      "metadata": {
        "colab": {
          "base_uri": "https://localhost:8080/"
        },
        "id": "J16-n42ynM0O",
        "outputId": "6de244cc-dfe1-46e3-a295-72a45ac10e58"
      },
      "source": [
        "(y[X[:,10] < .203])"
      ],
      "execution_count": null,
      "outputs": [
        {
          "output_type": "execute_result",
          "data": {
            "text/plain": [
              "array([0, 0, 1, 0, 0, 0, 0, 0, 0, 0, 0, 0, 0, 0, 0, 0, 0, 0, 0, 0, 0, 0,\n",
              "       0, 0, 0, 0, 0, 0, 0, 0, 0, 0, 0, 1, 0, 0, 0, 0, 0, 0, 0, 0, 0, 0,\n",
              "       0, 1, 0, 0, 0, 0, 0, 0])"
            ]
          },
          "metadata": {
            "tags": []
          },
          "execution_count": 35
        }
      ]
    },
    {
      "cell_type": "markdown",
      "metadata": {
        "id": "DYW4XXyMbqMW"
      },
      "source": [
        "We can confirm the gini score of the top left node by hand..."
      ]
    },
    {
      "cell_type": "code",
      "metadata": {
        "colab": {
          "base_uri": "https://localhost:8080/"
        },
        "id": "5IAjaZKlaqD5",
        "outputId": "4c49a7a6-5993-4c9d-ecd9-0cb2f98fb2ae"
      },
      "source": [
        "scr = []\n",
        "for j in range(1000):\n",
        "  y_pred = [0 if random.random() > ( 3/52 ) else 1 for i in range(52)]\n",
        "  y_true = [0 if random.random() > ( 3/52 ) else 1 for i in range(52)]\n",
        "  scr.append(mean_squared_error(y_pred,y_true))\n",
        "np.mean(scr)"
      ],
      "execution_count": null,
      "outputs": [
        {
          "output_type": "execute_result",
          "data": {
            "text/plain": [
              "0.11088461538461539"
            ]
          },
          "metadata": {
            "tags": []
          },
          "execution_count": 145
        }
      ]
    },
    {
      "cell_type": "markdown",
      "metadata": {
        "id": "zko0KVvjtZdv"
      },
      "source": [
        "Let's take a look at this with our truffle dataset\n",
        "\n",
        "> Vary the parameter `max_depth` what do you notice? Does the term _greedy_ mean anything to you?\n"
      ]
    },
    {
      "cell_type": "code",
      "metadata": {
        "id": "7cmPyX0atbdK",
        "colab": {
          "base_uri": "https://localhost:8080/"
        },
        "outputId": "b07c3da1-ab5e-4352-b8e1-1cca510cc4e9"
      },
      "source": [
        "clf = tree.DecisionTreeClassifier(max_depth=1)\n",
        "clf.fit(X_truf, y_truf_class)"
      ],
      "execution_count": null,
      "outputs": [
        {
          "output_type": "execute_result",
          "data": {
            "text/plain": [
              "DecisionTreeClassifier(ccp_alpha=0.0, class_weight=None, criterion='gini',\n",
              "                       max_depth=1, max_features=None, max_leaf_nodes=None,\n",
              "                       min_impurity_decrease=0.0, min_impurity_split=None,\n",
              "                       min_samples_leaf=1, min_samples_split=2,\n",
              "                       min_weight_fraction_leaf=0.0, presort='deprecated',\n",
              "                       random_state=None, splitter='best')"
            ]
          },
          "metadata": {
            "tags": []
          },
          "execution_count": 146
        }
      ]
    },
    {
      "cell_type": "markdown",
      "metadata": {
        "id": "l8FgIc7RzyIf"
      },
      "source": [
        "And now lets look at the graph:"
      ]
    },
    {
      "cell_type": "code",
      "metadata": {
        "colab": {
          "base_uri": "https://localhost:8080/",
          "height": 241
        },
        "id": "Iwk0byHWyJCU",
        "outputId": "1f8ccbaa-15e8-4691-b4f4-79712b8a1d57"
      },
      "source": [
        "dot_data = tree.export_graphviz(clf, out_file=None) \n",
        "graph = graphviz.Source(dot_data) \n",
        "graph"
      ],
      "execution_count": null,
      "outputs": [
        {
          "output_type": "execute_result",
          "data": {
            "text/plain": [
              "<graphviz.files.Source at 0x7fa123f79510>"
            ],
            "image/svg+xml": "<?xml version=\"1.0\" encoding=\"UTF-8\" standalone=\"no\"?>\n<!DOCTYPE svg PUBLIC \"-//W3C//DTD SVG 1.1//EN\"\n \"http://www.w3.org/Graphics/SVG/1.1/DTD/svg11.dtd\">\n<!-- Generated by graphviz version 2.40.1 (20161225.0304)\n -->\n<!-- Title: Tree Pages: 1 -->\n<svg width=\"352pt\" height=\"165pt\"\n viewBox=\"0.00 0.00 351.50 165.00\" xmlns=\"http://www.w3.org/2000/svg\" xmlns:xlink=\"http://www.w3.org/1999/xlink\">\n<g id=\"graph0\" class=\"graph\" transform=\"scale(1 1) rotate(0) translate(4 161)\">\n<title>Tree</title>\n<polygon fill=\"#ffffff\" stroke=\"transparent\" points=\"-4,4 -4,-161 347.5,-161 347.5,4 -4,4\"/>\n<!-- 0 -->\n<g id=\"node1\" class=\"node\">\n<title>0</title>\n<polygon fill=\"none\" stroke=\"#000000\" points=\"275,-157 90,-157 90,-89 275,-89 275,-157\"/>\n<text text-anchor=\"middle\" x=\"182.5\" y=\"-141.8\" font-family=\"Times,serif\" font-size=\"14.00\" fill=\"#000000\">X[4] &lt;= 0.5</text>\n<text text-anchor=\"middle\" x=\"182.5\" y=\"-126.8\" font-family=\"Times,serif\" font-size=\"14.00\" fill=\"#000000\">gini = 0.75</text>\n<text text-anchor=\"middle\" x=\"182.5\" y=\"-111.8\" font-family=\"Times,serif\" font-size=\"14.00\" fill=\"#000000\">samples = 1668</text>\n<text text-anchor=\"middle\" x=\"182.5\" y=\"-96.8\" font-family=\"Times,serif\" font-size=\"14.00\" fill=\"#000000\">value = [417, 417, 417, 417]</text>\n</g>\n<!-- 1 -->\n<g id=\"node2\" class=\"node\">\n<title>1</title>\n<polygon fill=\"none\" stroke=\"#000000\" points=\"185,-53 0,-53 0,0 185,0 185,-53\"/>\n<text text-anchor=\"middle\" x=\"92.5\" y=\"-37.8\" font-family=\"Times,serif\" font-size=\"14.00\" fill=\"#000000\">gini = 0.745</text>\n<text text-anchor=\"middle\" x=\"92.5\" y=\"-22.8\" font-family=\"Times,serif\" font-size=\"14.00\" fill=\"#000000\">samples = 1548</text>\n<text text-anchor=\"middle\" x=\"92.5\" y=\"-7.8\" font-family=\"Times,serif\" font-size=\"14.00\" fill=\"#000000\">value = [417, 417, 417, 297]</text>\n</g>\n<!-- 0&#45;&gt;1 -->\n<g id=\"edge1\" class=\"edge\">\n<title>0&#45;&gt;1</title>\n<path fill=\"none\" stroke=\"#000000\" d=\"M150.7694,-88.9777C142.2292,-79.8207 132.9887,-69.9129 124.4374,-60.744\"/>\n<polygon fill=\"#000000\" stroke=\"#000000\" points=\"126.8269,-58.1744 117.4468,-53.2485 121.7077,-62.9488 126.8269,-58.1744\"/>\n<text text-anchor=\"middle\" x=\"116.576\" y=\"-74.5333\" font-family=\"Times,serif\" font-size=\"14.00\" fill=\"#000000\">True</text>\n</g>\n<!-- 2 -->\n<g id=\"node3\" class=\"node\">\n<title>2</title>\n<polygon fill=\"none\" stroke=\"#000000\" points=\"343.5,-53 203.5,-53 203.5,0 343.5,0 343.5,-53\"/>\n<text text-anchor=\"middle\" x=\"273.5\" y=\"-37.8\" font-family=\"Times,serif\" font-size=\"14.00\" fill=\"#000000\">gini = 0.0</text>\n<text text-anchor=\"middle\" x=\"273.5\" y=\"-22.8\" font-family=\"Times,serif\" font-size=\"14.00\" fill=\"#000000\">samples = 120</text>\n<text text-anchor=\"middle\" x=\"273.5\" y=\"-7.8\" font-family=\"Times,serif\" font-size=\"14.00\" fill=\"#000000\">value = [0, 0, 0, 120]</text>\n</g>\n<!-- 0&#45;&gt;2 -->\n<g id=\"edge2\" class=\"edge\">\n<title>0&#45;&gt;2</title>\n<path fill=\"none\" stroke=\"#000000\" d=\"M214.5832,-88.9777C223.2183,-79.8207 232.5614,-69.9129 241.2078,-60.744\"/>\n<polygon fill=\"#000000\" stroke=\"#000000\" points=\"243.9617,-62.9251 248.276,-53.2485 238.8689,-58.1226 243.9617,-62.9251\"/>\n<text text-anchor=\"middle\" x=\"249.0091\" y=\"-74.5377\" font-family=\"Times,serif\" font-size=\"14.00\" fill=\"#000000\">False</text>\n</g>\n</g>\n</svg>\n"
          },
          "metadata": {
            "tags": []
          },
          "execution_count": 147
        }
      ]
    },
    {
      "cell_type": "markdown",
      "metadata": {
        "id": "AyjCttSyn9eL"
      },
      "source": [
        "What is `X[4]`???"
      ]
    },
    {
      "cell_type": "code",
      "metadata": {
        "colab": {
          "base_uri": "https://localhost:8080/",
          "height": 35
        },
        "id": "llnU9vBHn6eV",
        "outputId": "15d249d9-1b7a-4a72-8942-8b6b02666659"
      },
      "source": [
        "# It's those tasty sponge cake truffles!\n",
        "enc.get_feature_names()[4]"
      ],
      "execution_count": null,
      "outputs": [
        {
          "output_type": "execute_result",
          "data": {
            "application/vnd.google.colaboratory.intrinsic+json": {
              "type": "string"
            },
            "text/plain": [
              "'x0_Sponge'"
            ]
          },
          "metadata": {
            "tags": []
          },
          "execution_count": 150
        }
      ]
    },
    {
      "cell_type": "markdown",
      "metadata": {
        "id": "X9XJzSgk2XpN"
      },
      "source": [
        "This is one great aspect of decision trees, their *interpretability*.\n",
        "\n",
        "We will perform this analysis again, for now, let's proceed with simpler datasets while exploring the features of decision trees."
      ]
    },
    {
      "cell_type": "markdown",
      "metadata": {
        "id": "1-edADjvGY27"
      },
      "source": [
        "<a name='x.1.2.2'></a>\n",
        "\n",
        "#### 4.1.2.1 Decision Boundaries\n",
        "\n",
        "[back to top](#top)\n",
        "\n",
        "Let's make some random blobs"
      ]
    },
    {
      "cell_type": "code",
      "metadata": {
        "id": "APhyElTXtFnu"
      },
      "source": [
        "from sklearn.datasets import make_blobs as gen\n",
        "X, y = gen(random_state=42)"
      ],
      "execution_count": null,
      "outputs": []
    },
    {
      "cell_type": "code",
      "metadata": {
        "colab": {
          "base_uri": "https://localhost:8080/",
          "height": 285
        },
        "id": "BMPyf-wrtR8d",
        "outputId": "fd03f26b-0f97-4918-e66d-fabff738499d"
      },
      "source": [
        "plt.scatter(X[:,0], X[:,1], c=y, cmap='viridis')"
      ],
      "execution_count": null,
      "outputs": [
        {
          "output_type": "execute_result",
          "data": {
            "text/plain": [
              "<matplotlib.collections.PathCollection at 0x7fa124298310>"
            ]
          },
          "metadata": {
            "tags": []
          },
          "execution_count": 152
        },
        {
          "output_type": "display_data",
          "data": {
            "image/png": "[encoded data removed]",
            "text/plain": [
              "<Figure size 432x288 with 1 Axes>"
            ]
          },
          "metadata": {
            "tags": []
          }
        }
      ]
    },
    {
      "cell_type": "markdown",
      "metadata": {
        "id": "yy2-alZg0n_s"
      },
      "source": [
        "Let's call up our Classifier again, this time setting the `max_depth` to two"
      ]
    },
    {
      "cell_type": "code",
      "metadata": {
        "id": "Ati3BNmlyEao"
      },
      "source": [
        "clf = tree.DecisionTreeClassifier(max_depth=2, random_state=42)\n",
        "clf = clf.fit(X, y)"
      ],
      "execution_count": null,
      "outputs": []
    },
    {
      "cell_type": "code",
      "metadata": {
        "colab": {
          "base_uri": "https://localhost:8080/",
          "height": 285
        },
        "id": "_6T5c6WmzDJc",
        "outputId": "59219b29-02de-44c4-9799-4365549a3a34"
      },
      "source": [
        "# Parameters\n",
        "plot_step = 0.02\n",
        "\n",
        "x_min, x_max = X[:, 0].min() - 1, X[:, 0].max() + 1\n",
        "y_min, y_max = X[:, 1].min() - 1, X[:, 1].max() + 1\n",
        "xx, yy = np.meshgrid(np.arange(x_min, x_max, plot_step),\n",
        "                      np.arange(y_min, y_max, plot_step))\n",
        "plt.tight_layout(h_pad=0.5, w_pad=0.5, pad=2.5)\n",
        "\n",
        "Z = clf.predict(np.c_[xx.ravel(), yy.ravel()])\n",
        "Z = Z.reshape(xx.shape)\n",
        "cs = plt.contourf(xx, yy, Z, cmap='viridis', alpha=0.2)\n",
        "\n",
        "plt.scatter(X[:,0], X[:,1], c=y, cmap='viridis', edgecolor='grey', alpha=0.9)"
      ],
      "execution_count": null,
      "outputs": [
        {
          "output_type": "execute_result",
          "data": {
            "text/plain": [
              "<matplotlib.collections.PathCollection at 0x7fa126b00590>"
            ]
          },
          "metadata": {
            "tags": []
          },
          "execution_count": 154
        },
        {
          "output_type": "display_data",
          "data": {
            "image/png": "[encoded data removed]",
            "text/plain": [
              "<Figure size 432x288 with 1 Axes>"
            ]
          },
          "metadata": {
            "tags": []
          }
        }
      ]
    },
    {
      "cell_type": "code",
      "metadata": {
        "colab": {
          "base_uri": "https://localhost:8080/",
          "height": 379
        },
        "id": "8nWLSsmn0uEG",
        "outputId": "4c978e89-8577-49a5-e8bb-120db90929a1"
      },
      "source": [
        "dot_data = tree.export_graphviz(clf, out_file=None) \n",
        "graph = graphviz.Source(dot_data) \n",
        "graph"
      ],
      "execution_count": null,
      "outputs": [
        {
          "output_type": "execute_result",
          "data": {
            "text/plain": [
              "<graphviz.files.Source at 0x7fa1242ab110>"
            ],
            "image/svg+xml": "<?xml version=\"1.0\" encoding=\"UTF-8\" standalone=\"no\"?>\n<!DOCTYPE svg PUBLIC \"-//W3C//DTD SVG 1.1//EN\"\n \"http://www.w3.org/Graphics/SVG/1.1/DTD/svg11.dtd\">\n<!-- Generated by graphviz version 2.40.1 (20161225.0304)\n -->\n<!-- Title: Tree Pages: 1 -->\n<svg width=\"331pt\" height=\"269pt\"\n viewBox=\"0.00 0.00 331.00 269.00\" xmlns=\"http://www.w3.org/2000/svg\" xmlns:xlink=\"http://www.w3.org/1999/xlink\">\n<g id=\"graph0\" class=\"graph\" transform=\"scale(1 1) rotate(0) translate(4 265)\">\n<title>Tree</title>\n<polygon fill=\"#ffffff\" stroke=\"transparent\" points=\"-4,4 -4,-265 327,-265 327,4 -4,4\"/>\n<!-- 0 -->\n<g id=\"node1\" class=\"node\">\n<title>0</title>\n<polygon fill=\"none\" stroke=\"#000000\" points=\"260.5,-261 128.5,-261 128.5,-193 260.5,-193 260.5,-261\"/>\n<text text-anchor=\"middle\" x=\"194.5\" y=\"-245.8\" font-family=\"Times,serif\" font-size=\"14.00\" fill=\"#000000\">X[1] &lt;= 5.746</text>\n<text text-anchor=\"middle\" x=\"194.5\" y=\"-230.8\" font-family=\"Times,serif\" font-size=\"14.00\" fill=\"#000000\">gini = 0.667</text>\n<text text-anchor=\"middle\" x=\"194.5\" y=\"-215.8\" font-family=\"Times,serif\" font-size=\"14.00\" fill=\"#000000\">samples = 100</text>\n<text text-anchor=\"middle\" x=\"194.5\" y=\"-200.8\" font-family=\"Times,serif\" font-size=\"14.00\" fill=\"#000000\">value = [34, 33, 33]</text>\n</g>\n<!-- 1 -->\n<g id=\"node2\" class=\"node\">\n<title>1</title>\n<polygon fill=\"none\" stroke=\"#000000\" points=\"188,-157 63,-157 63,-89 188,-89 188,-157\"/>\n<text text-anchor=\"middle\" x=\"125.5\" y=\"-141.8\" font-family=\"Times,serif\" font-size=\"14.00\" fill=\"#000000\">X[1] &lt;= &#45;2.087</text>\n<text text-anchor=\"middle\" x=\"125.5\" y=\"-126.8\" font-family=\"Times,serif\" font-size=\"14.00\" fill=\"#000000\">gini = 0.5</text>\n<text text-anchor=\"middle\" x=\"125.5\" y=\"-111.8\" font-family=\"Times,serif\" font-size=\"14.00\" fill=\"#000000\">samples = 66</text>\n<text text-anchor=\"middle\" x=\"125.5\" y=\"-96.8\" font-family=\"Times,serif\" font-size=\"14.00\" fill=\"#000000\">value = [0, 33, 33]</text>\n</g>\n<!-- 0&#45;&gt;1 -->\n<g id=\"edge1\" class=\"edge\">\n<title>0&#45;&gt;1</title>\n<path fill=\"none\" stroke=\"#000000\" d=\"M171.9068,-192.9465C166.1286,-184.2373 159.8425,-174.7626 153.8166,-165.6801\"/>\n<polygon fill=\"#000000\" stroke=\"#000000\" points=\"156.589,-163.5278 148.1439,-157.13 150.756,-167.3978 156.589,-163.5278\"/>\n<text text-anchor=\"middle\" x=\"143.1866\" y=\"-177.9336\" font-family=\"Times,serif\" font-size=\"14.00\" fill=\"#000000\">True</text>\n</g>\n<!-- 4 -->\n<g id=\"node5\" class=\"node\">\n<title>4</title>\n<polygon fill=\"none\" stroke=\"#000000\" points=\"323,-149.5 206,-149.5 206,-96.5 323,-96.5 323,-149.5\"/>\n<text text-anchor=\"middle\" x=\"264.5\" y=\"-134.3\" font-family=\"Times,serif\" font-size=\"14.00\" fill=\"#000000\">gini = 0.0</text>\n<text text-anchor=\"middle\" x=\"264.5\" y=\"-119.3\" font-family=\"Times,serif\" font-size=\"14.00\" fill=\"#000000\">samples = 34</text>\n<text text-anchor=\"middle\" x=\"264.5\" y=\"-104.3\" font-family=\"Times,serif\" font-size=\"14.00\" fill=\"#000000\">value = [34, 0, 0]</text>\n</g>\n<!-- 0&#45;&gt;4 -->\n<g id=\"edge4\" class=\"edge\">\n<title>0&#45;&gt;4</title>\n<path fill=\"none\" stroke=\"#000000\" d=\"M217.4206,-192.9465C224.9828,-181.7113 233.4024,-169.2021 241.0067,-157.9043\"/>\n<polygon fill=\"#000000\" stroke=\"#000000\" points=\"243.9548,-159.7924 246.6351,-149.5422 238.1477,-155.8837 243.9548,-159.7924\"/>\n<text text-anchor=\"middle\" x=\"251.4295\" y=\"-170.3781\" font-family=\"Times,serif\" font-size=\"14.00\" fill=\"#000000\">False</text>\n</g>\n<!-- 2 -->\n<g id=\"node3\" class=\"node\">\n<title>2</title>\n<polygon fill=\"none\" stroke=\"#000000\" points=\"117,-53 0,-53 0,0 117,0 117,-53\"/>\n<text text-anchor=\"middle\" x=\"58.5\" y=\"-37.8\" font-family=\"Times,serif\" font-size=\"14.00\" fill=\"#000000\">gini = 0.0</text>\n<text text-anchor=\"middle\" x=\"58.5\" y=\"-22.8\" font-family=\"Times,serif\" font-size=\"14.00\" fill=\"#000000\">samples = 33</text>\n<text text-anchor=\"middle\" x=\"58.5\" y=\"-7.8\" font-family=\"Times,serif\" font-size=\"14.00\" fill=\"#000000\">value = [0, 0, 33]</text>\n</g>\n<!-- 1&#45;&gt;2 -->\n<g id=\"edge2\" class=\"edge\">\n<title>1&#45;&gt;2</title>\n<path fill=\"none\" stroke=\"#000000\" d=\"M101.8783,-88.9777C95.7113,-80.0954 89.0539,-70.5067 82.8499,-61.5711\"/>\n<polygon fill=\"#000000\" stroke=\"#000000\" points=\"85.6497,-59.4666 77.0715,-53.2485 79.8997,-63.4589 85.6497,-59.4666\"/>\n</g>\n<!-- 3 -->\n<g id=\"node4\" class=\"node\">\n<title>3</title>\n<polygon fill=\"none\" stroke=\"#000000\" points=\"252,-53 135,-53 135,0 252,0 252,-53\"/>\n<text text-anchor=\"middle\" x=\"193.5\" y=\"-37.8\" font-family=\"Times,serif\" font-size=\"14.00\" fill=\"#000000\">gini = 0.0</text>\n<text text-anchor=\"middle\" x=\"193.5\" y=\"-22.8\" font-family=\"Times,serif\" font-size=\"14.00\" fill=\"#000000\">samples = 33</text>\n<text text-anchor=\"middle\" x=\"193.5\" y=\"-7.8\" font-family=\"Times,serif\" font-size=\"14.00\" fill=\"#000000\">value = [0, 33, 0]</text>\n</g>\n<!-- 1&#45;&gt;3 -->\n<g id=\"edge3\" class=\"edge\">\n<title>1&#45;&gt;3</title>\n<path fill=\"none\" stroke=\"#000000\" d=\"M149.4743,-88.9777C155.7333,-80.0954 162.4901,-70.5067 168.7867,-61.5711\"/>\n<polygon fill=\"#000000\" stroke=\"#000000\" points=\"171.7521,-63.4389 174.6513,-53.2485 166.0301,-59.4068 171.7521,-63.4389\"/>\n</g>\n</g>\n</svg>\n"
          },
          "metadata": {
            "tags": []
          },
          "execution_count": 155
        }
      ]
    },
    {
      "cell_type": "markdown",
      "metadata": {
        "id": "R4wBOHc91AG-"
      },
      "source": [
        "We can see from the output of this graph, that the tree attempts to create the class boundaries as far from the cluster centers as possible. What happens when these clusters overlap?"
      ]
    },
    {
      "cell_type": "code",
      "metadata": {
        "colab": {
          "base_uri": "https://localhost:8080/",
          "height": 285
        },
        "id": "_D8upLm71L6g",
        "outputId": "0518e6f7-597b-45ac-e460-8570266d083d"
      },
      "source": [
        "X, y = gen(random_state=42, cluster_std=3)\n",
        "plt.scatter(X[:,0], X[:,1], c=y, cmap='viridis')"
      ],
      "execution_count": null,
      "outputs": [
        {
          "output_type": "execute_result",
          "data": {
            "text/plain": [
              "<matplotlib.collections.PathCollection at 0x7fa1240d5810>"
            ]
          },
          "metadata": {
            "tags": []
          },
          "execution_count": 156
        },
        {
          "output_type": "display_data",
          "data": {
            "image/png": "[encoded data removed]",
            "text/plain": [
              "<Figure size 432x288 with 1 Axes>"
            ]
          },
          "metadata": {
            "tags": []
          }
        }
      ]
    },
    {
      "cell_type": "markdown",
      "metadata": {
        "id": "qIA4fqRU1mkR"
      },
      "source": [
        "Let's go ahead and write our plot into a function"
      ]
    },
    {
      "cell_type": "code",
      "metadata": {
        "id": "eqbX-eBX1XZ4"
      },
      "source": [
        "def plot_tree(X, clf):\n",
        "  plot_step = 0.02\n",
        "  x_min, x_max = X[:, 0].min() - 1, X[:, 0].max() + 1\n",
        "  y_min, y_max = X[:, 1].min() - 1, X[:, 1].max() + 1\n",
        "  xx, yy = np.meshgrid(np.arange(x_min, x_max, plot_step),\n",
        "                        np.arange(y_min, y_max, plot_step))\n",
        "  plt.tight_layout(h_pad=0.5, w_pad=0.5, pad=2.5)\n",
        "\n",
        "  Z = clf.predict(np.c_[xx.ravel(), yy.ravel()])\n",
        "  Z = Z.reshape(xx.shape)\n",
        "  cs = plt.contourf(xx, yy, Z, cmap='viridis', alpha=0.2)\n",
        "\n",
        "  plt.scatter(X[:,0], X[:,1], c=y, cmap='viridis', edgecolor='grey', alpha=0.9)\n",
        "  return plt"
      ],
      "execution_count": null,
      "outputs": []
    },
    {
      "cell_type": "markdown",
      "metadata": {
        "id": "sUdr8VDB2GHP"
      },
      "source": [
        "We see that the boundaries mislabel some points"
      ]
    },
    {
      "cell_type": "code",
      "metadata": {
        "colab": {
          "base_uri": "https://localhost:8080/",
          "height": 268
        },
        "id": "v2kyUWch1vz6",
        "outputId": "a7a6e388-6f86-4385-8b10-c660cc649ee8"
      },
      "source": [
        "fig = plot_tree(X, clf)"
      ],
      "execution_count": null,
      "outputs": [
        {
          "output_type": "display_data",
          "data": {
            "image/png": "[encoded data removed]",
            "text/plain": [
              "<Figure size 432x288 with 1 Axes>"
            ]
          },
          "metadata": {
            "tags": []
          }
        }
      ]
    },
    {
      "cell_type": "markdown",
      "metadata": {
        "id": "7LhXeJwI2MCk"
      },
      "source": [
        "<a name='x.1.3'></a>\n",
        "\n",
        "### 4.1.3 Overfitting a Decision Tree\n",
        "\n",
        "[back to top](#top)\n",
        "\n",
        "Let's increase the max_depth"
      ]
    },
    {
      "cell_type": "code",
      "metadata": {
        "colab": {
          "base_uri": "https://localhost:8080/",
          "height": 285
        },
        "id": "F4rt61Q92kko",
        "outputId": "357bf53c-cd16-47fd-fff9-29c4d0cd5b6d"
      },
      "source": [
        "clf = tree.DecisionTreeClassifier(max_depth=5, random_state=42)\n",
        "clf = clf.fit(X, y)\n",
        "plot_tree(X, clf)"
      ],
      "execution_count": null,
      "outputs": [
        {
          "output_type": "execute_result",
          "data": {
            "text/plain": [
              "<module 'matplotlib.pyplot' from '/usr/local/lib/python3.7/dist-packages/matplotlib/pyplot.py'>"
            ]
          },
          "metadata": {
            "tags": []
          },
          "execution_count": 159
        },
        {
          "output_type": "display_data",
          "data": {
            "image/png": "[encoded data removed]",
            "text/plain": [
              "<Figure size 432x288 with 1 Axes>"
            ]
          },
          "metadata": {
            "tags": []
          }
        }
      ]
    },
    {
      "cell_type": "markdown",
      "metadata": {
        "id": "5ovr-azV3JHE"
      },
      "source": [
        "What we notice is that while the model accurately predicts the training data, we see some spurious labels, noteably the trailing purple bar that extends into the otherwise green region of the data. \n",
        "\n",
        "This is a well known fact about decision trees, that they tend to overfit their training data. In fact, this is a major motivation for why decision trees, a weak classifier, are conveniently packaged into ensembles.\n",
        "\n",
        "We combine the idea of bootstrapping, with decision trees, to come up with an overall better classifier."
      ]
    },
    {
      "cell_type": "markdown",
      "metadata": {
        "id": "xv5FmmZPo_Z3"
      },
      "source": [
        "#### 4.1.3.1 Exercise: Minimize Overfitting\n",
        "\n",
        "Repeat 4.1.3 with different max_depth settings, also read the docstring and play with any other hyperparameters available to you. What settings do you feel minimize overfitting?"
      ]
    },
    {
      "cell_type": "code",
      "metadata": {
        "id": "fmyxMJKSpguy",
        "colab": {
          "base_uri": "https://localhost:8080/",
          "height": 285
        },
        "outputId": "99e90192-f988-4d31-88ad-fa68379d2df7"
      },
      "source": [
        "# Code Cell for 4.1.3.\n",
        "clf = tree.DecisionTreeClassifier(max_depth=5, random_state=42)\n",
        "clf = clf.fit(X, y)\n",
        "plot_tree(X, clf)"
      ],
      "execution_count": null,
      "outputs": [
        {
          "output_type": "execute_result",
          "data": {
            "text/plain": [
              "<module 'matplotlib.pyplot' from '/usr/local/lib/python3.7/dist-packages/matplotlib/pyplot.py'>"
            ]
          },
          "metadata": {
            "tags": []
          },
          "execution_count": 165
        },
        {
          "output_type": "display_data",
          "data": {
            "image/png": "[encoded data removed]",
            "text/plain": [
              "<Figure size 432x288 with 1 Axes>"
            ]
          },
          "metadata": {
            "tags": []
          }
        }
      ]
    },
    {
      "cell_type": "markdown",
      "metadata": {
        "id": "wlj85iTSIwji"
      },
      "source": [
        "<a name='x.2'></a>\n",
        "\n",
        "## 4.2 Random Forests and Bagging\n",
        "\n",
        "[back to top](#top)"
      ]
    },
    {
      "cell_type": "markdown",
      "metadata": {
        "id": "rIgel6vqpM5U"
      },
      "source": [
        "<a name='x.2.1'></a>\n",
        "\n",
        "### 4.2.1 What is Bagging?\n",
        "\n",
        "[back to top](#top)\n",
        "\n",
        "**_Bagging_**, or Bootstrap AGGregation is the process of creating subsets of your data and training separate models on them, and using the aggregate votes of the models to make a final prediction.\n",
        "\n",
        "**_Bootstrapping_** is a topic in and of itself that we will just touch on here. Without going through the statistical rigor of proof, bootstrapping, or sampling from your observations with replacement, simulates having drawn additional data from the true population. We use this method to create many new datasets that are then used to *train separate learners* in parallel. This overall approach is called **_Bagging_**.\n",
        "\n",
        "<p align=center>\n",
        "<img src=\"https://upload.wikimedia.org/wikipedia/commons/thumb/c/c8/Ensemble_Bagging.svg/440px-Ensemble_Bagging.svg.png\"></img>\n",
        "</p>\n",
        "\n",
        "A **_Random Forest_** is an instance of bagging where the separate learners are decision trees. "
      ]
    },
    {
      "cell_type": "markdown",
      "metadata": {
        "id": "zJRcYKT9I9Zc"
      },
      "source": [
        "<a name='x.2.2'></a>\n",
        "\n",
        "### 4.2.2 Random Forests for Classification\n",
        "\n",
        "[back to top](#top)"
      ]
    },
    {
      "cell_type": "code",
      "metadata": {
        "colab": {
          "base_uri": "https://localhost:8080/",
          "height": 285
        },
        "id": "tUJllr-K8YDM",
        "outputId": "558403bf-83fe-4cf6-bc33-0045b857aa10"
      },
      "source": [
        "from sklearn.tree import DecisionTreeClassifier\n",
        "from sklearn.ensemble import BaggingClassifier\n",
        "\n",
        "tree = DecisionTreeClassifier()\n",
        "bag = BaggingClassifier(tree, n_estimators=10, max_samples=0.8,\n",
        "                        random_state=1)\n",
        "\n",
        "bag.fit(X, y)\n",
        "plot_tree(X, bag)"
      ],
      "execution_count": null,
      "outputs": [
        {
          "output_type": "execute_result",
          "data": {
            "text/plain": [
              "<module 'matplotlib.pyplot' from '/usr/local/lib/python3.7/dist-packages/matplotlib/pyplot.py'>"
            ]
          },
          "metadata": {
            "tags": []
          },
          "execution_count": 166
        },
        {
          "output_type": "display_data",
          "data": {
            "image/png": "[encoded data removed]",
            "text/plain": [
              "<Figure size 432x288 with 1 Axes>"
            ]
          },
          "metadata": {
            "tags": []
          }
        }
      ]
    },
    {
      "cell_type": "markdown",
      "metadata": {
        "id": "c1IvKx1b88yL"
      },
      "source": [
        "In the above, we have bootstrapped by providing each individual tree with 80% of the population data. In practice, Random Forests can achieve even better results by randomizing how the individual classifiers are constructed. In fact there are many unique methods of training individual trees and you can learn more about them [here](https://scikit-learn.org/stable/modules/ensemble.html#forest). For now, know that it is better in practice to implement the RandomForests method in sklearn rather than bag individual trees yourself."
      ]
    },
    {
      "cell_type": "code",
      "metadata": {
        "id": "xpBvvWAy9555"
      },
      "source": [
        "from sklearn.ensemble import RandomForestClassifier\n",
        "clf = RandomForestClassifier(n_estimators=10, random_state=2)\n",
        "clf = clf.fit(X, y)"
      ],
      "execution_count": null,
      "outputs": []
    },
    {
      "cell_type": "code",
      "metadata": {
        "colab": {
          "base_uri": "https://localhost:8080/",
          "height": 285
        },
        "id": "VbBJVla_9_4b",
        "outputId": "970a4793-2c3a-47ce-c462-9a09a85f42d6"
      },
      "source": [
        "plot_tree(X, clf)"
      ],
      "execution_count": null,
      "outputs": [
        {
          "output_type": "execute_result",
          "data": {
            "text/plain": [
              "<module 'matplotlib.pyplot' from '/usr/local/lib/python3.7/dist-packages/matplotlib/pyplot.py'>"
            ]
          },
          "metadata": {
            "tags": []
          },
          "execution_count": 168
        },
        {
          "output_type": "display_data",
          "data": {
            "image/png": "[encoded data removed]",
            "text/plain": [
              "<Figure size 432x288 with 1 Axes>"
            ]
          },
          "metadata": {
            "tags": []
          }
        }
      ]
    },
    {
      "cell_type": "markdown",
      "metadata": {
        "id": "NX9lIXZ5A-Pr"
      },
      "source": [
        "<a name='x.2.2.1'></a>\n",
        "\n",
        "#### 4.2.2.1 Interpreting a Random Forest\n",
        "\n",
        "[back to top](#top)\n",
        "\n",
        "Let's revisit our truffle dataset again, this time with random forests"
      ]
    },
    {
      "cell_type": "code",
      "metadata": {
        "id": "sAdkwdM_-Y9y"
      },
      "source": [
        "# fit the model\n",
        "clf = RandomForestClassifier(n_estimators=10, min_samples_leaf=6)\n",
        "clf = clf.fit(X_truf, y_truf_class)"
      ],
      "execution_count": null,
      "outputs": []
    },
    {
      "cell_type": "markdown",
      "metadata": {
        "id": "XTkYWx7Brho1"
      },
      "source": [
        "We get a fairly high accuracy when our `min_samples_leaf` is low and an accuracy that leaves room for improvement when `min_samples_leaf` is high. This indicates to us the model may be prown to overfitting if we are not careful:"
      ]
    },
    {
      "cell_type": "code",
      "metadata": {
        "colab": {
          "base_uri": "https://localhost:8080/"
        },
        "id": "1mFrN0z2Ads-",
        "outputId": "2443b979-7c86-4f51-dbd7-9c9ae9d12112"
      },
      "source": [
        "accuracy_score(clf.predict(X_truf), y_truf_class)"
      ],
      "execution_count": null,
      "outputs": [
        {
          "output_type": "execute_result",
          "data": {
            "text/plain": [
              "0.6061151079136691"
            ]
          },
          "metadata": {
            "tags": []
          },
          "execution_count": 179
        }
      ]
    },
    {
      "cell_type": "markdown",
      "metadata": {
        "id": "gF4hDgcCs8-r"
      },
      "source": [
        "We need to do some housekeeping to get back the names and categories the features were pulled from:"
      ]
    },
    {
      "cell_type": "code",
      "metadata": {
        "id": "x3QR63MaKjCx",
        "colab": {
          "base_uri": "https://localhost:8080/"
        },
        "outputId": "dc0e9729-080d-4253-810c-d907d89fade0"
      },
      "source": [
        "feat_dict = dict(zip([f'x{i}' for i in range(len(cat_cols))], \n",
        "                     cat_cols.str.replace(' ', '_')))\n",
        "print(feat_dict)\n",
        "feats = []\n",
        "\n",
        "# enc.get_feature_names unpacks like so: `x4_White` where\n",
        "# x<N> is an artifact of the original dimensions fed to enc()\n",
        "# I am unpacking the feature names with the original dataframe header\n",
        "for row in enc.get_feature_names():\n",
        "  feats.append('{} {}'.format(feat_dict[row.split('_')[0]], row.split('_')[1]))\n",
        "\n",
        "# feats will be used to visualize the feature importances\n",
        "feats[:5]"
      ],
      "execution_count": null,
      "outputs": [
        {
          "output_type": "stream",
          "text": [
            "{'x0': 'Base_Cake', 'x1': 'Truffle_Type', 'x2': 'Primary_Flavor', 'x3': 'Secondary_Flavor', 'x4': 'Color_Group', 'x5': 'Customer', 'x6': 'Date'}\n"
          ],
          "name": "stdout"
        },
        {
          "output_type": "execute_result",
          "data": {
            "text/plain": [
              "['Base_Cake Butter',\n",
              " 'Base_Cake Cheese',\n",
              " 'Base_Cake Chiffon',\n",
              " 'Base_Cake Pound',\n",
              " 'Base_Cake Sponge']"
            ]
          },
          "metadata": {
            "tags": []
          },
          "execution_count": 180
        }
      ]
    },
    {
      "cell_type": "markdown",
      "metadata": {
        "id": "DAV5nPlntCHE"
      },
      "source": [
        "The feature importances are stored in `clf.feature_importances_`. These are calculated from the **_Mean Decrease in Impurity_** or MDI also called the **_Gini Importance_**. It is the sum of the number of nodes across all trees that include the feature, weighted by the number of samples passing through the node. \n",
        "\n",
        "One downside of estimating feature importance in this way is that it doesn't play well with highly cardinal features _(features with many unique values such as mailing addresses, are highly cardinal features)_\n",
        "\n"
      ]
    },
    {
      "cell_type": "code",
      "metadata": {
        "id": "Rz9jG4dvrqt4"
      },
      "source": [
        "# grab feature importances\n",
        "imp = clf.feature_importances_\n",
        "\n",
        "# their std\n",
        "std = np.std([tree.feature_importances_ for tree in clf.estimators_], axis=0)\n",
        "\n",
        "# create new dataframe\n",
        "feat = pd.DataFrame([feats + [\"KG\"], imp, std]).T\n",
        "feat.columns = ['name', 'importance', 'std']\n",
        "feat = feat.sort_values('importance', ascending=False)\n",
        "feat = feat.reset_index(drop=True)\n",
        "feat.columns = ['feature', 'importance', 'std']"
      ],
      "execution_count": null,
      "outputs": []
    },
    {
      "cell_type": "markdown",
      "metadata": {
        "id": "Mmz7RyB4vf6W"
      },
      "source": [
        "I'm going to use `plotly` to create this chart:\n",
        "\n",
        "> How does feature importance change when we change the minimum leaf size from 2 to 6?"
      ]
    },
    {
      "cell_type": "code",
      "metadata": {
        "colab": {
          "base_uri": "https://localhost:8080/",
          "height": 542
        },
        "id": "nyZiTqMcB8K1",
        "outputId": "b9ff0b21-bd9e-437c-ec84-71af2c9002a3"
      },
      "source": [
        "px.bar(feat, x='feature', y='importance', error_y='std')"
      ],
      "execution_count": null,
      "outputs": [
        {
          "output_type": "display_data",
          "data": {
            "text/html": [
              "<html>\n",
              "<head><meta charset=\"utf-8\" /></head>\n",
              "<body>\n",
              "    <div>\n",
              "            <script src=\"https://cdnjs.cloudflare.com/ajax/libs/mathjax/2.7.5/MathJax.js?config=TeX-AMS-MML_SVG\"></script><script type=\"text/javascript\">if (window.MathJax) {MathJax.Hub.Config({SVG: {font: \"STIX-Web\"}});}</script>\n",
              "                <script type=\"text/javascript\">window.PlotlyConfig = {MathJaxConfig: 'local'};</script>\n",
              "        <script src=\"https://cdn.plot.ly/plotly-latest.min.js\"></script>    \n",
              "            <div id=\"91c2dbca-7806-4031-897e-d18df75092ea\" class=\"plotly-graph-div\" style=\"height:525px; width:100%;\"></div>\n",
              "            <script type=\"text/javascript\">\n",
              "                \n",
              "                    window.PLOTLYENV=window.PLOTLYENV || {};\n",
              "                    \n",
              "                if (document.getElementById(\"91c2dbca-7806-4031-897e-d18df75092ea\")) {\n",
              "                    Plotly.newPlot(\n",
              "                        '91c2dbca-7806-4031-897e-d18df75092ea',\n",
              "                        [{\"alignmentgroup\": \"True\", \"error_y\": {\"array\": [0.08716879066473213, 0.0589135597085941, 0.026513155672502595, 0.03640399679896919, 0.03102651905585983, 0.031234987309604292, 0.021593834217614044, 0.04137164211814006, 0.023145343876550286, 0.03274387498952889, 0.03220903764312684, 0.014699598302871607, 0.015856364463086893, 0.018192269413473457, 0.01493311375162113, 0.01716967869643701, 0.020539878187536834, 0.017524906908676335, 0.02433840724426595, 0.012461315783592133, 0.019371026098679862, 0.014383549645088428, 0.01725275964744584, 0.015521097933128994, 0.010971680613972872, 0.010151521937772908, 0.018295925048879006, 0.01035673570793537, 0.010169274842631698, 0.006863711297546096, 0.0075522025319850064, 0.01579937765093624, 0.011966212324904416, 0.007625299283694867, 0.008055446833824321, 0.00799676872100587, 0.00685925415698413, 0.01000530310410031, 0.010200672022644023, 0.006252057297268926, 0.007246821671294207, 0.007449163554041269, 0.00857885897053939, 0.011101186253847813, 0.008305276136857094, 0.006822695720682233, 0.006801206847996927, 0.008103065600007927, 0.006743927645195531, 0.011099972088598644, 0.00498995903354932, 0.007947218939257174, 0.006037740604922189, 0.004733353702935602, 0.0036899083457202207, 0.009653433031732862, 0.008561308977725557, 0.005175598216247765, 0.0037937123998490717, 0.007800303498149932, 0.005501159535275646, 0.006723241350229443, 0.005443535919063829, 0.004153902832530131, 0.003815821811662937, 0.006011432973291908, 0.004354995249531753, 0.007574973300201728, 0.004506196908629537, 0.0059001018657048, 0.006555662270413121, 0.0044750615456624135, 0.0059528976356023776, 0.002101277430787762, 0.0036079832341811145, 0.0035853073036965235, 0.0032545273200507824, 0.004672234018031281, 0.004414610008699706, 0.004298375338425448, 0.0037401389209137737, 0.003204703575300767, 0.0025499692637192344, 0.0037400580907934536, 0.0031971178074363714, 0.004301792130255337, 0.0032993067644589975, 0.0024238760549590943, 0.004556210590766476, 0.0027925833168327813, 0.001990400639861075, 0.003425150432266986, 0.002566241789305567, 0.001773269458234669, 0.0020226016944355795, 0.0033674976699608022, 0.0025104933998472863, 0.00225172543420884, 0.0023342048002331413, 0.002941859955506022, 0.0014961675335432134, 0.0028143246629650912, 0.002745542384887652, 0.002717323640780826, 0.0011657786349472535, 0.0014497984004691812, 0.0009197543938546547, 0.0007079493486998363, 0.0008546312123913399, 0.0006795693410157104, 0.0006215962533610225, 0.0004928305481481059, 0.000344957920784135, 0.00017872496082565613, 0.0, 0.0, 0.0, 0.0, 0.0]}, \"hoverlabel\": {\"namelength\": 0}, \"hovertemplate\": \"feature=%{x}<br>importance=%{y}\", \"legendgroup\": \"\", \"marker\": {\"color\": \"#636efa\"}, \"name\": \"\", \"offsetgroup\": \"\", \"orientation\": \"v\", \"showlegend\": false, \"textposition\": \"auto\", \"type\": \"bar\", \"x\": [\"Base_Cake Sponge\", \"Base_Cake Chiffon\", \"KG\", \"Base_Cake Butter\", \"Base_Cake Pound\", \"Base_Cake Cheese\", \"Customer Perk-a-Cola\", \"Color_Group Olive\", \"Primary_Flavor Doughnut\", \"Secondary_Flavor Black Cherry\", \"Primary_Flavor Butter Toffee\", \"Secondary_Flavor Egg Nog\", \"Primary_Flavor Ginger Lime\", \"Color_Group White\", \"Primary_Flavor Mango\", \"Base_Cake Tiramisu\", \"Truffle_Type Chocolate Outer\", \"Truffle_Type Candy Outer\", \"Primary_Flavor Orange Pineapple\\tP\", \"Secondary_Flavor Apricot\", \"Color_Group Opal\", \"Customer Zebrabar\", \"Primary_Flavor Plum\", \"Customer Slugworth\", \"Secondary_Flavor Black Currant\", \"Primary_Flavor Vanilla\", \"Primary_Flavor Dill Pickle\", \"Color_Group Tiffany\", \"Primary_Flavor Acai Berry\", \"Primary_Flavor Cheesecake\", \"Primary_Flavor Caramel Cream\", \"Secondary_Flavor Papaya\", \"Secondary_Flavor Cucumber\", \"Customer Fickelgruber\", \"Primary_Flavor Grand Mariner\", \"Primary_Flavor Lemon Custard\", \"Customer Dandy's Candies\", \"Primary_Flavor Kettle Corn\", \"Secondary_Flavor Whipped Cream\", \"Primary_Flavor Lemon Bar\", \"Color_Group Amethyst\", \"Primary_Flavor Toasted Coconut\", \"Color_Group Black\", \"Primary_Flavor Blueberry\", \"Color_Group Citrine\", \"Primary_Flavor Spice\", \"Secondary_Flavor Lemon\", \"Primary_Flavor Bavarian Cream\", \"Secondary_Flavor Passion Fruit\", \"Primary_Flavor Cherry Cream Spice\", \"Primary_Flavor Coffee\", \"Color_Group Teal\", \"Primary_Flavor Irish Cream\", \"Date 7/2020\", \"Secondary_Flavor Apple\", \"Primary_Flavor Orange\", \"Secondary_Flavor Tangerine\", \"Date 5/2020\", \"Date 1/2020\", \"Primary_Flavor Coconut\", \"Secondary_Flavor Mojito\", \"Primary_Flavor Black Licorice\", \"Primary_Flavor Pink Lemonade\", \"Date 12/2020\", \"Secondary_Flavor Kiwi\", \"Primary_Flavor Fruit Punch\", \"Secondary_Flavor Rock and Rye\", \"Primary_Flavor Raspberry Ginger Ale\", \"Color_Group Rose\", \"Primary_Flavor Lemon\", \"Primary_Flavor Gingersnap\", \"Date 8/2020\", \"Primary_Flavor Chocolate\", \"Secondary_Flavor Rum\", \"Color_Group Taupe\", \"Primary_Flavor Watermelon\", \"Primary_Flavor Cherry Cola\", \"Primary_Flavor Sour\", \"Secondary_Flavor Dill Pickle\", \"Primary_Flavor Cream Soda\", \"Primary_Flavor Orange Brandy\", \"Secondary_Flavor Banana\", \"Date 10/2020\", \"Secondary_Flavor Vanilla\", \"Date 2/2020\", \"Color_Group Burgundy\", \"Date 6/2020\", \"Secondary_Flavor Pear\", \"Primary_Flavor Wild Cherry Cream\", \"Primary_Flavor Wintergreen\", \"Secondary_Flavor Fuzzy Navel\", \"Primary_Flavor Butter Pecan\", \"Color_Group Slate\", \"Date 4/2020\", \"Primary_Flavor Apricot\", \"Secondary_Flavor Mixed Berry\", \"Secondary_Flavor Tutti Frutti\", \"Date 11/2020\", \"Secondary_Flavor Peppermint\", \"Truffle_Type Jelly Filled\", \"Date 3/2020\", \"Secondary_Flavor Mango\", \"Secondary_Flavor Ginger Beer\", \"Primary_Flavor Ginger Ale\", \"Date 9/2020\", \"Primary_Flavor Pecan\", \"Primary_Flavor Horchata\", \"Secondary_Flavor Butter Rum\", \"Secondary_Flavor Toffee\", \"Primary_Flavor Creme de Menthe\", \"Primary_Flavor Margarita\", \"Primary_Flavor Pear\", \"Primary_Flavor Butter Milk\", \"Primary_Flavor Sassafras\", \"Primary_Flavor Birch Beer\", \"Secondary_Flavor Hazelnut\", \"Primary_Flavor Chocolate Mint\", \"Primary_Flavor Amaretto\", \"Secondary_Flavor Wild Cherry Cream\"], \"xaxis\": \"x\", \"y\": [0.10847943500753683, 0.07138322167042563, 0.05825945503939397, 0.04706574877278423, 0.036757092176762686, 0.03255113306002884, 0.0257456627584767, 0.02372286309771829, 0.02361863839752628, 0.02197258014566992, 0.02124280891402993, 0.0207117501012186, 0.017066267973724757, 0.016263203748317117, 0.016055922411676027, 0.016019810748596687, 0.015677232434634078, 0.015515416340094498, 0.015295955900176914, 0.01527400917463167, 0.014849959063563217, 0.014493402298962918, 0.012541213379304996, 0.012453862220128413, 0.011775329874062126, 0.011513912976025525, 0.010338404724104331, 0.010332004547163263, 0.009609142079819572, 0.008934526538970778, 0.00862451508543848, 0.00839842062174726, 0.007718563292554573, 0.0076738144030767536, 0.007441311390147401, 0.0072300198156153295, 0.007158403431720956, 0.0068770094110770785, 0.0068577624608667665, 0.006781492046832221, 0.006563499484310653, 0.006531549256089215, 0.006416476482851427, 0.005437252121830817, 0.005393991555802377, 0.005320901295174821, 0.0052202420178983945, 0.005205905518323553, 0.004993418635951738, 0.004960337386419468, 0.004812148140961143, 0.00478744834764944, 0.004756752405331935, 0.004494537026356361, 0.004436623688782566, 0.0042763161900640405, 0.004192817457475925, 0.004121870508900785, 0.0038950444658627697, 0.0038941143474633213, 0.0036594006571383877, 0.0034435690036995524, 0.003374710137825754, 0.0033287814998232803, 0.00332731917992487, 0.002999152292834302, 0.0029154663186455538, 0.002908988847184521, 0.002841800985576054, 0.002734941577831278, 0.0027268119430311983, 0.002572107737084468, 0.0022617231367545675, 0.00225946615498977, 0.0022594177985669358, 0.0022137897897724435, 0.002147907832635082, 0.002135203266071415, 0.002106729289318257, 0.002078948002667569, 0.001906756010430161, 0.0019032363998073964, 0.0018684175640851675, 0.0018615742201906402, 0.0017846774071446376, 0.0017408515130964797, 0.001629388475892923, 0.0015599151707420755, 0.0015187368635888254, 0.0013242295673213504, 0.001308891905377471, 0.0013064935902009462, 0.0012825685815130022, 0.0012775970207677938, 0.0011779934966321373, 0.0011224992233202676, 0.0011007059969185301, 0.0010830770449617017, 0.0010633784924776062, 0.000980619985168674, 0.0009483339375720619, 0.0009381082209883637, 0.0009151807949625507, 0.0009057745469269419, 0.0009021506805146831, 0.0004832661334897271, 0.0003860826140868251, 0.000353778300869604, 0.0002848770707971133, 0.00022652311367190358, 0.0002071987511203408, 0.000164276849382702, 0.00011498597359471162, 7.909516290306352e-05, 0.0, 0.0, 0.0, 0.0, 0.0], \"yaxis\": \"y\"}],\n",
              "                        {\"barmode\": \"relative\", \"legend\": {\"tracegroupgap\": 0}, \"margin\": {\"t\": 60}, \"template\": {\"data\": {\"bar\": [{\"error_x\": {\"color\": \"#2a3f5f\"}, \"error_y\": {\"color\": \"#2a3f5f\"}, \"marker\": {\"line\": {\"color\": \"#E5ECF6\", \"width\": 0.5}}, \"type\": \"bar\"}], \"barpolar\": [{\"marker\": {\"line\": {\"color\": \"#E5ECF6\", \"width\": 0.5}}, \"type\": \"barpolar\"}], \"carpet\": [{\"aaxis\": {\"endlinecolor\": \"#2a3f5f\", \"gridcolor\": \"white\", \"linecolor\": \"white\", \"minorgridcolor\": \"white\", \"startlinecolor\": \"#2a3f5f\"}, \"baxis\": {\"endlinecolor\": \"#2a3f5f\", \"gridcolor\": \"white\", \"linecolor\": \"white\", \"minorgridcolor\": \"white\", \"startlinecolor\": \"#2a3f5f\"}, \"type\": \"carpet\"}], \"choropleth\": [{\"colorbar\": {\"outlinewidth\": 0, \"ticks\": \"\"}, \"type\": \"choropleth\"}], \"contour\": [{\"colorbar\": {\"outlinewidth\": 0, \"ticks\": \"\"}, \"colorscale\": [[0.0, \"#0d0887\"], [0.1111111111111111, \"#46039f\"], [0.2222222222222222, \"#7201a8\"], [0.3333333333333333, \"#9c179e\"], [0.4444444444444444, \"#bd3786\"], [0.5555555555555556, \"#d8576b\"], [0.6666666666666666, \"#ed7953\"], [0.7777777777777778, \"#fb9f3a\"], [0.8888888888888888, \"#fdca26\"], [1.0, \"#f0f921\"]], \"type\": \"contour\"}], \"contourcarpet\": [{\"colorbar\": {\"outlinewidth\": 0, \"ticks\": \"\"}, \"type\": \"contourcarpet\"}], \"heatmap\": [{\"colorbar\": {\"outlinewidth\": 0, \"ticks\": \"\"}, \"colorscale\": [[0.0, \"#0d0887\"], [0.1111111111111111, \"#46039f\"], [0.2222222222222222, \"#7201a8\"], [0.3333333333333333, \"#9c179e\"], [0.4444444444444444, \"#bd3786\"], [0.5555555555555556, \"#d8576b\"], [0.6666666666666666, \"#ed7953\"], [0.7777777777777778, \"#fb9f3a\"], [0.8888888888888888, \"#fdca26\"], [1.0, \"#f0f921\"]], \"type\": \"heatmap\"}], \"heatmapgl\": [{\"colorbar\": {\"outlinewidth\": 0, \"ticks\": \"\"}, \"colorscale\": [[0.0, \"#0d0887\"], [0.1111111111111111, \"#46039f\"], [0.2222222222222222, \"#7201a8\"], [0.3333333333333333, \"#9c179e\"], [0.4444444444444444, \"#bd3786\"], [0.5555555555555556, \"#d8576b\"], [0.6666666666666666, \"#ed7953\"], [0.7777777777777778, \"#fb9f3a\"], [0.8888888888888888, \"#fdca26\"], [1.0, \"#f0f921\"]], \"type\": \"heatmapgl\"}], \"histogram\": [{\"marker\": {\"colorbar\": {\"outlinewidth\": 0, \"ticks\": \"\"}}, \"type\": \"histogram\"}], \"histogram2d\": [{\"colorbar\": {\"outlinewidth\": 0, \"ticks\": \"\"}, \"colorscale\": [[0.0, \"#0d0887\"], [0.1111111111111111, \"#46039f\"], [0.2222222222222222, \"#7201a8\"], [0.3333333333333333, \"#9c179e\"], [0.4444444444444444, \"#bd3786\"], [0.5555555555555556, \"#d8576b\"], [0.6666666666666666, \"#ed7953\"], [0.7777777777777778, \"#fb9f3a\"], [0.8888888888888888, \"#fdca26\"], [1.0, \"#f0f921\"]], \"type\": \"histogram2d\"}], \"histogram2dcontour\": [{\"colorbar\": {\"outlinewidth\": 0, \"ticks\": \"\"}, \"colorscale\": [[0.0, \"#0d0887\"], [0.1111111111111111, \"#46039f\"], [0.2222222222222222, \"#7201a8\"], [0.3333333333333333, \"#9c179e\"], [0.4444444444444444, \"#bd3786\"], [0.5555555555555556, \"#d8576b\"], [0.6666666666666666, \"#ed7953\"], [0.7777777777777778, \"#fb9f3a\"], [0.8888888888888888, \"#fdca26\"], [1.0, \"#f0f921\"]], \"type\": \"histogram2dcontour\"}], \"mesh3d\": [{\"colorbar\": {\"outlinewidth\": 0, \"ticks\": \"\"}, \"type\": \"mesh3d\"}], \"parcoords\": [{\"line\": {\"colorbar\": {\"outlinewidth\": 0, \"ticks\": \"\"}}, \"type\": \"parcoords\"}], \"pie\": [{\"automargin\": true, \"type\": \"pie\"}], \"scatter\": [{\"marker\": {\"colorbar\": {\"outlinewidth\": 0, \"ticks\": \"\"}}, \"type\": \"scatter\"}], \"scatter3d\": [{\"line\": {\"colorbar\": {\"outlinewidth\": 0, \"ticks\": \"\"}}, \"marker\": {\"colorbar\": {\"outlinewidth\": 0, \"ticks\": \"\"}}, \"type\": \"scatter3d\"}], \"scattercarpet\": [{\"marker\": {\"colorbar\": {\"outlinewidth\": 0, \"ticks\": \"\"}}, \"type\": \"scattercarpet\"}], \"scattergeo\": [{\"marker\": {\"colorbar\": {\"outlinewidth\": 0, \"ticks\": \"\"}}, \"type\": \"scattergeo\"}], \"scattergl\": [{\"marker\": {\"colorbar\": {\"outlinewidth\": 0, \"ticks\": \"\"}}, \"type\": \"scattergl\"}], \"scattermapbox\": [{\"marker\": {\"colorbar\": {\"outlinewidth\": 0, \"ticks\": \"\"}}, \"type\": \"scattermapbox\"}], \"scatterpolar\": [{\"marker\": {\"colorbar\": {\"outlinewidth\": 0, \"ticks\": \"\"}}, \"type\": \"scatterpolar\"}], \"scatterpolargl\": [{\"marker\": {\"colorbar\": {\"outlinewidth\": 0, \"ticks\": \"\"}}, \"type\": \"scatterpolargl\"}], \"scatterternary\": [{\"marker\": {\"colorbar\": {\"outlinewidth\": 0, \"ticks\": \"\"}}, \"type\": \"scatterternary\"}], \"surface\": [{\"colorbar\": {\"outlinewidth\": 0, \"ticks\": \"\"}, \"colorscale\": [[0.0, \"#0d0887\"], [0.1111111111111111, \"#46039f\"], [0.2222222222222222, \"#7201a8\"], [0.3333333333333333, \"#9c179e\"], [0.4444444444444444, \"#bd3786\"], [0.5555555555555556, \"#d8576b\"], [0.6666666666666666, \"#ed7953\"], [0.7777777777777778, \"#fb9f3a\"], [0.8888888888888888, \"#fdca26\"], [1.0, \"#f0f921\"]], \"type\": \"surface\"}], \"table\": [{\"cells\": {\"fill\": {\"color\": \"#EBF0F8\"}, \"line\": {\"color\": \"white\"}}, \"header\": {\"fill\": {\"color\": \"#C8D4E3\"}, \"line\": {\"color\": \"white\"}}, \"type\": \"table\"}]}, \"layout\": {\"annotationdefaults\": {\"arrowcolor\": \"#2a3f5f\", \"arrowhead\": 0, \"arrowwidth\": 1}, \"coloraxis\": {\"colorbar\": {\"outlinewidth\": 0, \"ticks\": \"\"}}, \"colorscale\": {\"diverging\": [[0, \"#8e0152\"], [0.1, \"#c51b7d\"], [0.2, \"#de77ae\"], [0.3, \"#f1b6da\"], [0.4, \"#fde0ef\"], [0.5, \"#f7f7f7\"], [0.6, \"#e6f5d0\"], [0.7, \"#b8e186\"], [0.8, \"#7fbc41\"], [0.9, \"#4d9221\"], [1, \"#276419\"]], \"sequential\": [[0.0, \"#0d0887\"], [0.1111111111111111, \"#46039f\"], [0.2222222222222222, \"#7201a8\"], [0.3333333333333333, \"#9c179e\"], [0.4444444444444444, \"#bd3786\"], [0.5555555555555556, \"#d8576b\"], [0.6666666666666666, \"#ed7953\"], [0.7777777777777778, \"#fb9f3a\"], [0.8888888888888888, \"#fdca26\"], [1.0, \"#f0f921\"]], \"sequentialminus\": [[0.0, \"#0d0887\"], [0.1111111111111111, \"#46039f\"], [0.2222222222222222, \"#7201a8\"], [0.3333333333333333, \"#9c179e\"], [0.4444444444444444, \"#bd3786\"], [0.5555555555555556, \"#d8576b\"], [0.6666666666666666, \"#ed7953\"], [0.7777777777777778, \"#fb9f3a\"], [0.8888888888888888, \"#fdca26\"], [1.0, \"#f0f921\"]]}, \"colorway\": [\"#636efa\", \"#EF553B\", \"#00cc96\", \"#ab63fa\", \"#FFA15A\", \"#19d3f3\", \"#FF6692\", \"#B6E880\", \"#FF97FF\", \"#FECB52\"], \"font\": {\"color\": \"#2a3f5f\"}, \"geo\": {\"bgcolor\": \"white\", \"lakecolor\": \"white\", \"landcolor\": \"#E5ECF6\", \"showlakes\": true, \"showland\": true, \"subunitcolor\": \"white\"}, \"hoverlabel\": {\"align\": \"left\"}, \"hovermode\": \"closest\", \"mapbox\": {\"style\": \"light\"}, \"paper_bgcolor\": \"white\", \"plot_bgcolor\": \"#E5ECF6\", \"polar\": {\"angularaxis\": {\"gridcolor\": \"white\", \"linecolor\": \"white\", \"ticks\": \"\"}, \"bgcolor\": \"#E5ECF6\", \"radialaxis\": {\"gridcolor\": \"white\", \"linecolor\": \"white\", \"ticks\": \"\"}}, \"scene\": {\"xaxis\": {\"backgroundcolor\": \"#E5ECF6\", \"gridcolor\": \"white\", \"gridwidth\": 2, \"linecolor\": \"white\", \"showbackground\": true, \"ticks\": \"\", \"zerolinecolor\": \"white\"}, \"yaxis\": {\"backgroundcolor\": \"#E5ECF6\", \"gridcolor\": \"white\", \"gridwidth\": 2, \"linecolor\": \"white\", \"showbackground\": true, \"ticks\": \"\", \"zerolinecolor\": \"white\"}, \"zaxis\": {\"backgroundcolor\": \"#E5ECF6\", \"gridcolor\": \"white\", \"gridwidth\": 2, \"linecolor\": \"white\", \"showbackground\": true, \"ticks\": \"\", \"zerolinecolor\": \"white\"}}, \"shapedefaults\": {\"line\": {\"color\": \"#2a3f5f\"}}, \"ternary\": {\"aaxis\": {\"gridcolor\": \"white\", \"linecolor\": \"white\", \"ticks\": \"\"}, \"baxis\": {\"gridcolor\": \"white\", \"linecolor\": \"white\", \"ticks\": \"\"}, \"bgcolor\": \"#E5ECF6\", \"caxis\": {\"gridcolor\": \"white\", \"linecolor\": \"white\", \"ticks\": \"\"}}, \"title\": {\"x\": 0.05}, \"xaxis\": {\"automargin\": true, \"gridcolor\": \"white\", \"linecolor\": \"white\", \"ticks\": \"\", \"title\": {\"standoff\": 15}, \"zerolinecolor\": \"white\", \"zerolinewidth\": 2}, \"yaxis\": {\"automargin\": true, \"gridcolor\": \"white\", \"linecolor\": \"white\", \"ticks\": \"\", \"title\": {\"standoff\": 15}, \"zerolinecolor\": \"white\", \"zerolinewidth\": 2}}}, \"xaxis\": {\"anchor\": \"y\", \"domain\": [0.0, 1.0], \"title\": {\"text\": \"feature\"}}, \"yaxis\": {\"anchor\": \"x\", \"domain\": [0.0, 1.0], \"title\": {\"text\": \"importance\"}}},\n",
              "                        {\"responsive\": true}\n",
              "                    ).then(function(){\n",
              "                            \n",
              "var gd = document.getElementById('91c2dbca-7806-4031-897e-d18df75092ea');\n",
              "var x = new MutationObserver(function (mutations, observer) {{\n",
              "        var display = window.getComputedStyle(gd).display;\n",
              "        if (!display || display === 'none') {{\n",
              "            console.log([gd, 'removed!']);\n",
              "            Plotly.purge(gd);\n",
              "            observer.disconnect();\n",
              "        }}\n",
              "}});\n",
              "\n",
              "// Listen for the removal of the full notebook cells\n",
              "var notebookContainer = gd.closest('#notebook-container');\n",
              "if (notebookContainer) {{\n",
              "    x.observe(notebookContainer, {childList: true});\n",
              "}}\n",
              "\n",
              "// Listen for the clearing of the current output cell\n",
              "var outputEl = gd.closest('.output');\n",
              "if (outputEl) {{\n",
              "    x.observe(outputEl, {childList: true});\n",
              "}}\n",
              "\n",
              "                        })\n",
              "                };\n",
              "                \n",
              "            </script>\n",
              "        </div>\n",
              "</body>\n",
              "</html>"
            ]
          },
          "metadata": {
            "tags": []
          }
        }
      ]
    },
    {
      "cell_type": "markdown",
      "metadata": {
        "id": "Ww-iR62eTUpF"
      },
      "source": [
        "We can then go and look at the different EBITDAs when selecting for each of these features:"
      ]
    },
    {
      "cell_type": "code",
      "metadata": {
        "id": "wDB2Q2oASsx8"
      },
      "source": [
        "def ebitda_comp(feature=feat['feature']):\n",
        "  if len(feature.split(' ')) > 1:\n",
        "    group = feature.split(' ')[0].replace('_', ' ')\n",
        "    sel = \" \".join(feature.split(' ')[1:])\n",
        "    pos = margin.loc[(margin[group] == sel)]['EBITDA/KG'].median()\n",
        "    neg = margin.loc[~(margin[group] == sel)]['EBITDA/KG'].median()\n",
        "    print(\"with:    {:.2e}\".format(pos))\n",
        "    print(\"without: {:.2e}\".format(neg))\n",
        "  else:\n",
        "    pass  "
      ],
      "execution_count": null,
      "outputs": []
    },
    {
      "cell_type": "code",
      "metadata": {
        "colab": {
          "base_uri": "https://localhost:8080/",
          "height": 102,
          "referenced_widgets": [
            "8490f8661adb42959c71715846dae5a6",
            "8ca0c716566540bdb935c99e44140d89",
            "e3e05c279e7a4e5bb5a78ac754911f06",
            "77ca40239fb647fdaa36d62cacf60d31",
            "e3dd4563926d425595ebc08b49c69c89",
            "faf7fc3ffa494733bb06445382bb4d58",
            "90fd90d4c8ce43cfbca5ae2d4110dfe4"
          ]
        },
        "id": "owF1p4XfVCTW",
        "outputId": "fb0284f3-3f50-4e3d-cc06-9c61705a5aa1"
      },
      "source": [
        "interact(ebitda_comp)"
      ],
      "execution_count": null,
      "outputs": [
        {
          "output_type": "display_data",
          "data": {
            "application/vnd.jupyter.widget-view+json": {
              "model_id": "8490f8661adb42959c71715846dae5a6",
              "version_minor": 0,
              "version_major": 2
            },
            "text/plain": [
              "interactive(children=(Dropdown(description='feature', options=('Base_Cake Sponge', 'Base_Cake Chiffon', 'KG', …"
            ]
          },
          "metadata": {
            "tags": []
          }
        },
        {
          "output_type": "execute_result",
          "data": {
            "text/plain": [
              "<function __main__.ebitda_comp>"
            ]
          },
          "metadata": {
            "tags": []
          },
          "execution_count": 184
        }
      ]
    },
    {
      "cell_type": "markdown",
      "metadata": {
        "id": "8GVyNnczQIZc"
      },
      "source": [
        "This is an example of how the interpretability of the random forest ensemble approach can be highly valuable."
      ]
    },
    {
      "cell_type": "markdown",
      "metadata": {
        "id": "4txgFqPUI4Qv"
      },
      "source": [
        "<a name='x.2.3'></a>\n",
        "\n",
        "### 4.2.3 Random Forests for Regression\n",
        "\n",
        "[back to top](#top)\n"
      ]
    },
    {
      "cell_type": "code",
      "metadata": {
        "id": "mLZZyUYSRyyp"
      },
      "source": [
        "from sklearn.ensemble import RandomForestRegressor\n",
        "\n",
        "clf = RandomForestRegressor(n_estimators=10)"
      ],
      "execution_count": null,
      "outputs": []
    },
    {
      "cell_type": "markdown",
      "metadata": {
        "id": "SB8576VEa1qQ"
      },
      "source": [
        "Because our labels on our blob data were numerical, we can apply and view the estimator in the same way:"
      ]
    },
    {
      "cell_type": "code",
      "metadata": {
        "colab": {
          "base_uri": "https://localhost:8080/",
          "height": 285
        },
        "id": "Yvw_tn8Waqfb",
        "outputId": "87ef66a3-0694-4236-e7fd-bbbe8d7b5b37"
      },
      "source": [
        "clf = clf.fit(X, y)\n",
        "plot_tree(X, clf)"
      ],
      "execution_count": null,
      "outputs": [
        {
          "output_type": "execute_result",
          "data": {
            "text/plain": [
              "<module 'matplotlib.pyplot' from '/usr/local/lib/python3.7/dist-packages/matplotlib/pyplot.py'>"
            ]
          },
          "metadata": {
            "tags": []
          },
          "execution_count": 186
        },
        {
          "output_type": "display_data",
          "data": {
            "image/png": "[encoded data removed]",
            "text/plain": [
              "<Figure size 432x288 with 1 Axes>"
            ]
          },
          "metadata": {
            "tags": []
          }
        }
      ]
    },
    {
      "cell_type": "markdown",
      "metadata": {
        "id": "RfXgvTbtFX2U"
      },
      "source": [
        "I want to revisit a dataset we brought up in Session 1 on feature engineering:"
      ]
    },
    {
      "cell_type": "code",
      "metadata": {
        "colab": {
          "base_uri": "https://localhost:8080/",
          "height": 355
        },
        "id": "q9vXnKnzONuJ",
        "outputId": "696dbbb8-08a9-4c2b-cc9d-dcd0e96447dd"
      },
      "source": [
        "t = np.linspace(0,5,200)\n",
        "w = 5\n",
        "h = 4\n",
        "s = 4 * h / np.pi * (np.sin(w*t) + np.sin(3*w*t)/3 + np.sin(5*w*t)/5)\n",
        "\n",
        "F = np.fft.fft(s)\n",
        "freq = np.fft.fftfreq(t.shape[-1])\n",
        "\n",
        "fig, ax = plt.subplots(1,2,figsize=(10,5))\n",
        "\n",
        "ax[0].plot(t,s)\n",
        "ax[0].plot(t,np.sin(w*t), ls='--')\n",
        "ax[0].plot(t,np.sin(w*t*3)/3, ls='--')\n",
        "ax[0].plot(t,np.sin(w*t*5)/5, ls='--')\n",
        "ax[0].set_title('Time Domain')\n",
        "\n",
        "# tells us about the amplitude of the component at the\n",
        "# corresponding frequency\n",
        "magnitude = np.sqrt(F.real**2 + F.imag**2)\n",
        "\n",
        "ax[1].plot(freq, magnitude)\n",
        "ax[1].set_xlim(0,.15)\n",
        "ax[1].set_title('Frequency Domain')"
      ],
      "execution_count": null,
      "outputs": [
        {
          "output_type": "execute_result",
          "data": {
            "text/plain": [
              "Text(0.5, 1.0, 'Frequency Domain')"
            ]
          },
          "metadata": {
            "tags": []
          },
          "execution_count": 187
        },
        {
          "output_type": "display_data",
          "data": {
            "image/png": "[encoded data removed]",
            "text/plain": [
              "<Figure size 720x360 with 2 Axes>"
            ]
          },
          "metadata": {
            "tags": []
          }
        }
      ]
    },
    {
      "cell_type": "markdown",
      "metadata": {
        "id": "GqrchyUPZ-lC"
      },
      "source": [
        "Let's see if a random forest regression model can capture the wave behavior of the time-series data"
      ]
    },
    {
      "cell_type": "code",
      "metadata": {
        "colab": {
          "base_uri": "https://localhost:8080/"
        },
        "id": "lVgoXom4doPR",
        "outputId": "f681ad78-d40d-40e5-b2b2-21bc8eb5dfb9"
      },
      "source": [
        "clf = RandomForestRegressor(n_estimators=10)\n",
        "clf.fit(t.reshape(-1,1),s)"
      ],
      "execution_count": null,
      "outputs": [
        {
          "output_type": "execute_result",
          "data": {
            "text/plain": [
              "RandomForestRegressor(bootstrap=True, ccp_alpha=0.0, criterion='mse',\n",
              "                      max_depth=None, max_features='auto', max_leaf_nodes=None,\n",
              "                      max_samples=None, min_impurity_decrease=0.0,\n",
              "                      min_impurity_split=None, min_samples_leaf=1,\n",
              "                      min_samples_split=2, min_weight_fraction_leaf=0.0,\n",
              "                      n_estimators=10, n_jobs=None, oob_score=False,\n",
              "                      random_state=None, verbose=0, warm_start=False)"
            ]
          },
          "metadata": {
            "tags": []
          },
          "execution_count": 188
        }
      ]
    },
    {
      "cell_type": "code",
      "metadata": {
        "colab": {
          "base_uri": "https://localhost:8080/",
          "height": 339
        },
        "id": "RznVmkHPdxzJ",
        "outputId": "686ade8b-8a39-4d17-ac85-613cb1e24df6"
      },
      "source": [
        "fig, ax = plt.subplots(1,1,figsize=(10,5))\n",
        "\n",
        "ax.plot(t,s)\n",
        "ax.plot(t,clf.predict(t.reshape(-1,1)))"
      ],
      "execution_count": null,
      "outputs": [
        {
          "output_type": "execute_result",
          "data": {
            "text/plain": [
              "[<matplotlib.lines.Line2D at 0x7fa11fbc4c50>]"
            ]
          },
          "metadata": {
            "tags": []
          },
          "execution_count": 189
        },
        {
          "output_type": "display_data",
          "data": {
            "image/png": "[encoded data removed]",
            "text/plain": [
              "<Figure size 720x360 with 1 Axes>"
            ]
          },
          "metadata": {
            "tags": []
          }
        }
      ]
    },
    {
      "cell_type": "markdown",
      "metadata": {
        "id": "bnFWg6ULeLNF"
      },
      "source": [
        "Nice! without specifying any perdiodicity, the random forest does a good job of embedding this periodicity in the final output."
      ]
    },
    {
      "cell_type": "markdown",
      "metadata": {
        "id": "HlCWm4Pqv2wG"
      },
      "source": [
        "### 4.2.4 Extended Exercise: Practice with Random Forests\n",
        "\n",
        "With the wine dataset:\n",
        "\n",
        "* predict: quality, quality group\n",
        "\n",
        "* use train_test_split\n",
        "\n",
        "* create a learning curve of train/test score vs model complexity for your random forest model(s)"
      ]
    },
    {
      "cell_type": "code",
      "metadata": {
        "id": "GY2oXgZov8x3"
      },
      "source": [
        "# Code Cell for Exercise 4.2.4\n",
        "wine = pd.read_csv(\"https://raw.githubusercontent.com/wesleybeckner/\"\\\n",
        "      \"ds_for_engineers/main/data/wine_quality/winequalityN.csv\")\n",
        "\n",
        "wine.dropna(inplace=True)\n",
        "wine['quality_label'] = wine['quality'].apply(lambda x: 'low' if x <=5 else\n",
        "                                              'med' if x <= 7 else 'high')\n",
        "\n",
        "wine['type_encoding'] = wine['type'].map({'red': 0, 'white': 1})\n",
        "wine['quality_encoding'] = wine['quality_label'].map({'low':0, \n",
        "                                                      'med': 1, 'high': 2})\n",
        "\n",
        "wine.columns = wine.columns.str.replace(' ', '_')\n",
        "\n",
        "features = list(wine.columns[1:-1].values)\n",
        "features.remove('quality_label')\n",
        "features.remove('quality')"
      ],
      "execution_count": null,
      "outputs": []
    }
  ]
}