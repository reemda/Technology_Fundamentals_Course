{
  "nbformat": 4,
  "nbformat_minor": 0,
  "metadata": {
    "colab": {
      "name": "SOLUTION Tech Fun C1 S1 Python and Jupyter Notebooks.ipynb",
      "provenance": [],
      "collapsed_sections": [],
      "include_colab_link": true
    },
    "kernelspec": {
      "name": "python3",
      "display_name": "Python 3"
    },
    "language_info": {
      "name": "python"
    }
  },
  "cells": [
    {
      "cell_type": "markdown",
      "metadata": {
        "id": "view-in-github",
        "colab_type": "text"
      },
      "source": [
        "<a href=\"https://colab.research.google.com/github/reemda/Technology_Fundamentals_Course/blob/main/SOLUTION_Tech_Fun_C1_S1_Python_and_Jupyter_Notebooks.ipynb\" target=\"_parent\"><img src=\"https://colab.research.google.com/assets/colab-badge.svg\" alt=\"Open In Colab\"/></a>"
      ]
    },
    {
      "cell_type": "markdown",
      "metadata": {
        "id": "vhe1yX4AMckE"
      },
      "source": [
        "# Technology Fundamentals Course 1, Session 1: Python and Jupyter Notebooks\n",
        "\n",
        "**Instructor**: Wesley Beckner\n",
        "\n",
        "**Contact**: wesleybeckner@gmail.com\n",
        "\n",
        "**Teaching Assitants** Varsha Bang, Harsha Vardhan\n",
        "\n",
        "**Contact** vbang@uw.edu, harshav@uw.edu\n",
        "\n",
        "<br>\n",
        "\n",
        "---\n",
        "\n",
        "## Schedule for this week\n",
        "\n",
        "<p align=\"center\">\n",
        "<img src=\"https://raw.githubusercontent.com/wesleybeckner/technology_fundamentals/main/assets/week1.png\" width=800></img>\n",
        "</p>\n",
        "\n",
        "---\n",
        "\n",
        "<br>\n",
        "\n",
        "In this session we will cover computer coding in Python as well as navigating the Jupyter Notebook environment (what we are reading from at this moment). \n",
        "\n",
        "<br>\n",
        "\n",
        "---\n",
        "\n",
        "\n"
      ]
    },
    {
      "cell_type": "markdown",
      "metadata": {
        "id": "yodoFrKdaB2z"
      },
      "source": [
        "## 1.1 Let's talk about Python"
      ]
    },
    {
      "cell_type": "markdown",
      "metadata": {
        "id": "iFyz9RzCxvyp"
      },
      "source": [
        "A lot of us are familiar with Excel, and when we get started in Python, it may seem like a lot of what we are doing could be easily done in Excel, why make the leap?\n",
        "\n",
        "<img src=\"https://www.nobledesktop.com/image/pythonvsexcel.png\" width=400px></img>\n",
        "<br><small>Image borrowed from nobledesktop.com</small><br>\n",
        "\n",
        "* Simplicity\n",
        "  * Excel\n",
        "    * GUI makes simple calculations, well simple!\n",
        "    * Many are at least somewhat versed, so sharing is simple too!\n",
        "  * Python\n",
        "    * Steeper learning curve\n",
        "      * This is unavoidable, but to our advantage our learning material is currated so that we learn python while solving relevant problems!\n",
        "    * <strike>You need to setup your own coding environment</strike> (Thanks Colab!)\n",
        "\n",
        "* Automation / Data Connectivity\n",
        "  * Excel\n",
        "    * Need to execute xlsx file with relevant data (copy, paste, edit, paradigm)\n",
        "  * Python\n",
        "    * Integration with databases for easy update, chart or analysis delivery\n",
        "\n",
        "* Scalability & Big Data\n",
        "  * Excel\n",
        "    * less than millions of data points\n",
        "    * poor version control\n",
        "  * Python\n",
        "    * more than millions of data points\n",
        "    * can integrate with querying languages (e.g. MySQL, PostgreSQL)\n",
        "    * has version control and containerized environments (like notebooks)\n",
        "      * extraction, wrangling, and analytics all in one place\n",
        "\n",
        "\n",
        "\n",
        "**_Side Note: The scripting language of Excel is VBA, this won first place (80% of developers who use this language stated) for most dread language!! in stack overflow's 2020 developer survey_**\n",
        "\n",
        "That being said, we won't only approach Python from a let's-replace-excel standpoint; we will also be approaching it from a coding standpoint: **_we write computer code to perform a set of tasks and instructions that the computer can help us accomplish_**. The real challenge and process of coding from an engineering perspective is how to codify a problem, and knowledge of what tools are available to solve it.\n",
        "\n",
        "We've worked hard on the material to try and demystify the confusion along the way, while focusing on giving learning experiences in the relevant engineering problem areas."
      ]
    },
    {
      "cell_type": "markdown",
      "metadata": {
        "id": "lEJjSUTBY-LX"
      },
      "source": [
        "### 1.1.1 Python vs other languages\n",
        "\n",
        "![python_logo.jpg](data:image/jpeg;base64,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)\n",
        "\n",
        "Our goal is to not only give an introduction to Python, but also to demonstrate general coding concepts. For these next few sections, we'll be executing various lines of code right here in this interactive, Google Colab notebook. If you're wondering how this is possible and how this all works, don't worry; we'll get to the intricacies of interactive notebooks later!\n",
        "\n",
        "You'll discover the many benefits of this general purpose programming language. In particular, **_The syntax for Python is understandable to read and easy to learn_**, compared to the syntax of other languages that requires more of a background of underlying computer science - languages such as Java, C, and C++. In this course, you'll discover that Python is especially ideal for working with scientific data. Topics such as data science, machine learning, and data visualization will be covered later on this week - all while continuing to utilize Python."
      ]
    },
    {
      "cell_type": "code",
      "metadata": {
        "colab": {
          "base_uri": "https://localhost:8080/"
        },
        "id": "X9THcxCU1Pa-",
        "outputId": "3accf30e-463c-43df-a204-b88fa58d02c4"
      },
      "source": [
        "# We will talk about what this cell is doing in a moment!\n",
        "!python --version"
      ],
      "execution_count": null,
      "outputs": [
        {
          "output_type": "stream",
          "text": [
            "Python 3.7.11\n"
          ],
          "name": "stdout"
        }
      ]
    },
    {
      "cell_type": "markdown",
      "metadata": {
        "id": "WB9yFRLChGgt"
      },
      "source": [
        "\n",
        "\n",
        "*Note: this session is covering syntax for version 3.x of Python. As you continue learning Python elsewhere, please advise that Python version 2 is no longer supported, and older notebooks may be outdated as a result.*\n",
        "\n",
        "<img src=\"https://raw.githubusercontent.com/wesleybeckner/ds_for_engineers/main/assets/most_wanted_description.JPG\" width=400px></img>\n",
        "\n",
        "<img src=\"https://raw.githubusercontent.com/wesleybeckner/ds_for_engineers/main/assets/most_wanted_results.JPG\" width=400px></img>\n",
        "\n",
        "<small>source: insights.stackoverflow.com/survey/2020</small>"
      ]
    },
    {
      "cell_type": "markdown",
      "metadata": {
        "id": "ozKiVGp6CASd"
      },
      "source": [
        "### 1.1.2 A quick primer on Python syntax\n"
      ]
    },
    {
      "cell_type": "markdown",
      "metadata": {
        "id": "8PZQ4xZovRWn"
      },
      "source": [
        "Python's simple, concise syntax allows for faster prototyping of code than other languages such as Java and C++. (However, that does not mean that Python has faster runtime execution than the others!)\n",
        "\n",
        "Printing output to the console is as simple as running Python's built-in print() function. To execute a code cell (we'll talk more about this later!), you can either click on the Play button next to the cell, or use the keyboard shortcut *CTRL*+*ENTER* (*CMD (⌘)*+*ENTER* on a macOS)."
      ]
    },
    {
      "cell_type": "code",
      "metadata": {
        "colab": {
          "base_uri": "https://localhost:8080/"
        },
        "id": "StTerRNEC4ZY",
        "outputId": "2be65733-24a4-4b1d-97ab-b19a4b509da2"
      },
      "source": [
        "print(\"Hello, MSTI STudents (anddddd ECE students)\")"
      ],
      "execution_count": null,
      "outputs": [
        {
          "output_type": "stream",
          "text": [
            "Hello, MSTI STudents (anddddd ECE students)\n"
          ],
          "name": "stdout"
        }
      ]
    },
    {
      "cell_type": "markdown",
      "metadata": {
        "id": "VrzDF3_yC-pj"
      },
      "source": [
        "Variables can be created just by typing the name you'd like, followed by the equal sign, and the value you want to assign the variable to. In this case, we'll create a variable called `some_school` and set it to the value of `\"University of Washington\"`:"
      ]
    },
    {
      "cell_type": "code",
      "metadata": {
        "id": "fv9qxGpkDZK8"
      },
      "source": [
        "some_school = \"University of Washington\""
      ],
      "execution_count": null,
      "outputs": []
    },
    {
      "cell_type": "markdown",
      "metadata": {
        "id": "2iBdttwkwO5R"
      },
      "source": [
        "You may then use created variables elsewhere. For example, we can output the value set for `some_school` by inputting the variable name into Python's `print()` function:"
      ]
    },
    {
      "cell_type": "code",
      "metadata": {
        "colab": {
          "base_uri": "https://localhost:8080/"
        },
        "id": "lP4ifTgjwdsU",
        "outputId": "b0841468-f7f3-4557-a9b0-83c6d36943de"
      },
      "source": [
        "print(some_school)"
      ],
      "execution_count": null,
      "outputs": [
        {
          "output_type": "stream",
          "text": [
            "University of Washington\n"
          ],
          "name": "stdout"
        }
      ]
    },
    {
      "cell_type": "markdown",
      "metadata": {
        "id": "65taieEiyYWL"
      },
      "source": [
        "A key part of coding is understanding which functions you need to use for accomplishing a task, as well as knowing when to create one of your own, which you'll learn more about later this week. For now, what you should know is that `print()` from earlier is one example of calling/executing a function that's already made available to us."
      ]
    },
    {
      "cell_type": "markdown",
      "metadata": {
        "id": "mJBeo8UmWSln"
      },
      "source": [
        "#### Exercise 1: A Very Common Print Statement\n",
        "\n"
      ]
    },
    {
      "cell_type": "markdown",
      "metadata": {
        "id": "ptyRTP2MnOVC"
      },
      "source": [
        "Now that you've stepped through our quick primer on Python, for our first coding exercise, try printing hello world! to the screen. Then run the code cell either from the Play button or the keyboard shortcut from earlier to see the output.\n",
        "\n",
        "> You may have noticed me making new coding blocks without touching my mouse. You can do this by pressing `esc` then `a` or `esc` then `b` (for above/below) to create a new cell block where your cursor is. Try this as well"
      ]
    },
    {
      "cell_type": "code",
      "metadata": {
        "id": "6aP6wVQXX3RI",
        "colab": {
          "base_uri": "https://localhost:8080/"
        },
        "outputId": "d04aff09-8c4b-477a-8272-c54364502a38"
      },
      "source": [
        "# Cell for Exercise 1\n",
        "print(\"HELLO WORLD!!!\")"
      ],
      "execution_count": null,
      "outputs": [
        {
          "output_type": "stream",
          "text": [
            "HELLO WORLD!!!\n"
          ],
          "name": "stdout"
        }
      ]
    },
    {
      "cell_type": "markdown",
      "metadata": {
        "id": "DScDhRB09F5N"
      },
      "source": [
        "### 1.1.3 What are variables?\n",
        "\n"
      ]
    },
    {
      "cell_type": "markdown",
      "metadata": {
        "id": "2cgDQPkJu2y1"
      },
      "source": [
        "**_To have values that our computer can store in memory, we use variables_**. How else can we store information for later analysis and later reference? That's where variables come in, and is an essential part of programming!\n",
        "\n",
        "Here's a basic example of assigning a variable, using '='. Let's call this variable `x` and assign it an integer value (we'll get to integers in just a bit!) of 25:"
      ]
    },
    {
      "cell_type": "code",
      "metadata": {
        "id": "Ff_Eopcz85nk"
      },
      "source": [
        "x = 25"
      ],
      "execution_count": null,
      "outputs": []
    },
    {
      "cell_type": "markdown",
      "metadata": {
        "id": "OqX9ijf887aO"
      },
      "source": [
        "Let's create another variable called `city_name` and assign it the word `\"Seattle\"`:"
      ]
    },
    {
      "cell_type": "code",
      "metadata": {
        "id": "yzHBYoxv9NwF"
      },
      "source": [
        "city_name = \"Seattle\""
      ],
      "execution_count": null,
      "outputs": []
    },
    {
      "cell_type": "markdown",
      "metadata": {
        "id": "tCmz0mNnhUdL"
      },
      "source": [
        "And when we need to use this value again, we retrieve that variable by referring to it by the variable name we gave it when first assigned. The `x` variable we created earlier can now be used later, and as many times as we'd like. Existing variables can also be modified. Let's change the value of `x`, after printing its initial value:"
      ]
    },
    {
      "cell_type": "code",
      "metadata": {
        "colab": {
          "base_uri": "https://localhost:8080/"
        },
        "id": "CgYytIIptKFk",
        "outputId": "d13422e7-6059-4ea1-b0e3-6519df6d7667"
      },
      "source": [
        "# x = ???\n",
        "print(x)\n",
        "x1 = 150\n",
        "print(x)"
      ],
      "execution_count": null,
      "outputs": [
        {
          "output_type": "stream",
          "text": [
            "150\n",
            "150\n"
          ],
          "name": "stdout"
        }
      ]
    },
    {
      "cell_type": "markdown",
      "metadata": {
        "id": "Tateotv4tQ88"
      },
      "source": [
        "**A few more notes on storing data as variables...**\n",
        "\n",
        "Variables are nothing but reserved memory locations to store values. This means that when you create a variable you reserve some space in memory for that value. You can identify the location in memory using names. Rules:\n",
        "\n",
        "\n",
        "*  Must begin with a letter (a - z, A - B) or underscore (_)\n",
        "*  Other characters can be letters, numbers or _\n",
        "*  Case Sensitive\n",
        "*  Can be any (reasonable) length\n",
        "*  There are some reserved words which you cannot use as a variable name because Python uses them for other things. (e.g False, None, True, Lambda, From, Global)\n",
        "*   If you want to have more than one word in the name, the convention is to use underscore \"_\" in the name.\n",
        "  * there was a time when camelCase was also acceptable"
      ]
    },
    {
      "cell_type": "code",
      "metadata": {
        "id": "36kO7EE4MLte"
      },
      "source": [
        "# aNewVariable (no no no)\n",
        "a_new_variable = 10"
      ],
      "execution_count": null,
      "outputs": []
    },
    {
      "cell_type": "markdown",
      "metadata": {
        "id": "i9NV6jzUuE7z"
      },
      "source": [
        "#### 1.1.3.1 Variable types\n",
        "\n",
        "For your reference...\n",
        "\n",
        "**Data Types**\n",
        "1.   Numbers\n",
        "  * floating point\n",
        "  * integers\n",
        "  * complex numbers\n",
        "2.   strings\n",
        "3.  boolean values\n",
        "4.   lists and dicts\n",
        "5. NoneType\n",
        "\n",
        "In this section we will also introduce a built-in python function `type()`"
      ]
    },
    {
      "cell_type": "markdown",
      "metadata": {
        "id": "aGEAiD4-svZ8"
      },
      "source": [
        "Let's explore some common variable data types in Python. The first type to discuss is a **string**, which we've already seen before when we initialized `city_name`. Strings in Python are simply a collection of characters wrapped around quotes, and a string can represent any kind of info depending on how it's used, such as a person's name, a city name (like we just demonstrated), or a complete sentence. Here are some examples of string variables in Python below.\n",
        "\n",
        "**... we can also use single or double quotes**\n",
        "\n",
        "**... and triple quotes open whole blocks of string content**"
      ]
    },
    {
      "cell_type": "code",
      "metadata": {
        "colab": {
          "base_uri": "https://localhost:8080/",
          "height": 35
        },
        "id": "_Dq_h1abMYfo",
        "outputId": "5b7fe6ba-9235-4098-d9ad-1cf2928d1d94"
      },
      "source": [
        "'''\n",
        "here is a triple quote block\n",
        "sdf\n",
        "asdf\n",
        "\n",
        "as long as I want\n",
        "'''"
      ],
      "execution_count": null,
      "outputs": [
        {
          "output_type": "execute_result",
          "data": {
            "application/vnd.google.colaboratory.intrinsic+json": {
              "type": "string"
            },
            "text/plain": [
              "'\\nhere is a triple quote block\\nsdf\\nasdf\\n\\nas long as I want\\n'"
            ]
          },
          "metadata": {
            "tags": []
          },
          "execution_count": 26
        }
      ]
    },
    {
      "cell_type": "code",
      "metadata": {
        "colab": {
          "base_uri": "https://localhost:8080/",
          "height": 35
        },
        "id": "6iNB65U90G-x",
        "outputId": "ea7ebfd8-4db5-4bb4-9e92-55fa2a19ec97"
      },
      "source": [
        "'''\n",
        "here's a stirng block\n",
        " with triple singles\n",
        "'''"
      ],
      "execution_count": null,
      "outputs": [
        {
          "output_type": "execute_result",
          "data": {
            "application/vnd.google.colaboratory.intrinsic+json": {
              "type": "string"
            },
            "text/plain": [
              "\"\\nhere's a stirng block\\n with triple singles\\n\""
            ]
          },
          "metadata": {
            "tags": []
          },
          "execution_count": 9
        }
      ]
    },
    {
      "cell_type": "code",
      "metadata": {
        "colab": {
          "base_uri": "https://localhost:8080/",
          "height": 35
        },
        "id": "C9U8vPfN5bhL",
        "outputId": "54a9ff7a-bb6d-4364-9327-e8dafc4a2dd8"
      },
      "source": [
        "'single quotes'"
      ],
      "execution_count": null,
      "outputs": [
        {
          "output_type": "execute_result",
          "data": {
            "application/vnd.google.colaboratory.intrinsic+json": {
              "type": "string"
            },
            "text/plain": [
              "'single quotes'"
            ]
          },
          "metadata": {
            "tags": []
          },
          "execution_count": 27
        }
      ]
    },
    {
      "cell_type": "code",
      "metadata": {
        "colab": {
          "base_uri": "https://localhost:8080/",
          "height": 35
        },
        "id": "q3iDEqbz5e4d",
        "outputId": "78a8f363-de31-4dc0-a2c2-48e610814d29"
      },
      "source": [
        "\"double quotes\""
      ],
      "execution_count": null,
      "outputs": [
        {
          "output_type": "execute_result",
          "data": {
            "application/vnd.google.colaboratory.intrinsic+json": {
              "type": "string"
            },
            "text/plain": [
              "'double quotes'"
            ]
          },
          "metadata": {
            "tags": []
          },
          "execution_count": 28
        }
      ]
    },
    {
      "cell_type": "markdown",
      "metadata": {
        "id": "5vDeDfIZ5mHI"
      },
      "source": [
        "you have to use double quotes here..."
      ]
    },
    {
      "cell_type": "code",
      "metadata": {
        "colab": {
          "base_uri": "https://localhost:8080/",
          "height": 35
        },
        "id": "4UlSA-o05jkO",
        "outputId": "3e4dd179-0fa6-42a6-8883-e109197922c9"
      },
      "source": [
        "\"here's one with a single quote inside\""
      ],
      "execution_count": null,
      "outputs": [
        {
          "output_type": "execute_result",
          "data": {
            "application/vnd.google.colaboratory.intrinsic+json": {
              "type": "string"
            },
            "text/plain": [
              "\"here's one with a single quote inside\""
            ]
          },
          "metadata": {
            "tags": []
          },
          "execution_count": 30
        }
      ]
    },
    {
      "cell_type": "code",
      "metadata": {
        "colab": {
          "base_uri": "https://localhost:8080/",
          "height": 35
        },
        "id": "YSsg3r9H5pZ4",
        "outputId": "c68f6d03-741b-4a42-fb9d-d392ca1d29f5"
      },
      "source": [
        "\"\"\"\n",
        "heres \n",
        "a block with \n",
        "double triples\n",
        "\"\"\""
      ],
      "execution_count": null,
      "outputs": [
        {
          "output_type": "execute_result",
          "data": {
            "application/vnd.google.colaboratory.intrinsic+json": {
              "type": "string"
            },
            "text/plain": [
              "'\\nheres \\na block with \\ndouble triples\\n'"
            ]
          },
          "metadata": {
            "tags": []
          },
          "execution_count": 13
        }
      ]
    },
    {
      "cell_type": "code",
      "metadata": {
        "colab": {
          "base_uri": "https://localhost:8080/"
        },
        "id": "-QpDJx1W6EEL",
        "outputId": "c69bf853-54df-48f0-f9eb-e1b3740e55e6"
      },
      "source": [
        "type(\"heres a string... I think?!@?!?!\")"
      ],
      "execution_count": null,
      "outputs": [
        {
          "output_type": "execute_result",
          "data": {
            "text/plain": [
              "str"
            ]
          },
          "metadata": {
            "tags": []
          },
          "execution_count": 31
        }
      ]
    },
    {
      "cell_type": "code",
      "metadata": {
        "colab": {
          "base_uri": "https://localhost:8080/"
        },
        "id": "-1YOh3PgMrot",
        "outputId": "24d3b4ff-c347-4f37-87d5-d435b303faaf"
      },
      "source": [
        "type(\"here's my thing\")"
      ],
      "execution_count": null,
      "outputs": [
        {
          "output_type": "execute_result",
          "data": {
            "text/plain": [
              "str"
            ]
          },
          "metadata": {
            "tags": []
          },
          "execution_count": 32
        }
      ]
    },
    {
      "cell_type": "markdown",
      "metadata": {
        "id": "OmlSbPTf90vp"
      },
      "source": [
        "The other variable types we'll discuss for now are **integers** and **floats**. Consider the Integer type as data that can represent any positive whole number or negative whole number. Recall the `x` variable we assigned to 25 and then 150 earlier? That variable would be considered an integer in Python. Here are some other quick examples of Python integer variables."
      ]
    },
    {
      "cell_type": "code",
      "metadata": {
        "id": "n1ARG2zqA7e5"
      },
      "source": [
        "some_int = 5\n",
        "numbers_of_breakfasts_for_hobbits = 2"
      ],
      "execution_count": null,
      "outputs": []
    },
    {
      "cell_type": "code",
      "metadata": {
        "colab": {
          "base_uri": "https://localhost:8080/"
        },
        "id": "QfBtUqmd6Q_k",
        "outputId": "b9af48f9-6369-4881-bf42-847b93b75c88"
      },
      "source": [
        "# notice the usefullness of tab complete for long variable names!\n",
        "type(numbers_of_breakfasts_for_hobbits)"
      ],
      "execution_count": null,
      "outputs": [
        {
          "output_type": "execute_result",
          "data": {
            "text/plain": [
              "int"
            ]
          },
          "metadata": {
            "tags": []
          },
          "execution_count": 35
        }
      ]
    },
    {
      "cell_type": "code",
      "metadata": {
        "colab": {
          "base_uri": "https://localhost:8080/"
        },
        "id": "PgFVaHOH6UZp",
        "outputId": "0a104e94-14a9-4ec2-ea77-e407f2176483"
      },
      "source": [
        "print(\"what about second breakfast???\")"
      ],
      "execution_count": null,
      "outputs": [
        {
          "output_type": "stream",
          "text": [
            "what about second breakfast???\n"
          ],
          "name": "stdout"
        }
      ]
    },
    {
      "cell_type": "markdown",
      "metadata": {
        "id": "qzqHsVphB0il"
      },
      "source": [
        "A float in Python is considered any number with decimal point values. This is the main difference between a float and integer. For floats, some examples below show an arbitrary number of decimal places after the decimal point, and ones where a value less than 1 (such as one representing a percentage value) don't require specifying a `0` left of the decimal point."
      ]
    },
    {
      "cell_type": "code",
      "metadata": {
        "id": "5ByO4VbFFG0B"
      },
      "source": [
        "# what do we notice is different here?\n",
        "y = 21.0\n",
        "half = 0.5\n",
        "data_generated_by_deathstar = 2.08 #exabytes/year"
      ],
      "execution_count": null,
      "outputs": []
    },
    {
      "cell_type": "markdown",
      "metadata": {
        "id": "XhUw0Vsq7NgT"
      },
      "source": [
        "<small>[star wars source](#https://en.wikipedia.org/wiki/Technology_in_Star_Wars#Computers_and_other_artificial_intelligence)</small>"
      ]
    },
    {
      "cell_type": "code",
      "metadata": {
        "colab": {
          "base_uri": "https://localhost:8080/"
        },
        "id": "j772Y-V37TZm",
        "outputId": "0d2d53a1-14af-44c1-9ad5-4af2b631f85f"
      },
      "source": [
        "# let's try something...\n",
        "print(type(21.0))\n",
        "print(type(21))"
      ],
      "execution_count": null,
      "outputs": [
        {
          "output_type": "stream",
          "text": [
            "<class 'float'>\n",
            "<class 'int'>\n"
          ],
          "name": "stdout"
        }
      ]
    },
    {
      "cell_type": "markdown",
      "metadata": {
        "id": "fZK3gBcc7YQ7"
      },
      "source": [
        "We see that python auto-determines variable datatypes for us, in many cases!\n",
        "\n",
        "> ***Python is a programming language in which variables are dynamically typed, meaning we do not need to declare the specific type of the variable when we initialize it***. Because of this feature of Python, executing `x = 21` will automatically turn this variable into an integer by default due to its value of 21. Likewise, executing `x = 21.0` instead will make `x` the float type."
      ]
    },
    {
      "cell_type": "markdown",
      "metadata": {
        "id": "rsGHQZSzqbSS"
      },
      "source": [
        "#### Exercise 2: Create and change some variables\n",
        "\n",
        "Start by initializing a variable named `hundred` and assign it an *integer* value of 100 in the code cell below.\n",
        "\n",
        "THEN\n",
        "\n",
        "print the type of the stored variable"
      ]
    },
    {
      "cell_type": "code",
      "metadata": {
        "id": "H0kN8B7nJKw-",
        "colab": {
          "base_uri": "https://localhost:8080/"
        },
        "outputId": "764e625a-c569-4677-bae9-a35dd8e9f43b"
      },
      "source": [
        "# Cell for Exercise 2\n",
        "hundred = 100.\n",
        "print(type(hundred))"
      ],
      "execution_count": null,
      "outputs": [
        {
          "output_type": "stream",
          "text": [
            "<class 'float'>\n"
          ],
          "name": "stdout"
        }
      ]
    },
    {
      "cell_type": "markdown",
      "metadata": {
        "id": "-XegPJ7FXVXS"
      },
      "source": [
        "Now create another variable called `largest_computer_in_the_galaxy` and assign it the string value of `\"Deep Thought\"` in the code cell below.\n",
        "\n",
        "THEN\n",
        "\n",
        "print the stored variable"
      ]
    },
    {
      "cell_type": "code",
      "metadata": {
        "id": "kQZ474iMXzfg",
        "colab": {
          "base_uri": "https://localhost:8080/"
        },
        "outputId": "841e7092-c43b-4f9a-c4aa-005281228477"
      },
      "source": [
        "# Cell for Exercise 2\n",
        "largest_computer_in_the_galaxy = \"Deep Thought\"\n",
        "print(largest_computer_in_the_galaxy)"
      ],
      "execution_count": null,
      "outputs": [
        {
          "output_type": "stream",
          "text": [
            "Deep Thought\n"
          ],
          "name": "stdout"
        }
      ]
    },
    {
      "cell_type": "markdown",
      "metadata": {
        "id": "kykMX4fyaQSD"
      },
      "source": [
        "There are many more variable types to explore in Python, both ones built-in to Python and ones created by open-source libraries. The later sessions will cover more of these types, such as lists and DataFrames in session 2."
      ]
    },
    {
      "cell_type": "markdown",
      "metadata": {
        "id": "UHwvZ0WuxLPd"
      },
      "source": [
        "### 1.1.4 Math with Python (the moment I've been waiting for...)"
      ]
    },
    {
      "cell_type": "markdown",
      "metadata": {
        "id": "HYGrEJ-Dp9Fm"
      },
      "source": [
        "#### 1.1.4.1 Basic operators"
      ]
    },
    {
      "cell_type": "markdown",
      "metadata": {
        "id": "Jb8n2Xl_jQLr"
      },
      "source": [
        "Python allows users to performing mathematical operations fairly easily. As many tutorials will explain, you can use Python just like a calculator! The most basic operation, adding 1 with 1, is as follows, using the plus sign (`+`) for addition:"
      ]
    },
    {
      "cell_type": "code",
      "metadata": {
        "colab": {
          "base_uri": "https://localhost:8080/"
        },
        "id": "4B4-cH_ElHyS",
        "outputId": "f5225dcc-083b-4343-c074-4b8537a4698e"
      },
      "source": [
        "1 + 1"
      ],
      "execution_count": null,
      "outputs": [
        {
          "output_type": "execute_result",
          "data": {
            "text/plain": [
              "2"
            ]
          },
          "metadata": {
            "tags": []
          },
          "execution_count": 50
        }
      ]
    },
    {
      "cell_type": "markdown",
      "metadata": {
        "id": "QXmWFmTal4cO"
      },
      "source": [
        "Subtraction is done with the minus sign in Python (`-`) and also works as expected here:"
      ]
    },
    {
      "cell_type": "code",
      "metadata": {
        "colab": {
          "base_uri": "https://localhost:8080/"
        },
        "id": "2SPgHLcgl-td",
        "outputId": "c9ed5a5f-1b71-4e86-a8ec-1d3093d3e3d1"
      },
      "source": [
        "45 - 32"
      ],
      "execution_count": null,
      "outputs": [
        {
          "output_type": "execute_result",
          "data": {
            "text/plain": [
              "13"
            ]
          },
          "metadata": {
            "tags": []
          },
          "execution_count": 51
        }
      ]
    },
    {
      "cell_type": "markdown",
      "metadata": {
        "id": "QlIaCKzjmk8L"
      },
      "source": [
        "Multiplication is performed by the asterisk sign (`*`) in Python:"
      ]
    },
    {
      "cell_type": "code",
      "metadata": {
        "colab": {
          "base_uri": "https://localhost:8080/"
        },
        "id": "8OVgqvpImusg",
        "outputId": "d1659eb2-6742-4094-f46a-161450c1bad8"
      },
      "source": [
        "12 * 90"
      ],
      "execution_count": null,
      "outputs": [
        {
          "output_type": "execute_result",
          "data": {
            "text/plain": [
              "1080"
            ]
          },
          "metadata": {
            "tags": []
          },
          "execution_count": 52
        }
      ]
    },
    {
      "cell_type": "markdown",
      "metadata": {
        "id": "oZE3zLHwmZiB"
      },
      "source": [
        "You may combine as many arithmetic operators in one line as you need:"
      ]
    },
    {
      "cell_type": "code",
      "metadata": {
        "colab": {
          "base_uri": "https://localhost:8080/"
        },
        "id": "5b1coj7um4H_",
        "outputId": "58f341f2-e43e-4b08-e961-bb905126c4f9"
      },
      "source": [
        "8 + 5 * 14 - 7 + 14 * 3 - 10"
      ],
      "execution_count": null,
      "outputs": [
        {
          "output_type": "execute_result",
          "data": {
            "text/plain": [
              "103"
            ]
          },
          "metadata": {
            "tags": []
          },
          "execution_count": 53
        }
      ]
    },
    {
      "cell_type": "markdown",
      "metadata": {
        "id": "tSIC7_mFZOim"
      },
      "source": [
        "And based on the data type, you can peform the same mathematical operations for variables. Suppose `a = 12` and `b = 24` are already defined, we can multiply the two variables together by simply referring to their names and using Python's multiplication operator: `a * b`."
      ]
    },
    {
      "cell_type": "code",
      "metadata": {
        "colab": {
          "base_uri": "https://localhost:8080/"
        },
        "id": "5im2YxY7Zm3i",
        "outputId": "2817d4e8-438a-4b37-b0b3-906e408a7077"
      },
      "source": [
        "a = 12\n",
        "b = 24\n",
        "a * b"
      ],
      "execution_count": null,
      "outputs": [
        {
          "output_type": "execute_result",
          "data": {
            "text/plain": [
              "288"
            ]
          },
          "metadata": {
            "tags": []
          },
          "execution_count": 54
        }
      ]
    },
    {
      "cell_type": "markdown",
      "metadata": {
        "id": "ICnxDrtlqQjI"
      },
      "source": [
        "#### Exercise 3: Discover More Operators On Your Own!\n",
        "\n",
        "Beyond the three arithmetic operators we have just demonstrated for you, there are more in Python to discover. To start, try typing `14 / 4` in the empty code cell below:"
      ]
    },
    {
      "cell_type": "code",
      "metadata": {
        "id": "O4gajr4nq9hd",
        "colab": {
          "base_uri": "https://localhost:8080/"
        },
        "outputId": "64a4214e-af6c-43f8-ca9c-4ac0ae3db20a"
      },
      "source": [
        "# Cell for Exercise 3\n",
        "14 / 4"
      ],
      "execution_count": null,
      "outputs": [
        {
          "output_type": "execute_result",
          "data": {
            "text/plain": [
              "3.5"
            ]
          },
          "metadata": {
            "tags": []
          },
          "execution_count": 55
        }
      ]
    },
    {
      "cell_type": "markdown",
      "metadata": {
        "id": "uHG35IFyrCAF"
      },
      "source": [
        "Just by typing the computation and seeing the output on your own, you can quickly recognize that `/` is a division operator. Now try `14 % 4` in the empty code below. From the output, can you guess what the `%` sign in Python accomplishes here?"
      ]
    },
    {
      "cell_type": "code",
      "metadata": {
        "id": "kekjRYDXrnlo",
        "colab": {
          "base_uri": "https://localhost:8080/"
        },
        "outputId": "bdde45d5-8fa1-4841-e4b5-136bfaa95dd9"
      },
      "source": [
        "# Cell for Exercise 3\n",
        "14 % 4"
      ],
      "execution_count": null,
      "outputs": [
        {
          "output_type": "execute_result",
          "data": {
            "text/plain": [
              "2"
            ]
          },
          "metadata": {
            "tags": []
          },
          "execution_count": 58
        }
      ]
    },
    {
      "cell_type": "markdown",
      "metadata": {
        "id": "TSwfSd-JnDFh"
      },
      "source": [
        "#### Exercise 4: Order of Operations\n",
        "\n"
      ]
    },
    {
      "cell_type": "markdown",
      "metadata": {
        "id": "m7qQN6SwnQoL"
      },
      "source": [
        "Be aware that order or operations apply for programming as well, and Python is no exception. Python follows operator precedence, specifically **PEMDAS** - any operations in parentheses (**P**) take precedence, followed by exponents (**E**), multiplication (**M**) & division (**D**), and then addition (**A**) & subtraction (**S**). Run the following code:"
      ]
    },
    {
      "cell_type": "code",
      "metadata": {
        "colab": {
          "base_uri": "https://localhost:8080/"
        },
        "id": "ugXpDOBPo5ze",
        "outputId": "66b10018-18c6-403a-fd1c-1973741c884e"
      },
      "source": [
        "4 * 3 + 4"
      ],
      "execution_count": null,
      "outputs": [
        {
          "output_type": "execute_result",
          "data": {
            "text/plain": [
              "16"
            ]
          },
          "metadata": {
            "tags": []
          },
          "execution_count": 59
        }
      ]
    },
    {
      "cell_type": "markdown",
      "metadata": {
        "id": "ZpvDtrYFo9tF"
      },
      "source": [
        "While that was straightforward, let's modify it to wrap parentheses around `3 + 4`. When you execute the code cell below, what output do you receive now?"
      ]
    },
    {
      "cell_type": "code",
      "metadata": {
        "colab": {
          "base_uri": "https://localhost:8080/"
        },
        "id": "YPWAAyFJpHRj",
        "outputId": "6a5b74b5-736b-482b-e467-c2e4cfd11d94"
      },
      "source": [
        "4 * (3 + 4)"
      ],
      "execution_count": null,
      "outputs": [
        {
          "output_type": "execute_result",
          "data": {
            "text/plain": [
              "28"
            ]
          },
          "metadata": {
            "tags": []
          },
          "execution_count": 60
        }
      ]
    },
    {
      "cell_type": "markdown",
      "metadata": {
        "id": "bNrcABwOyErM"
      },
      "source": [
        "#### 1.1.4.2 **Enrichment**: The difference between 5, 5.0, and \"5\"\n",
        "\n",
        "While more complex computations are possible beyond the basics that we just covered, you should first understand how mixing variable types can lead to errors and unexpected output. Consider two variables, `num1 = 5` and `num2 = 5.0`. From what you learned in section 1.1.3, `num1` represents an integer, while `num2` represents a float."
      ]
    },
    {
      "cell_type": "code",
      "metadata": {
        "id": "35Ox6koJbtlN"
      },
      "source": [
        "num1 = 5\n",
        "num2 = 5.0"
      ],
      "execution_count": null,
      "outputs": []
    },
    {
      "cell_type": "markdown",
      "metadata": {
        "id": "UEoNUPotcL6o"
      },
      "source": [
        "For this example, what happens when we add `num1` and `num2` together in Python, as in, run the code `num1 + num2`?"
      ]
    },
    {
      "cell_type": "code",
      "metadata": {
        "colab": {
          "base_uri": "https://localhost:8080/"
        },
        "id": "n9UoBoGHcbKp",
        "outputId": "91adc494-e93a-4fb5-978c-56e459a61909"
      },
      "source": [
        "num1 + num2"
      ],
      "execution_count": null,
      "outputs": [
        {
          "output_type": "execute_result",
          "data": {
            "text/plain": [
              "10.0"
            ]
          },
          "metadata": {
            "tags": []
          },
          "execution_count": 62
        }
      ]
    },
    {
      "cell_type": "markdown",
      "metadata": {
        "id": "EXmqyc8dcobd"
      },
      "source": [
        "As you see from the output of that operation, the result is 10.0, which is a float. **_What this means is that for any operation that uses a float type in Python, the default type of the result will also be a float_**. In this example, mixing an integer (`num1`) and float (`num2`) together by addition resulted in 10.0 and not 10, even if the sum is a whole number. Although mixing the two data types did not cause a runtime error, you should recognize this behavior in the near future, when such computations result in output that you may not expect - and possibly lead you to some functionality that causes an error elsewhere.\n",
        "\n",
        "Finally, let's discuss a third variable, called `num3`, and let's assign it a value of `\"5\"`."
      ]
    },
    {
      "cell_type": "code",
      "metadata": {
        "id": "3U1EogFPeC1v"
      },
      "source": [
        "num3 = \"5\""
      ],
      "execution_count": null,
      "outputs": []
    },
    {
      "cell_type": "markdown",
      "metadata": {
        "id": "5mP7TgAzeEgD"
      },
      "source": [
        "If we try adding `num1` with `num3`, or 5 + \"5\", what is our output now from the code `num1 + num3`?"
      ]
    },
    {
      "cell_type": "code",
      "metadata": {
        "id": "eHnGROTXefmU"
      },
      "source": [
        "# num1 + num3"
      ],
      "execution_count": null,
      "outputs": []
    },
    {
      "cell_type": "markdown",
      "metadata": {
        "id": "Vwo1AIKmejfK"
      },
      "source": [
        "The output is neither a 10 or a 10.0 - instead, we receive a TypeError. **_Python does not allow you to perform mathematical operations with an integer and string together_**. Because `num1` is an integer, and `num3` is a string type - given the double quotes around 5 - adding the two together in Python results in this TypeError, even if the string represents a numeric character.\n",
        "\n",
        "The same goes for combining floats with strings: is our output from the code `num2` (float) and `num3` (string) any different?"
      ]
    },
    {
      "cell_type": "code",
      "metadata": {
        "id": "e-F4u2-wfez_"
      },
      "source": [
        "# num2 + num3"
      ],
      "execution_count": null,
      "outputs": []
    },
    {
      "cell_type": "markdown",
      "metadata": {
        "id": "RUizK1mwfgov"
      },
      "source": [
        "Nope! Same TypeError results here. One workaround/solution for this is converting the `num3` string variable into either a float or a integer, using Python's built-in `float()` and `int()` functions respectively. Let's try adding `num1` and `num3` again, only this time using `int()` to convert `num3` into an integer type, running the full line of code as `num1 + int(num3)`."
      ]
    },
    {
      "cell_type": "code",
      "metadata": {
        "colab": {
          "base_uri": "https://localhost:8080/"
        },
        "id": "ZqAR-cgIgN6O",
        "outputId": "d8e8cdeb-ee2a-4183-b25c-9fd354339350"
      },
      "source": [
        "num1 + int(num3)"
      ],
      "execution_count": null,
      "outputs": [
        {
          "output_type": "execute_result",
          "data": {
            "text/plain": [
              "10"
            ]
          },
          "metadata": {
            "tags": []
          },
          "execution_count": 66
        }
      ]
    },
    {
      "cell_type": "markdown",
      "metadata": {
        "id": "kU4U-xytgSiN"
      },
      "source": [
        "This time, we get no TypeError - the output is 10! Without diving too much further into the intricacies of these conversion functions - the concept of functions themselves will be covered in more detail tomorrow! - just be aware that this example only works because the string represented by `num3` was a valid convertible string (\"5\") to begin with. In other words, if `num3` was \"Five\" instead of \"5\", we would not be able to execute `int(num3)` without getting an error."
      ]
    },
    {
      "cell_type": "code",
      "metadata": {
        "id": "HZFMCJuxhjkp"
      },
      "source": [
        "# num3 = \"Five\"\n",
        "# int(num3)"
      ],
      "execution_count": null,
      "outputs": []
    },
    {
      "cell_type": "markdown",
      "metadata": {
        "id": "JJBoSOndHI5B"
      },
      "source": [
        "### 1.1.5 Code comments with '#'"
      ]
    },
    {
      "cell_type": "markdown",
      "metadata": {
        "id": "Dbq4xN9bIrhv"
      },
      "source": [
        "Comments are notes in your code, and can serve many purposes, such as:\n",
        "- Describing the functionality of some code \n",
        "- A reminder to fix an existing issue\n",
        "- Clarify details of some code for yourself and/or others\n",
        "\n",
        "**_You can create a comment by using '#', and when the Python interpreter sees this syntax, it doesn't run that as code and recognizes it as a comment instead_**. For example, for a mathematical operation, let's add a comment at the end of the line to describe what this performs:"
      ]
    },
    {
      "cell_type": "code",
      "metadata": {
        "colab": {
          "base_uri": "https://localhost:8080/"
        },
        "id": "sh_X96DbJBpe",
        "outputId": "54fb5d61-6a9d-432b-8db9-bd72a9503063"
      },
      "source": [
        "2 + 5  # Adds 2 to 5, so we get 7"
      ],
      "execution_count": null,
      "outputs": [
        {
          "output_type": "execute_result",
          "data": {
            "text/plain": [
              "7"
            ]
          },
          "metadata": {
            "tags": []
          },
          "execution_count": 67
        }
      ]
    },
    {
      "cell_type": "markdown",
      "metadata": {
        "id": "PKzXxiUfJScB"
      },
      "source": [
        "In this case, the `# Adds 2 to 5, so we get 7` part of the previous line of code was a comment appended to the end of the Python code, `2 + 5`. By adding that '#' character, Python knows everything after that character is a comment. Additionally, you can write comments on their own line(s) of code: "
      ]
    },
    {
      "cell_type": "code",
      "metadata": {
        "colab": {
          "base_uri": "https://localhost:8080/"
        },
        "id": "lYDOv-wmKbb_",
        "outputId": "7180eee3-b0db-4276-9adc-8a086e329dfc"
      },
      "source": [
        "# Adds 2 to 5, so we get 7\n",
        "2 + 5"
      ],
      "execution_count": null,
      "outputs": [
        {
          "output_type": "execute_result",
          "data": {
            "text/plain": [
              "7"
            ]
          },
          "metadata": {
            "tags": []
          },
          "execution_count": 69
        }
      ]
    },
    {
      "cell_type": "markdown",
      "metadata": {
        "id": "8lLWjpXoK1Tg"
      },
      "source": [
        "You may use this syntax for code that you may not want to execute, but still save for future reference or revision. To do this, you can simply add '#' at the very beginning of the line you wish to comment. In the following example, I've turned the first line of the code in this cell into a comment so it won't run:"
      ]
    },
    {
      "cell_type": "code",
      "metadata": {
        "colab": {
          "base_uri": "https://localhost:8080/"
        },
        "id": "HTCjhO2eLQiX",
        "outputId": "3fa994ff-c51a-4a98-fce4-df9f9418b7ca"
      },
      "source": [
        "# print(\"I commented out this line of code so you won't see this statement printed\")\n",
        "print(\"There should be one line printed from this cell, and should be this one.\")"
      ],
      "execution_count": null,
      "outputs": [
        {
          "output_type": "stream",
          "text": [
            "There should be one line printed from this cell, and should be this one.\n"
          ],
          "name": "stdout"
        }
      ]
    },
    {
      "cell_type": "markdown",
      "metadata": {
        "id": "wcf9cCQt-_8B"
      },
      "source": [
        "> we can toggle comments with `ctrl` + `/`"
      ]
    },
    {
      "cell_type": "markdown",
      "metadata": {
        "id": "v-bNrZ9ZxO8J"
      },
      "source": [
        "#### Exercise 5: Add a comment to a line of code"
      ]
    },
    {
      "cell_type": "markdown",
      "metadata": {
        "id": "ZcJM9ESHe4Fc"
      },
      "source": [
        "Let's write a comment that explains the following line of code, `25 % 7`."
      ]
    },
    {
      "cell_type": "code",
      "metadata": {
        "colab": {
          "base_uri": "https://localhost:8080/"
        },
        "id": "sDHU8setfOot",
        "outputId": "f6ca4139-8c67-4f8c-eb1e-c5f1e7552139"
      },
      "source": [
        "# returns the remainder of the largest whole number division\n",
        "# by 7 into 25\n",
        "25 % 7"
      ],
      "execution_count": null,
      "outputs": [
        {
          "output_type": "execute_result",
          "data": {
            "text/plain": [
              "4"
            ]
          },
          "metadata": {
            "tags": []
          },
          "execution_count": 41
        }
      ]
    },
    {
      "cell_type": "markdown",
      "metadata": {
        "id": "p1s8OPWqfYfv"
      },
      "source": [
        "Comments in your code are optional, but are recommended to help better inform readers of your code. Building a habit of writing comments may even help you understand and better explain your own code too!  "
      ]
    },
    {
      "cell_type": "markdown",
      "metadata": {
        "id": "_dWpBFg1TWQi"
      },
      "source": [
        "### 1.1.6 Where can you run Python?\n",
        "\n",
        "\n",
        "\n"
      ]
    },
    {
      "cell_type": "markdown",
      "metadata": {
        "id": "uZiljFyuh0eG"
      },
      "source": [
        "Because of its flexibility as a programming language, Python can be utilized in many different ways. Here are just a few:\n",
        "\n",
        "- Line by line in a Python interpreter in a command line Terminal window\n",
        "  - windows: `windows subsystem for linux`\n",
        "  - mac os: `terminal`\n",
        "- As a script that you execute from the command line\n",
        "- Using Python to create a full GUI (Graphical User Interface) that runs on your desktop computer\n",
        "- Executing Python directly from an IDE (Integrated Development Environment) such as [PyCharm](https://www.jetbrains.com/pycharm/), [Atom](https://atom.io/), or [Visual Studio Code](https://code.visualstudio.com)\n",
        "- Executing Python code with an app that has a built-in Python interpreter, such as [Pythonista](http://omz-software.com/pythonista/)\n",
        "- Developing and running Python code in interactive notebooks like Jupyter Notebook/Hub/Lab\n",
        "- Executing Python on a cloud platform \\- such as here in this Jupyter Hub ([Google Colab](https://colab.research.google.com/notebooks/intro.ipynb#recent=true) is another free resource)\n",
        "\n",
        "You don't need to understand every example that was just listed. Instead, the point is for us to recognize how ubiquitous Python has become. We're about to focus on the last two items on this list in the very next section!"
      ]
    },
    {
      "cell_type": "markdown",
      "metadata": {
        "id": "OWiIHY9Z6HCy"
      },
      "source": [
        "There's much more to learn with Python! So far, we've only introduced a small fraction of *what's possible* with this language and, more generally speaking, coding."
      ]
    },
    {
      "cell_type": "markdown",
      "metadata": {
        "id": "wTy1SsQjaaU0"
      },
      "source": [
        "## 1.2 Executing Python and runtime environments"
      ]
    },
    {
      "cell_type": "markdown",
      "metadata": {
        "id": "TeeWIVytrcO-"
      },
      "source": [
        "### 1.2.1 Using interactive notebooks \n",
        "\n",
        "After just having discussed the many ways you can deploy and develop Python, we'll focus on the one way that will be used for our sessions this week: interactive Python notebooks. Such notebooks - like the one you're viewing right now - are self-contained collections of interactive cells that can be modified and presented like a scientific notebook. **_By allowing us to combine code with formattable text, images, and interactive data visualizations, this gives us a great way to share and collaborate with others on our work._**\n",
        "\n",
        "We'll next explore the proper interactive Python notebook type that you'll get quite familiar with during this series: Jupyter Notebooks."
      ]
    },
    {
      "cell_type": "markdown",
      "metadata": {
        "id": "cpv4Oqqv0Gy3"
      },
      "source": [
        "### 1.2.2 Jupyter Notebooks\n",
        "\n",
        "Jupyter Notebooks is based on IPython, or Interactive Python. In fact, Jupyter notebooks were formerly known as IPython notebooks. Discussing the underlying IPython kernel which powers these notebooks is beyond the scope of this session; however, it's important to, at least, recognize where the *.ipynb* filename extension comes from."
      ]
    },
    {
      "cell_type": "markdown",
      "metadata": {
        "id": "HKXTJHtX1csI"
      },
      "source": [
        "With Jupyter Notebooks, we can utilize the Python language right in a single self-contained environment of code, such as initializing and managing **variables**:"
      ]
    },
    {
      "cell_type": "code",
      "metadata": {
        "colab": {
          "base_uri": "https://localhost:8080/"
        },
        "id": "zcdXbaOz1ajb",
        "outputId": "d39f06e4-7c5c-4944-8655-f7adcb67ac53"
      },
      "source": [
        "var1 = \"A\"\n",
        "var2 = \"B\"\n",
        "var3 = [\"A\", \"B\", \"C\"]\n",
        "type(var3)"
      ],
      "execution_count": null,
      "outputs": [
        {
          "output_type": "execute_result",
          "data": {
            "text/plain": [
              "list"
            ]
          },
          "metadata": {
            "tags": []
          },
          "execution_count": 73
        }
      ]
    },
    {
      "cell_type": "markdown",
      "metadata": {
        "id": "-wvmpsFH1-ZJ"
      },
      "source": [
        "We can also write **functions** that can be used later on in a notebook:"
      ]
    },
    {
      "cell_type": "code",
      "metadata": {
        "colab": {
          "base_uri": "https://localhost:8080/"
        },
        "id": "k1T8OfLD2FQi",
        "outputId": "e9ef052a-3341-45cb-bcf3-d554476c074f"
      },
      "source": [
        "# we were using built-in fucntions before.\n",
        "# but we can also define our own!\n",
        "\n",
        "def some_function(x, y):\n",
        "    return x**2/y**2\n",
        "\n",
        "print(some_function(7,12))"
      ],
      "execution_count": null,
      "outputs": [
        {
          "output_type": "stream",
          "text": [
            "0.3402777777777778\n"
          ],
          "name": "stdout"
        }
      ]
    },
    {
      "cell_type": "markdown",
      "metadata": {
        "id": "aGrQSJxV20Bm"
      },
      "source": [
        "Visualizations - such as scatterplots, heatmaps, and charts - can also be generated directly inside of a Jupyter notebook as a cell output, and can be saved as a separate image file. This also makes notebooks useful to generate both visual representations of data and interactive reports on that same data. We'll be covering visualizations in Session 4."
      ]
    },
    {
      "cell_type": "code",
      "metadata": {
        "colab": {
          "base_uri": "https://localhost:8080/",
          "height": 281
        },
        "id": "gaAMvoAg3vbN",
        "outputId": "a6c251c8-6dca-4fa7-e710-318193facb22"
      },
      "source": [
        "from sklearn.datasets import make_blobs\n",
        "import matplotlib.pyplot as plt\n",
        "\n",
        "x, y = make_blobs(n_samples=500, n_features = 3, centers=3)\n",
        "plt.scatter(x[:,0], x[:, 1], marker='o', c=y, s=10)\n",
        "plt.title(\"Example visualization\")\n",
        "plt.show()"
      ],
      "execution_count": null,
      "outputs": [
        {
          "output_type": "display_data",
          "data": {
            "image/png": "[encoded data removed]",
            "text/plain": [
              "<Figure size 432x288 with 1 Axes>"
            ]
          },
          "metadata": {
            "tags": [],
            "needs_background": "light"
          }
        }
      ]
    },
    {
      "cell_type": "markdown",
      "metadata": {
        "id": "xViGkiU6-MeK"
      },
      "source": [
        "We certainly recognize that much of the code you have just seen may be unfamiliar to you, but these are all simply previews of what we'll be covering for this week! Here are some examples of how Jupyter Notebooks can be utilized:\n",
        "\n",
        "- Reports on data analyses\n",
        "- Data visualizations\n",
        "- Interactive dashboards"
      ]
    },
    {
      "cell_type": "markdown",
      "metadata": {
        "id": "tSqJdGHpbIee"
      },
      "source": [
        "### 1.2.3 Code cells vs markdown cells"
      ]
    },
    {
      "cell_type": "markdown",
      "metadata": {
        "id": "KthV9_Ghb8A-"
      },
      "source": [
        "There are two main types of generated cells in Jupyter notebooks: code cells and markdown cells. You've seen both at this point. Right now, you're looking a markdown cell that's been created already by a different user. Think of a cell as just a single entity of your larger work inside of a notebook. Let's start with taking a look at code cells.\n"
      ]
    },
    {
      "cell_type": "code",
      "metadata": {
        "id": "KgSui70LUi8B"
      },
      "source": [
        "a = 25\n",
        "b = \"some string\""
      ],
      "execution_count": null,
      "outputs": []
    },
    {
      "cell_type": "markdown",
      "metadata": {
        "id": "KZ01p56Z-Flp"
      },
      "source": [
        "#### 1.2.3.1 Code cells"
      ]
    },
    {
      "cell_type": "markdown",
      "metadata": {
        "id": "8N_N5elcozzb"
      },
      "source": [
        "For writing and executing Python in a notebook, we use code cells. It may sound almost too self-explanatory, and you've already tried out code cells in the exercises from 1.1. To add a new code cell, you can either go to the **Insert** menu and selecting **Code cell**:"
      ]
    },
    {
      "cell_type": "markdown",
      "metadata": {
        "id": "XG6ExtnkpqfV"
      },
      "source": [
        "![Screen Shot 2020-11-29 at 5.08.58 PM.png](data:image/png;base64,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)"
      ]
    },
    {
      "cell_type": "markdown",
      "metadata": {
        "id": "N_KLLedfpx0l"
      },
      "source": [
        "Or by hovering your mouse over to the bottom of a cell and select **\\+ Code**:"
      ]
    },
    {
      "cell_type": "markdown",
      "metadata": {
        "id": "Ru9kPs5zp5EP"
      },
      "source": [
        "![Screen Shot 2020-11-29 at 5.08.27 PM.png](data:image/png;base64,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)"
      ]
    },
    {
      "cell_type": "markdown",
      "metadata": {
        "id": "ejDqDP9NBgFe"
      },
      "source": [
        "And lastly. For code blocks, we can simply hit `esc` + `a` to enter a code block above or `esc` + `b` to enter a code block below."
      ]
    },
    {
      "cell_type": "markdown",
      "metadata": {
        "id": "ohrLXQqGBoAN"
      },
      "source": [
        "Just kidding one last note... we can delete a block by holding `ctrl` + `m` + `d`"
      ]
    },
    {
      "cell_type": "markdown",
      "metadata": {
        "id": "Py-RuqHDqdtF"
      },
      "source": [
        "#### Exercise 6: Edit A Code Cell\n",
        "\n",
        "So far in this session, you've been creating entirely new code cells to write and execute a few exercises. Now, let's edit an existing cell of Python code. Below, we had our ~~obligatory~~ first exercise that printed \"Hello World!\" as the output. However, the code below, `print(\"Hello World!\"` causes an error, and does not output \"Hello World!\" as we initially expected. What do we need at the very end of the line in order for the print statement to run successfully?\n",
        "\n",
        "Note: I also want you to uncomment the following cell block! (how do we do that?)"
      ]
    },
    {
      "cell_type": "code",
      "metadata": {
        "id": "5vMzAjUoq4_x",
        "colab": {
          "base_uri": "https://localhost:8080/"
        },
        "outputId": "c841737c-4159-42fe-8044-f1d22e159f03"
      },
      "source": [
        "print(\"Hello World!\")"
      ],
      "execution_count": null,
      "outputs": [
        {
          "output_type": "stream",
          "text": [
            "Hello World!\n"
          ],
          "name": "stdout"
        }
      ]
    },
    {
      "cell_type": "markdown",
      "metadata": {
        "id": "zNVD2oXFqB_i"
      },
      "source": [
        "Code cells exemplify one possible benefit of running your code in a notebook rather than in a single Python script (.py) file; you can create separate code cells and execute each portion your code separately and as needed. That also means being able to troubleshoot certain lines of code without having to rerun your entire work every time. "
      ]
    },
    {
      "cell_type": "markdown",
      "metadata": {
        "id": "ZuXu5WcntREE"
      },
      "source": [
        "#### 1.2.3.2 Markdown/Text cells"
      ]
    },
    {
      "cell_type": "markdown",
      "metadata": {
        "id": "8_4cK0Y8lpRK"
      },
      "source": [
        "As the name suggests, a text cell is meant for information and instructions, rather than executing code for assigning variables, importing datasets, or generating plots. One benefit of adding text cells is to help explain code or functionality to viewers of a notebook. You can add a text cell either by going to the **Insert** menu and selecting **Text cell**:\n",
        "\n",
        "![Screen Shot 2020-11-29 at 5.08.58 PM.png](data:image/png;base64,iVBORw0KGgoAAAANSUhEUgAAALIAAACJCAYAAACIN2IGAAABRmlDQ1BJQ0MgUHJvZmlsZQAAKJFjYGASSSwoyGFhYGDIzSspCnJ3UoiIjFJgf8LAzSDLIMDAyKCZmFxc4BgQ4ANUwgCjUcG3a0B1QHBZF2SWwsyI6qCIh3/eH26pV0jd8xRTPQrgSkktTgbSf4A4NbmgqISBgTEFyFYuLykAsTuAbJEioKOA7DkgdjqEvQHEToKwj4DVhAQ5A9k3gGyB5IxEoBmML4BsnSQk8XQkNtReEOAOdjUyNzT30PeIIOBaMkBJakUJiHbOL6gsykzPKFFwBIZSqoJnXrKejoKRgZEBAwMozCGqP98AhyWjGAdCrPgEA4MNEDO1IsRi7jAwbJ3OwCD8HiGmZsTAwLuQgWHPzoLEokS4Axi/sRSnGRtB2NzbGRhYp/3//zmcgYFdk4Hh7/X//39v////7zIGBuZbDAwHvgEATJViGJIk7VIAAABiZVhJZk1NACoAAAAIAAIBEgADAAAAAQABAACHaQAEAAAAAQAAACYAAAAAAAOShgAHAAAAEgAAAFCgAgAEAAAAAQAAALKgAwAEAAAAAQAAAIkAAAAAQVNDSUkAAABTY3JlZW5zaG90GW6LyQAAAj1pVFh0WE1MOmNvbS5hZG9iZS54bXAAAAAAADx4OnhtcG1ldGEgeG1sbnM6eD0iYWRvYmU6bnM6bWV0YS8iIHg6eG1wdGs9IlhNUCBDb3JlIDUuNC4wIj4KICAgPHJkZjpSREYgeG1sbnM6cmRmPSJodHRwOi8vd3d3LnczLm9yZy8xOTk5LzAyLzIyLXJkZi1zeW50YXgtbnMjIj4KICAgICAgPHJkZjpEZXNjcmlwdGlvbiByZGY6YWJvdXQ9IiIKICAgICAgICAgICAgeG1sbnM6ZXhpZj0iaHR0cDovL25zLmFkb2JlLmNvbS9leGlmLzEuMC8iCiAgICAgICAgICAgIHhtbG5zOnRpZmY9Imh0dHA6Ly9ucy5hZG9iZS5jb20vdGlmZi8xLjAvIj4KICAgICAgICAgPGV4aWY6VXNlckNvbW1lbnQ+U2NyZWVuc2hvdDwvZXhpZjpVc2VyQ29tbWVudD4KICAgICAgICAgPGV4aWY6UGl4ZWxYRGltZW5zaW9uPjE3ODwvZXhpZjpQaXhlbFhEaW1lbnNpb24+CiAgICAgICAgIDxleGlmOlBpeGVsWURpbWVuc2lvbj4xMzc8L2V4aWY6UGl4ZWxZRGltZW5zaW9uPgogICAgICAgICA8dGlmZjpPcmllbnRhdGlvbj4xPC90aWZmOk9yaWVudGF0aW9uPgogICAgICA8L3JkZjpEZXNjcmlwdGlvbj4KICAgPC9yZGY6UkRGPgo8L3g6eG1wbWV0YT4KCOC55gAAGT1JREFUeAHtnQnUTdX7x3eJUhkSSmQoQpopQyliyawQRYZKobVokFJSfqQ0sGqVqUIkU0WZIhWiSUIilJSKIs2jVOe/P8/vt+//vPcM9x3u+7733Lufte49w95n72c/+3v2fvY+Z3/PIQfLlXOUFWuBiFvg0Ijrb9W3FhALWCBbIKSFBSyQ06IabSEOizfBy5MnK8dx5Ldnz5744Egen3DCCeqQQw5Rhx56qGwjWYgMVxpMtrzmmkAreIBctGhRicyFhx9+uKpatWrgxVEI+Pzzz6UcgNgAGVBbiYYFTKP677//hirsAXLx4sVVkSJF5KLff/9dHXPMMaEJpHrgDz/8oEqUKKEOO+wwKZcBc6rrbfX7rwUA8t9//63++uuvUJN4gEylFytWTFyLAwcOqLJly4YmkOqB33//vSpVqpS0yoDZtMyprrfV778WAMiAmEY1TDxApkXmh/z555+Rb5FLliyp+B1xxBEKt4neBjBbiYYFcCnAYSLxAJnWGN+YO4HKN6BOlFCqhlMGysOWslkgp2pN+ev1zz//SEAiMHuAzEDIjPCpdOMv+2eT+mdNGWiF3fupr7nV0FggO+MaD5DNxYm23Cl79+5Vxx57rLR4ieKnavjBgwfVt99+G1MPf/qoo46KHefHzv79+8XvY1owFeSPP/5QDIqDJK82wT0YMGCAuuKKK1Tjxo2DssnT+Vw7i5999plq2LChWrVqVZ4UyO3F69atU2+99VauLsdtMvLuu+9KOSgLvzPPPFN169ZNzZgxw0TJ83bBggUKexkZNGiQuvbaa81hoW+ff/75LDYwtjDbmTNn5klH7L1o0SLFVGh+Sa5b5PxSKLvpPvXUU4oZiUaNGmX3ktB4TzzxhKpTp47atWuXouKGDh0qg8T27duHXpcokEqkNRo5cqSqVq2aRB82bJhiRihVpGPHjqpp06aizpYtW9T111+vHnvsMXXOOefIuShMwSYNyO+884568803xSDz5s2TGYLLL79cnXrqqWIMKpTWb+nSpTKne8kll6h69erFnrR98sknipYLIJ177rnSKuLT/vTTT+rRRx9VDRo0UCtWrJD0uLM/+ugjGc2OGDFCDRw4UJUuXTpPuChfvryqVKmS/M466yz12muvqTVr1iiAPGnSJDnfpk0byYPW9ZlnnlH9+/eXAST6tWvXTq7ZvXu3atmypWrWrJnatm2bwhbIkiVLxJ3o06ePWr9+vQCZGwe70bNgi8WLF0tc8jz99NPV9OnT1ccffyzdcatWrdTRRx8t4fy9+uqr8sN/JD72ya3gShl3yrhZxh7uNJcvXy49MNNhTZo0Ua1bt3YHq0ThJnIiLJh4Odnm2rWIz+SDDz6Qu5iK+vHHH9XKlSsVFY8/iFApdNkYCtB27txZLVy4UMK2bt2qLr30UqlI/LXhw4er2267TcJ+/fVXNVk/Nr/uuuvUxo0bBQAYEmPww8dlm0xhhMwkvLk55s+fr954441YFl9//bXohF9p9OvSpYvCBvv27VN9+/ZVs2bNkvjoh5Ce2ecmMaClTNwIt99+u5SNfHr16iU3xssvv6ywB70DN6yRiRMnKuyMHlx/5ZVXCqhNeH5saaHJc/PmzYpWm5v4vvvui2WVKDwWUe+EYcEdL0f7vI/s/n366aeONpDzzTffOFphjRF/0WB0Kleu7CxbtkwiaOM6+nG2s2nTJjnWA0GnSpUqzpw5c+RYt1KObqFjid11110OP0SD2tEttKMHBXJMWlyr3/VwvvrqK8nn/vvvlzDzp8GSJT1zPn5LGfTN4/zyyy+OvgEcPUiN5UPc1atXS/pPP/20o1tgR/vGTocOHRztBjgaJJIcuukbK5a07nnkmu3bt8f0e+CBB2LhlKdHjx5yTJmw07Rp02Lhuut2unbtKscTJkxwTjrpJOfLL7+UY90jSfy2bdvG4t97772O9t0dfTM4xq4a/LFw4l522WWx47zs6N5C8n/77bdjyeheRs5p4MbO6RtLbKR7RydROHpjAw1guT4MC7EM/rfDtdTdF198kQWnbsyynzTXgruHJ2d0iQhdEzMauAoIXe24ceOkZdWGV0OGDJHujJZKg1/VrFlTjR49WuLSqulyqJ07dyp9c8g5ut78lP/85z/yoITZGFyaF154QQZ+2c3T+JPEx52iR8quYDfcGkRXuDyEuuiii2KXk55p/Tds2CC2wb3SN7fEYbp0x44dsfjJ3iFPBPfGiL7ZFeMU6s48YAoKN2Uz1wZhwYTnZps018Ivc/fLObfeeqt6/PHHxSfGbahbt674jbghdOUMfnSrJD/2cUvcPqFf+sk8B3ABw/jx48UFYGqxsMRtN3RwH+NOINjN2AuguIEvEZL4Z9xDbjIj5tUFXKtE4eYasw3CggnPzTapLXKQAviG+EUMSJgd+O2335TuepXujmXwwECDlhcQGTEtI4OnghRaFQZ79A7NmzeXXgb9vvvuu5ga6FZYYnoo7UqIH40e9F788ktMnmbwSz5m6pMe2NgmKNytVxgW4geP7usS7RcIkHnHgXnZuXPnKu3vyQMU7ffIyzwoyECJcAY9FAYjMaBh7jFIjjvuOBn9M1CsXr26zJIExc3pedweJu/RqXfv3jJCRx8GaYDaPchJlDatably5RTz3twYeX0IwtwuLeOYMWMEvJQd3XjoQI+XH3L++ecr7cersWPHSvLcNNQVLk+tWrXkXKJwo1ciLJh4Od3m2bVwd3vGV/JTgikswpmS69SpkwKItMgII3ZmMRj5Utlsb775ZvGxTVrufDjHLAeVx1SX+2GDiZ/TrVt3wML0EpWF20Prh4/OzEn37t1jL1K5r3Hrx777mJuB6Td6IcQdxrE7HY7jxcQnHu+NMIvDi1DMT3Pj4xLdcsst8Zfl6ditEz48eTKLQ5480MGd0QNY6bEShRtFTDnCsGDi5nR7CCM+90Vf6HnNI488UoxNl2Hmgd1x8rKPW8Fgipd44oWBH/PGDBKzI9mJz3wzA0/z8hB5Y1Bj1OzkY+Lgl9Iim8UH5nx2tpQb4fpkCf4p5Uhmmol0I09sGPQyWaJwd/phWDDxcOPMI/QKelwVJAXiWrgzDzM6d3Z2QUyaOY3v1iM3+2ZeOTfXhpU7N+lxTUEOho2OifJMFG7SYZtMm+TZtXArZvetBQrLAhbIhWV5m29SLZCRQM6Nf5xUq9vEkm6BXPnI+TlnmewSmjnW+G2y87Hp5Y8F3PUWloMvkGmxTAJMcUVZTDkog9lnayUaFshunXmAbCoZMANi93xiNIqeVUvKQJnYmidypoxZY9qjVLQAdWZ+Yfp5gGxaYy5ivjDqwhSdeYQa9bJkov6AmIdSP//8s/r/Nz28lvAA2URJlwFRsh/oGPvYbcFYACCbByJhOWbkrEWYQWxYNC3gaZH1i/Xy+BHfOC9PsqJpDqt1VC3gAfLJJ58sjz5xLcz6ragWzuqdORbwAJmimymPzDGDLWnULeDrI9vpqahXa+bp7wvkzDODLXHULWCBHPUatPqLBSyQLRDSwgIWyGlRjbYQFsgWA2lhAQvktKhGWwgLZIuBtLCABXJaVKMtRMoCGcoqaKxgH3IzYea0yuB8gKa2IBiLIMw2/GdwtZEvbJlW8t8CKQlk6FTr168vBCCvvPKK6tmzZ4xmNqcmgaIJUkRD6ZrT63MSn09okRfCi/zsQ4FrJf8tkHJAhmXyxhtvlB/E3y+++KIQbT/33HNKU4tmsQjAgTTFT3gRm1+Q8EIUBC+JJOyl/OymkSgPG553C6QckDUvrzBzav7gWOlatGgh1FDwpyEw1Fx99dXqjDPOEOpXPh1gXAfAedNNN0kYBHswP7oFMu6LL75YKLB46R7meT/RvMnCFA9d7IUXXpjlmyLZTcMvXXsufyyQckCGER1CPDfZH6+Uwq0MYJHBgwcr3pvW5NyKlhqaJsCLrF27Vj7hAMM7N0Xt2rXlPH/QcV2jP8wNjxufPOCTDXAMx7sdtLT9+vWTD8RAqAjnG/zJnM9uGrFM7U6BWCDlgAxLZ4UKFQILT4sLKyYt9gUXXKDOO+88+SQAAGaA+PrrrwtfHX41N4P760nvv/++cPny/RLi4ofjw/JtE7e89957cnNww1SsWFHIB9kHyNlNw52e3c9/C/i+j5z/2QbnAAUrsxTxK7jxd1kMC6k0ixH5jJgRw5JvvqkRtE6PD8sgsH8aYRUM3zThpjACu+fxxx8vdLDmHF86QswMil8a6bBY15Q3atuUAzKfYGDqChbN0047TexJdw5JuP7miNDP4mrwQRYDPqa4OMfqFnza+BbWVAo3CfEYRLpdFxNutoBYf0NFbhrDzM6nFEg/LA3IzK0UjgVSzrWA9xiQ4ePiB0PkjX8KyyPcyvAD4xpAwg248HWnTp0q39srUaKEfKvkww8/VFOmTJFZDjcLPoM2GCBJz6QNoTd5uMXEg7+ZzxvoD/rIl5b4rp8JS5SGOz27n/8WSDkg8+Hz2bNny9QYpN+QbLMcHPJvwhAY4xkQMnNx1VVXCf+xASwDOQAPMz7f1QB8RmhNIZkG6MxckDbp1KhRw0SRLfFgf+dGodUfNWqUfPARdyZRGrT4bok/dofZ/eRZoMCJvnOiOvPErOb2IwUnHcIRiMnjJRGxNu4LLTgELmHCPHKZMmV8icGzm0ZY+jYs3AJuXouUIvoOVztrqB9A3THCwhORSGf3s7RhxOPZTcOts93PHwuknGuRP8W0qaa7BSyQ072GM6R8FsgZUtHpXkwL5HSv4QwpnwVyhlR0uhfTAjndazhDymeBnCEVne7FtEBO9xrOkPJZIGdIRad7MS2Q072GM6R8FsgZUtHpXkwL5HSv4QwpnwVyhlR0uhfTAjndazhDymeBnCEVne7FDH+rvIBLz6JSCFmChCVOqfIOcN++fWVlCbwZUGVNnjxZwZBkpXAskFJAPnDggPC9YQqWN7EkiRXRrNdDWPqfGyBDEQD11ujRoyWdZPzBcAR1AeKmykpG2jaNnFsgpYBcqlQpIVyhGNBjNW7cWNbe1a1b11MyOCYAtVmqBN8Fy6LMR+BZImOEhaYrVqyQdYAmvgkzW+JDOeB3o0AAg5gbylxjt6ljgcj5yH50VXBgtGvXTnXv3l0sy4JTaAFY6XzDDTfIzcDyfpbzG24LdxWwWpqFpWeffbZiVTU9AUKvAMELvBl16tRRcFvQa1hJPQtECshBdFW0pg8//LDQZS1cuFBcCNbsQaLCaug777xTHXfccWrbtm2eFdP4t08++aS65557FPRY9ArGBRkyZIiCVHHx4sVq7ty5Em4IWlKvKjNbIw+QYetZsmSJtD6pZpowuipazP79+wto4YN78MEHhcOiaNGiih/L8osXL+5ZDY3LQUsMhQB8GsOGDRMqLVre5cuXi3sDrRZ8GrTa0HVZST0LeHxkKh2Wy5deeinltDVugR9dFfwTffr0URMmTBDiQsNClKgQ0GM1bNgwFq1SpUpCbggxC5QCkI0vWrQoFm55KmKmSKkdD5BpeVhmH8QlUZjah9FVodeYMWNksAbg6VVat26dUF3osYxPTGRmI6DcAtyAFq5mbhArqW0Bj2tBixw0si/sooTRVUEhC9cxLgUDNHjiDEk3MxEAdM+ePR5y75YtW6r169cLLRbhXDdy5Eghb2natKl6WlPX4n4wS3L33XeLP13YdrD5ey3gC2Smsng4UZhiptHcOgTRVVWuXFk4k3lgAhUWXMn0KMOHD5fLuQEY7NHKQo7ols6dOwv1FgAmnAEhgz9aY2YzoNSCU5nvgTBjYlr5eBcj/tidh93Pfwt4KLM+1yN3ulZG6ZBgB1G05r9q4TnklK7KcRzhgQtiDuLm5QGH3zwyDzy4PhF7UbjGNjQ3Fsg1ZRbTS/iXzZo1y02+BXaNH+DCMqfFDAIx1+FOBaUZRs0VlqcNKzgLeFwL/EGeqDEdZcVaICoW8Mxa8DSMFsj6fFGpQqsnFvC0yNYs1gJRtIAFchRrzerssYAFssck9kQULWCBHMVaszp7LGCB7DGJPRFFC1ggR7HWrM4eC1gge0xiT0TRAhbIUaw1q7PHAhbIHpPYE1G0gAVyFGvN6uyxgAWyxyT2RBQtYIEcxVqzOnssYIHsMYk9EUULpCyQt2zZoiZOnKhY3m+WLCXTwMuWLVPvvfdeMpNUnTp1UtOmTUtqmvGJsbiWD8kXhrCYgZUyGzduVO79wtAlPk/Pa5zxEQr6GFKU9u3by/o6lt+zNIllTwAEopTcykMPPaSqVq0ae88ayoBq1apJxeQ2zfjruOHMx9zjw5J1TPoQ0BSGQISzb98+BT2Ce78wdInPM+Va5ClTpggpysqVK9XMmTPVunXrFCudAaJboLEyVFbu8+xz3r3mkGVMkK/QyhsqrUmTJqk77rgjy6VUzt69e7Oc44DrEUCUHaCSR1AvQhhg8BMACkj8BL2MHvHhfmlSFs7zY1FtkMTbyh2PBbdBebrjpcJ+ygG5WLFiqkiRIjEON5YgjRo1SrVp00bsFUZjxUppKK/g5YAvDqZM1ttBlcVK6alTp6oWLVpIOt26dRNKLVMJ48ePF5otiBKh28L1QLZu3SrXQ/5Cj0AYzEVBwgobehLidezYUe3evTsWlZuH83TPrMIhbWT79u2KhbMQxfAbNGiQrBEk7HPNdMSCWvSChAbSGLcEpTl27FhZTNugQQPVvHlz9yWy72crQwfmR0vmSSDFTvgCmcoHMIUhXbt2lRUqGB8aLCqSyuU8EkZjxeppfDdosGbPni3L+KGpBSik0atXL1/qV9YoQiMwcOBAxZpFaAAGDBigvvrqq5gJcG9Wr14t1FrPPvtsFoDGIukdriGcGwHdodtCDBvoiBEj1Jo1axQrvxkDIEOHDpX1hNxs0A/MmzdP9CCMFd0sfJ01a5aQ5rjrJSxNrqHlh/7Wj2zHz1aQ0QTRkh08eBB1UlZ8gWy4HApD65IlSyrcii5duohr0aRJE3XdddfJCme6yyAaKwwNQGhpafVoPXFHWPkMNQCtPJwdtPjxsnTpUlktzrL/KlWqCFjpkgGKkcGDB6uKFSuKXqSDy+MnECnSIteqVUs1atQoFg9gV69eXdLH7SBs1apV4mviQk2fPl3cEdyLChUqyEp20ocSF1sQnzQZPxgJS5M4tWvXFnKZGjVqmEtkG2arMFqyLImk2IHvYG/Xrl0KABWWAGb8V1wDWkv4KdiHewIf1Y/Gii6cCnIPCOmSsyM7duwQ8Jm45E+LCQ+eEbOGEVeHH0D3EzcfB6xN9G4IvQIttJu1iHRowTds2CCModDWAjrobWlR8VHxb3Ep/CQsTeIbneOvDbOV6SX8aMm4MVJVPEDGP8J/ChpI5XdB8EUNmSAtX4cOHaSi58+fr8qWLRtIY0WXS8Vt3rxZWmT0hGwFrgp80jAhPwaCRig/oKMFTZaUL19eboB4Rn5uiFatWqkePXqI20R+bdu2lWwhpIGLDsBCMhMvQWnGx4s/hqwmyFZhtGRBA9j49Avj2ONazJkzRwxufLuCVgrwMNWGT0jLwWwD7kT9+vWFTTOIxgqmzYsuukjNmDFD5oeZtuvdu3dscFS6dGkFYSGtXbxws2zatEn80Z07dyr8WFaSZ5cIMT49v2MYimh58XkBxIIFC8Rnx12CbwPSRPJm1oabyrTk9Cr43Pjn6EhvZCQozaDewlwXZqswWjJzfUpuD5Yr57h/esLd0dSqjibGdrRBdQ9XsKIrwdEjbqdevXqO7t4dPfvg6FG8o7t5UURPQzm69XL0nLCj/VlH+4yO7p4lTHfDjubjkOs01ZWjSb4d7YpImL4xHd01OtrXlGM9eHQ0l5vs8/fII484NWvWlGv1zeJo4EiYviHknHa3YnG1r+poQMWOzY52x5xx48aZQ0e7Q47moZNjDVhHD16dU045JVYu/bBHwrSP7uhZDDmvgevoga7Ts2dPCdMAd/SMhoSRr54JcTSAE6apB6+OnumReH5/Ybai7Jo+TPLEJtrNc7Tb5uzfv1/OrV27Nsu+X/rJOqen/xzdqzr6CwZZcOrGLPseyqx79MCKBwUwwNNyFCZlFgMf2H/8fD1aLG0sXxor3CIGd7Q8bgm7hni0ZIzay5Qp474sqfvkgevix3pEeYPypi7oVShXvISlGR83/jjIVsTLKS1ZfNrJOKZsuI3oUsHnExwmDw+QO+p5R0b5/JjqKkwgGyXtNnMtkF0gewZ7XNivX78sI/bMNaMteVQs4BnsMe9KK8xUlhVrgahYwAPkE088UXR3P9WKSmGsnplrAY+P/MU778RIDAt7sJe51WJLbiyQXR/Z0yKbBOzWWiBKFrBAjlJtWV0DLWCBHGgaGxAlC1ggR6m2rK6BFrBADjSNDYiSBSyQo1RbVtdAC1ggB5rGBkTJAhbIUaotq2ugBSyQA01jA6JkAc9LQ/HK+y2Pj49jj60F8ssCPNmD2oFXXyuEZJIQyCyLsWItUFgWMI+oWfYWJta1CLOODYuMBSyQI1NVVtEwC1ggh1nHhkXGAhbIkakqq2iYBSyQw6xjwyJjAQvkyFSVVTTMAr7Tbyybd1M/hSVgw6wFUsECnqVOqaCU1cFaIKcWsK5FTi1m46ekBSyQU7JarFI5tYAFck4tZuOnpAX+D3q8wj1U5pnqAAAAAElFTkSuQmCC)\n",
        "\n",
        "Or by hovering your mouse over to the bottom of a cell and selecting **+ Text**:\n",
        "\n",
        "![Screen Shot 2020-11-29 at 5.08.27 PM.png](data:image/png;base64,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)"
      ]
    },
    {
      "cell_type": "markdown",
      "metadata": {
        "id": "zNN9GudI_8Yt"
      },
      "source": [
        "You may edit an existing text cell by just double-clicking on one and editing the code. You can also have as many text cells as you want, cells that comprise technically any word length. Depending on what purpose it needs to serve, such cells may be a description of a data pipeline, or a list of external links (like the ones you'll see at the end of this notebook). "
      ]
    },
    {
      "cell_type": "markdown",
      "metadata": {
        "id": "0HTjUVzCt3MC"
      },
      "source": [
        "#### Exercise 7: Write a very UW Text cell\n",
        "\n",
        "Create a simple text cell that reads the official tagline of UW (hint: https://www.washington.edu/brand/brand-guide/tagline/)\n",
        "\n"
      ]
    },
    {
      "cell_type": "markdown",
      "metadata": {
        "id": "YJXux9yineAT"
      },
      "source": [
        "<i>text cell for exercise 7</i>\n",
        "\n",
        "Be Boundless\n",
        "\n"
      ]
    },
    {
      "cell_type": "markdown",
      "metadata": {
        "id": "T871RhLjtHPu"
      },
      "source": [
        "#### 1.2.3.3 Markdown for text cells\n"
      ]
    },
    {
      "cell_type": "markdown",
      "metadata": {
        "id": "dR3YaMlY9X5E"
      },
      "source": [
        "Text cells support Markdown syntax, which is a way to render and format plain text, in addition to giving us more control to structure this text beyond just visually. Markdown is optional and enables you to transform and annotate text within a webpage or here in a Jupyter notebook. **_For text cells, using Markdown improves readability, as a set of formatting conventions that's easy to learn and write_**.\n",
        "\n",
        "*Markdown is a superset of HTML. Discussing HTML is beyond the scope of this session, but there are links to read more about this, later in the notebook.*"
      ]
    },
    {
      "cell_type": "markdown",
      "metadata": {
        "id": "33UpEt-Exv2Y"
      },
      "source": [
        "#### Exercise 8: Discover some Markdown syntax\n",
        "\n",
        "Create a new text cell below with the UW official tagline like before, only this time play around with:\n",
        "\n",
        "* `#####` at the beginning of the first line (hit enter after)\n",
        "* `**` surounding portions of the text\n",
        "* `*` surounding portions of the text\n",
        "* `>` on a new line for the last line (hit enter before)"
      ]
    },
    {
      "cell_type": "markdown",
      "metadata": {
        "id": "T-YkVEsrDcbB"
      },
      "source": [
        "*text cell for exercise 8*\n",
        "\n",
        "### Be Boundless\n",
        "**Be Boundless**\n",
        "*Be Boundless*\n",
        "***Be Boundless***"
      ]
    },
    {
      "cell_type": "markdown",
      "metadata": {
        "id": "NFBmI-y4ualV"
      },
      "source": [
        "Later in the Breakout section, you'll learn more formatting syntax with Markdown. We also recommend trying out Markdown on a blank new Jupyter notebook for you to experiment with the all the different formatting this markup language has to offer. There is much more to discover with Markdown, and the References section of this notebook gives you a list of resources to learn more."
      ]
    },
    {
      "cell_type": "markdown",
      "metadata": {
        "id": "Zm7N-pX_2WM5"
      },
      "source": [
        "#### Exercise 9: Always double check the type of cell you're running"
      ]
    },
    {
      "cell_type": "code",
      "metadata": {
        "id": "KbNR7Cbd2UT-"
      },
      "source": [
        "# It can be easy to mistakenly write something in a code cell, when you actually\n",
        "# wanted a text cell instead. For example... what happens when you hit the Play\n",
        "# button on this particular cell?"
      ],
      "execution_count": null,
      "outputs": []
    },
    {
      "cell_type": "markdown",
      "metadata": {
        "id": "yVIfyMep_VZx"
      },
      "source": [
        "### 1.2.4 Other details on Jupyter Notebooks\n",
        "\n",
        "- Jupyter Notebooks (.ipynb) don't just work with web browsers\n",
        "    - There are IDEs such as **[Visual Studio Code](https://code.visualstudio.com)** that have extensions which allow you to create and these .ipynb files right on the editor.\n",
        "- Python isn't the only language supported by Jupyter, as you can also run notebooks with R and Julia as well, by adding specific computing engines for them.\n",
        "- Notebooks - both in Jupyter and Google Colab - can integrate directly with GitHub repositories\n",
        "  - we are doing this with our Jupyter Hub!\n",
        "  - [link to GitHub](https://github.com/wesleybeckner/ds_for_engineers)"
      ]
    },
    {
      "cell_type": "markdown",
      "metadata": {
        "id": "v4q1c1N60M7Z"
      },
      "source": [
        "### 1.2.5 ...So what does this have to do with Jupyter Hub?"
      ]
    },
    {
      "cell_type": "markdown",
      "metadata": {
        "id": "Do_o5N4M88kv"
      },
      "source": [
        "**[Jupyter Hub](https://jupyter.org/hub)** is based on Jupyter Notebook. Both the notebook platform and the development machine are hosted on the cloud provided by UW IT - no need to install Python or external libraries locally on your computer! \n",
        "\n",
        "We'll be using Jupyter Hub for these courses. That includes all exercises and projects. "
      ]
    },
    {
      "cell_type": "markdown",
      "metadata": {
        "id": "GzBaBW8W457D"
      },
      "source": [
        "Jupyter Hub comes with [pre-configured images](https://jupyter-docker-stacks.readthedocs.io/en/latest/using/selecting.html) with Python libraries pre-installed. We are on the tensor-flow image of Jupyter Hub. You've seen examples of these used already! Some of the most popular scientific libraries include:\n",
        "- NumPy\n",
        "- SciPy\n",
        "- Pandas\n",
        "- Scikit-Learn\n",
        "- TensorFlow\n",
        "- Matplotlib\n",
        "\n",
        "To view the full list of installed packages, run the following command:"
      ]
    },
    {
      "cell_type": "code",
      "metadata": {
        "colab": {
          "base_uri": "https://localhost:8080/"
        },
        "id": "VGCdLMtb9ivO",
        "outputId": "20b864ef-58ef-41d6-e867-8996a7801b96"
      },
      "source": [
        "!pip freeze"
      ],
      "execution_count": null,
      "outputs": [
        {
          "output_type": "stream",
          "text": [
            "absl-py==0.12.0\n",
            "alabaster==0.7.12\n",
            "albumentations==0.1.12\n",
            "altair==4.1.0\n",
            "appdirs==1.4.4\n",
            "argon2-cffi==20.1.0\n",
            "arviz==0.11.2\n",
            "astor==0.8.1\n",
            "astropy==4.2.1\n",
            "astunparse==1.6.3\n",
            "async-generator==1.10\n",
            "atari-py==0.2.9\n",
            "atomicwrites==1.4.0\n",
            "attrs==21.2.0\n",
            "audioread==2.1.9\n",
            "autograd==1.3\n",
            "Babel==2.9.1\n",
            "backcall==0.2.0\n",
            "beautifulsoup4==4.6.3\n",
            "bleach==3.3.0\n",
            "blis==0.4.1\n",
            "bokeh==2.3.3\n",
            "Bottleneck==1.3.2\n",
            "branca==0.4.2\n",
            "bs4==0.0.1\n",
            "CacheControl==0.12.6\n",
            "cached-property==1.5.2\n",
            "cachetools==4.2.2\n",
            "catalogue==1.0.0\n",
            "certifi==2021.5.30\n",
            "cffi==1.14.6\n",
            "cftime==1.5.0\n",
            "chardet==3.0.4\n",
            "charset-normalizer==2.0.2\n",
            "click==7.1.2\n",
            "cloudpickle==1.3.0\n",
            "cmake==3.12.0\n",
            "cmdstanpy==0.9.5\n",
            "colorcet==2.0.6\n",
            "colorlover==0.3.0\n",
            "community==1.0.0b1\n",
            "contextlib2==0.5.5\n",
            "convertdate==2.3.2\n",
            "coverage==3.7.1\n",
            "coveralls==0.5\n",
            "crcmod==1.7\n",
            "cufflinks==0.17.3\n",
            "cvxopt==1.2.6\n",
            "cvxpy==1.0.31\n",
            "cycler==0.10.0\n",
            "cymem==2.0.5\n",
            "Cython==0.29.23\n",
            "daft==0.0.4\n",
            "dask==2.12.0\n",
            "datascience==0.10.6\n",
            "debugpy==1.0.0\n",
            "decorator==4.4.2\n",
            "defusedxml==0.7.1\n",
            "descartes==1.1.0\n",
            "dill==0.3.4\n",
            "distributed==1.25.3\n",
            "dlib @ file:///dlib-19.18.0-cp37-cp37m-linux_x86_64.whl\n",
            "dm-tree==0.1.6\n",
            "docopt==0.6.2\n",
            "docutils==0.17.1\n",
            "dopamine-rl==1.0.5\n",
            "earthengine-api==0.1.272\n",
            "easydict==1.9\n",
            "ecos==2.0.7.post1\n",
            "editdistance==0.5.3\n",
            "en-core-web-sm @ https://github.com/explosion/spacy-models/releases/download/en_core_web_sm-2.2.5/en_core_web_sm-2.2.5.tar.gz\n",
            "entrypoints==0.3\n",
            "ephem==4.0.0.2\n",
            "et-xmlfile==1.1.0\n",
            "fa2==0.3.5\n",
            "fastai==1.0.61\n",
            "fastdtw==0.3.4\n",
            "fastprogress==1.0.0\n",
            "fastrlock==0.6\n",
            "fbprophet==0.7.1\n",
            "feather-format==0.4.1\n",
            "filelock==3.0.12\n",
            "firebase-admin==4.4.0\n",
            "fix-yahoo-finance==0.0.22\n",
            "Flask==1.1.4\n",
            "flatbuffers==1.12\n",
            "folium==0.8.3\n",
            "future==0.16.0\n",
            "gast==0.4.0\n",
            "GDAL==2.2.2\n",
            "gdown==3.6.4\n",
            "gensim==3.6.0\n",
            "geographiclib==1.52\n",
            "geopy==1.17.0\n",
            "gin-config==0.4.0\n",
            "glob2==0.7\n",
            "google==2.0.3\n",
            "google-api-core==1.26.3\n",
            "google-api-python-client==1.12.8\n",
            "google-auth==1.32.1\n",
            "google-auth-httplib2==0.0.4\n",
            "google-auth-oauthlib==0.4.4\n",
            "google-cloud-bigquery==1.21.0\n",
            "google-cloud-bigquery-storage==1.1.0\n",
            "google-cloud-core==1.0.3\n",
            "google-cloud-datastore==1.8.0\n",
            "google-cloud-firestore==1.7.0\n",
            "google-cloud-language==1.2.0\n",
            "google-cloud-storage==1.18.1\n",
            "google-cloud-translate==1.5.0\n",
            "google-colab @ file:///colabtools/dist/google-colab-1.0.0.tar.gz\n",
            "google-pasta==0.2.0\n",
            "google-resumable-media==0.4.1\n",
            "googleapis-common-protos==1.53.0\n",
            "googledrivedownloader==0.4\n",
            "graphviz==0.10.1\n",
            "greenlet==1.1.0\n",
            "grpcio==1.34.1\n",
            "gspread==3.0.1\n",
            "gspread-dataframe==3.0.8\n",
            "gym==0.17.3\n",
            "h5py==3.1.0\n",
            "HeapDict==1.0.1\n",
            "hijri-converter==2.1.3\n",
            "holidays==0.10.5.2\n",
            "holoviews==1.14.4\n",
            "html5lib==1.0.1\n",
            "httpimport==0.5.18\n",
            "httplib2==0.17.4\n",
            "httplib2shim==0.0.3\n",
            "humanize==0.5.1\n",
            "hyperopt==0.1.2\n",
            "ideep4py==2.0.0.post3\n",
            "idna==2.10\n",
            "imageio==2.4.1\n",
            "imagesize==1.2.0\n",
            "imbalanced-learn==0.4.3\n",
            "imblearn==0.0\n",
            "imgaug==0.2.9\n",
            "importlib-metadata==4.6.1\n",
            "importlib-resources==5.2.0\n",
            "imutils==0.5.4\n",
            "inflect==2.1.0\n",
            "iniconfig==1.1.1\n",
            "install==1.3.4\n",
            "intel-openmp==2021.3.0\n",
            "intervaltree==2.1.0\n",
            "ipykernel==4.10.1\n",
            "ipython==5.5.0\n",
            "ipython-genutils==0.2.0\n",
            "ipython-sql==0.3.9\n",
            "ipywidgets==7.6.3\n",
            "itsdangerous==1.1.0\n",
            "jax==0.2.17\n",
            "jaxlib @ https://storage.googleapis.com/jax-releases/cuda110/jaxlib-0.1.69+cuda110-cp37-none-manylinux2010_x86_64.whl\n",
            "jdcal==1.4.1\n",
            "jedi==0.18.0\n",
            "jieba==0.42.1\n",
            "Jinja2==2.11.3\n",
            "joblib==1.0.1\n",
            "jpeg4py==0.1.4\n",
            "jsonschema==2.6.0\n",
            "jupyter==1.0.0\n",
            "jupyter-client==5.3.5\n",
            "jupyter-console==5.2.0\n",
            "jupyter-core==4.7.1\n",
            "jupyterlab-pygments==0.1.2\n",
            "jupyterlab-widgets==1.0.0\n",
            "kaggle==1.5.12\n",
            "kapre==0.3.5\n",
            "Keras==2.4.3\n",
            "keras-nightly==2.5.0.dev2021032900\n",
            "Keras-Preprocessing==1.1.2\n",
            "keras-vis==0.4.1\n",
            "kiwisolver==1.3.1\n",
            "korean-lunar-calendar==0.2.1\n",
            "librosa==0.8.1\n",
            "lightgbm==2.2.3\n",
            "llvmlite==0.34.0\n",
            "lmdb==0.99\n",
            "LunarCalendar==0.0.9\n",
            "lxml==4.2.6\n",
            "Markdown==3.3.4\n",
            "MarkupSafe==2.0.1\n",
            "matplotlib==3.2.2\n",
            "matplotlib-inline==0.1.2\n",
            "matplotlib-venn==0.11.6\n",
            "missingno==0.5.0\n",
            "mistune==0.8.4\n",
            "mizani==0.6.0\n",
            "mkl==2019.0\n",
            "mlxtend==0.14.0\n",
            "more-itertools==8.8.0\n",
            "moviepy==0.2.3.5\n",
            "mpmath==1.2.1\n",
            "msgpack==1.0.2\n",
            "multiprocess==0.70.12.2\n",
            "multitasking==0.0.9\n",
            "murmurhash==1.0.5\n",
            "music21==5.5.0\n",
            "natsort==5.5.0\n",
            "nbclient==0.5.3\n",
            "nbconvert==5.6.1\n",
            "nbformat==5.1.3\n",
            "nest-asyncio==1.5.1\n",
            "netCDF4==1.5.7\n",
            "networkx==2.5.1\n",
            "nibabel==3.0.2\n",
            "nltk==3.2.5\n",
            "notebook==5.3.1\n",
            "numba==0.51.2\n",
            "numexpr==2.7.3\n",
            "numpy==1.19.5\n",
            "nvidia-ml-py3==7.352.0\n",
            "oauth2client==4.1.3\n",
            "oauthlib==3.1.1\n",
            "okgrade==0.4.3\n",
            "opencv-contrib-python==4.1.2.30\n",
            "opencv-python==4.1.2.30\n",
            "openpyxl==2.5.9\n",
            "opt-einsum==3.3.0\n",
            "osqp==0.6.2.post0\n",
            "packaging==21.0\n",
            "palettable==3.3.0\n",
            "pandas==1.1.5\n",
            "pandas-datareader==0.9.0\n",
            "pandas-gbq==0.13.3\n",
            "pandas-profiling==1.4.1\n",
            "pandocfilters==1.4.3\n",
            "panel==0.11.3\n",
            "param==1.11.1\n",
            "parso==0.8.2\n",
            "pathlib==1.0.1\n",
            "patsy==0.5.1\n",
            "pexpect==4.8.0\n",
            "pickleshare==0.7.5\n",
            "Pillow==7.1.2\n",
            "pip-tools==4.5.1\n",
            "plac==1.1.3\n",
            "plotly==4.4.1\n",
            "plotnine==0.6.0\n",
            "pluggy==0.7.1\n",
            "pooch==1.4.0\n",
            "portpicker==1.3.9\n",
            "prefetch-generator==1.0.1\n",
            "preshed==3.0.5\n",
            "prettytable==2.1.0\n",
            "progressbar2==3.38.0\n",
            "prometheus-client==0.11.0\n",
            "promise==2.3\n",
            "prompt-toolkit==1.0.18\n",
            "protobuf==3.17.3\n",
            "psutil==5.4.8\n",
            "psycopg2==2.7.6.1\n",
            "ptyprocess==0.7.0\n",
            "py==1.10.0\n",
            "pyarrow==3.0.0\n",
            "pyasn1==0.4.8\n",
            "pyasn1-modules==0.2.8\n",
            "pycocotools==2.0.2\n",
            "pycparser==2.20\n",
            "pyct==0.4.8\n",
            "pydata-google-auth==1.2.0\n",
            "pydot==1.3.0\n",
            "pydot-ng==2.0.0\n",
            "pydotplus==2.0.2\n",
            "PyDrive==1.3.1\n",
            "pyemd==0.5.1\n",
            "pyerfa==2.0.0\n",
            "pyglet==1.5.0\n",
            "Pygments==2.6.1\n",
            "pygobject==3.26.1\n",
            "pymc3==3.11.2\n",
            "PyMeeus==0.5.11\n",
            "pymongo==3.11.4\n",
            "pymystem3==0.2.0\n",
            "PyOpenGL==3.1.5\n",
            "pyparsing==2.4.7\n",
            "pyrsistent==0.18.0\n",
            "pysndfile==1.3.8\n",
            "PySocks==1.7.1\n",
            "pystan==2.19.1.1\n",
            "pytest==3.6.4\n",
            "python-apt==0.0.0\n",
            "python-chess==0.23.11\n",
            "python-dateutil==2.8.1\n",
            "python-louvain==0.15\n",
            "python-slugify==5.0.2\n",
            "python-utils==2.5.6\n",
            "pytz==2018.9\n",
            "pyviz-comms==2.1.0\n",
            "PyWavelets==1.1.1\n",
            "PyYAML==3.13\n",
            "pyzmq==22.1.0\n",
            "qdldl==0.1.5.post0\n",
            "qtconsole==5.1.1\n",
            "QtPy==1.9.0\n",
            "regex==2019.12.20\n",
            "requests==2.23.0\n",
            "requests-oauthlib==1.3.0\n",
            "resampy==0.2.2\n",
            "retrying==1.3.3\n",
            "rpy2==3.4.5\n",
            "rsa==4.7.2\n",
            "scikit-image==0.16.2\n",
            "scikit-learn==0.22.2.post1\n",
            "scipy==1.4.1\n",
            "screen-resolution-extra==0.0.0\n",
            "scs==2.1.4\n",
            "seaborn==0.11.1\n",
            "semver==2.13.0\n",
            "Send2Trash==1.7.1\n",
            "setuptools-git==1.2\n",
            "Shapely==1.7.1\n",
            "simplegeneric==0.8.1\n",
            "six==1.15.0\n",
            "sklearn==0.0\n",
            "sklearn-pandas==1.8.0\n",
            "smart-open==5.1.0\n",
            "snowballstemmer==2.1.0\n",
            "sortedcontainers==2.4.0\n",
            "SoundFile==0.10.3.post1\n",
            "spacy==2.2.4\n",
            "Sphinx==1.8.5\n",
            "sphinxcontrib-serializinghtml==1.1.5\n",
            "sphinxcontrib-websupport==1.2.4\n",
            "SQLAlchemy==1.4.20\n",
            "sqlparse==0.4.1\n",
            "srsly==1.0.5\n",
            "statsmodels==0.10.2\n",
            "sympy==1.7.1\n",
            "tables==3.4.4\n",
            "tabulate==0.8.9\n",
            "tblib==1.7.0\n",
            "tensorboard==2.5.0\n",
            "tensorboard-data-server==0.6.1\n",
            "tensorboard-plugin-wit==1.8.0\n",
            "tensorflow @ file:///tensorflow-2.5.0-cp37-cp37m-linux_x86_64.whl\n",
            "tensorflow-datasets==4.0.1\n",
            "tensorflow-estimator==2.5.0\n",
            "tensorflow-gcs-config==2.5.0\n",
            "tensorflow-hub==0.12.0\n",
            "tensorflow-metadata==1.1.0\n",
            "tensorflow-probability==0.13.0\n",
            "termcolor==1.1.0\n",
            "terminado==0.10.1\n",
            "testpath==0.5.0\n",
            "text-unidecode==1.3\n",
            "textblob==0.15.3\n",
            "Theano-PyMC==1.1.2\n",
            "thinc==7.4.0\n",
            "tifffile==2021.7.2\n",
            "toml==0.10.2\n",
            "toolz==0.11.1\n",
            "torch @ https://download.pytorch.org/whl/cu102/torch-1.9.0%2Bcu102-cp37-cp37m-linux_x86_64.whl\n",
            "torchsummary==1.5.1\n",
            "torchtext==0.10.0\n",
            "torchvision @ https://download.pytorch.org/whl/cu102/torchvision-0.10.0%2Bcu102-cp37-cp37m-linux_x86_64.whl\n",
            "tornado==5.1.1\n",
            "tqdm==4.41.1\n",
            "traitlets==5.0.5\n",
            "tweepy==3.10.0\n",
            "typeguard==2.7.1\n",
            "typing-extensions==3.7.4.3\n",
            "tzlocal==1.5.1\n",
            "uritemplate==3.0.1\n",
            "urllib3==1.24.3\n",
            "vega-datasets==0.9.0\n",
            "wasabi==0.8.2\n",
            "wcwidth==0.2.5\n",
            "webencodings==0.5.1\n",
            "Werkzeug==1.0.1\n",
            "widgetsnbextension==3.5.1\n",
            "wordcloud==1.5.0\n",
            "wrapt==1.12.1\n",
            "xarray==0.18.2\n",
            "xgboost==0.90\n",
            "xkit==0.0.0\n",
            "xlrd==1.1.0\n",
            "xlwt==1.3.0\n",
            "yellowbrick==0.9.1\n",
            "zict==2.0.0\n",
            "zipp==3.5.0\n"
          ],
          "name": "stdout"
        }
      ]
    },
    {
      "cell_type": "markdown",
      "metadata": {
        "id": "OsUMuy1ME0SJ"
      },
      "source": [
        "*Note: the exclamation point syntax seen at the beginning of `!pip freeze` is for running Terminal/Shell commands directly within Jupyter notebooks. Terminal commands are outside of the scope of this session.*"
      ]
    },
    {
      "cell_type": "markdown",
      "metadata": {
        "id": "Tf69btkkY_st"
      },
      "source": [
        "## 1.3 Resources & Further Reading\n",
        "\n"
      ]
    },
    {
      "cell_type": "markdown",
      "metadata": {
        "id": "tIgdiuwWwaGO"
      },
      "source": [
        "This section serves as a reference for many other resources to learn more about what was introduced here. "
      ]
    },
    {
      "cell_type": "markdown",
      "metadata": {
        "id": "EGUFkpMtVICb"
      },
      "source": [
        "### Python vs Excel\n",
        "\n",
        "* [Python vs Excel](https://www.nobledesktop.com/learn/python/python-vs-excel)"
      ]
    },
    {
      "cell_type": "markdown",
      "metadata": {
        "id": "6TDxd6BY-t4j"
      },
      "source": [
        "### Python\n",
        "- [Official Python site - Python.org](https://www.python.org)\n",
        "- [Latest Python Language Reference/Documentation](https://docs.python.org/3/)\n",
        "- [Official Python 3 Tutorial from the Python Software Foundation](https://docs.python.org/3/tutorial/index.html)\n",
        "- [*Python Crash Course*, 2nd Edition by Eric Matthes](https://nostarch.com/pythoncrashcourse2e)\n",
        "- [*Python From The Very Beginning* by John Whitington](https://www.pythonfromtheverybeginning.com)\n",
        "- [*Python Data Science Handbook* by Jake VanderPlas (Free!)](https://jakevdp.github.io/PythonDataScienceHandbook/?utm_source=devfreebooks&utm_medium=medium&utm_campaign=DevFreeBooks)\n",
        "- [Simple Math in Python Notebook Excercises from UW DIRECT](https://github.com/UWDIRECT/UWDIRECT.github.io/blob/master/Wi20_content/SEDS/L2.Simple_Breakout.ipynb)"
      ]
    },
    {
      "cell_type": "markdown",
      "metadata": {
        "id": "7QUEexhooyDA"
      },
      "source": [
        "### Arithmetic Operators in Python\n",
        "\n",
        "Below is a reference table for many of the arithmetic operators you can use with Python, some of which we've already went over:\n",
        "\n",
        "| Symbol | Operation      | Example Code | Expected Ouput      |\n",
        "| ------ | ---------      | -------      | ------------------- |\n",
        "| +      | Addition       | `5 + 5`      | 10                  |\n",
        "| \\-     | Subtraction    | `8 - 3`      | 5                   |\n",
        "| \\*     | Multiplication | `9 * 6`      | 54                  |\n",
        "| \\*\\*   | Exponentiation | `3 ** 2`     | 9                   |\n",
        "| \\/     | Floating-point Division | `9 / 2` | 4.5             |\n",
        "| \\/\\/   | Truncating Division | `9 // 2`| 4                   |\n",
        "| \\%     | Remainder (modulus) | `12 % 5`| 2                   |\n"
      ]
    },
    {
      "cell_type": "markdown",
      "metadata": {
        "id": "7VNe46YIngyz"
      },
      "source": [
        "### Jupyter Notebook\n",
        "\n",
        "- [Project Jupyter - Official Jupyter Website](https://jupyter.org)\n",
        "- [*Read The Docs* - Jupyter Notebook User Documentation by the Official Jupyter Team](https://jupyter-notebook.readthedocs.io/en/stable/)\n",
        "- [*Jupyter Book* - Online open source book](https://jupyterbook.org/intro.html)"
      ]
    },
    {
      "cell_type": "markdown",
      "metadata": {
        "id": "OKa2Vm5Ovb8p"
      },
      "source": [
        "### Markdown\n",
        "\n",
        "- [Google Colab Guide on Markdown](https://colab.research.google.com/notebooks/markdown_guide.ipynb)\n",
        "- [Markdown Guide (From Technical Writer Mark Cone)](https://www.markdownguide.org)\n",
        "- [Jupyter Notebook Docs - Markdown Basics](https://jupyter-notebook.readthedocs.io/en/stable/examples/Notebook/Working%20With%20Markdown%20Cells.html)\n",
        "- [Markdown versus HTML (Google Developers Doc)](https://developers.google.com/style/markdown)\n"
      ]
    }
  ]
}